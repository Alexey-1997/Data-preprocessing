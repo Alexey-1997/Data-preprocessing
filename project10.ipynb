{
 "cells": [
  {
   "cell_type": "markdown",
   "metadata": {},
   "source": [
    "# Проект SQL"
   ]
  },
  {
   "cell_type": "markdown",
   "metadata": {},
   "source": [
    "**Цель исследования** \n",
    "Проанализировать базу данных купленного сервиса по чтению книг по подписке с целью свформулировать ценностное предложение для нового продукта.\n",
    "\n",
    "**Задачи**\n",
    "\n",
    "- Посчитайте, сколько книг вышло после 1 января 2000 года;\n",
    "- Для каждой книги посчитайте количество обзоров и среднюю оценку;\n",
    "- Определите издательство, которое выпустило наибольшее число книг толще 50 страниц — так вы исключите из анализа брошюры;\n",
    "- Определите автора с самой высокой средней оценкой книг — учитывайте только книги с 50 и более оценками;\n",
    "- Посчитайте среднее количество обзоров от пользователей, которые поставили больше 50 оценок.\n"
   ]
  },
  {
   "cell_type": "markdown",
   "metadata": {},
   "source": [
    "## Посчитайте, сколько книг вышло после 1 января 2000 года"
   ]
  },
  {
   "cell_type": "code",
   "execution_count": 1,
   "metadata": {},
   "outputs": [],
   "source": [
    "# импортируем библиотеки\n",
    "import pandas as pd\n",
    "from sqlalchemy import create_engine\n",
    "# устанавливаем параметры\n",
    "db_config = {'user': 'praktikum_student', # имя пользователя\n",
    "'pwd': 'Sdf4$2;d-d30pp', # пароль\n",
    "'host': 'rc1b-wcoijxj3yxfsf3fs.mdb.yandexcloud.net',\n",
    "'port': 6432, # порт подключения\n",
    "'db': 'data-analyst-final-project-db'} # название базы данных\n",
    "connection_string = 'postgresql://{}:{}@{}:{}/{}'.format(db_config['user'],\n",
    " db_config['pwd'],\n",
    " db_config['host'],\n",
    " db_config['port'],\n",
    " db_config['db'])\n",
    "# сохраняем коннектор\n",
    "engine = create_engine(connection_string, connect_args={'sslmode':'require'})"
   ]
  },
  {
   "cell_type": "code",
   "execution_count": 2,
   "metadata": {},
   "outputs": [
    {
     "data": {
      "text/html": [
       "<div>\n",
       "<style scoped>\n",
       "    .dataframe tbody tr th:only-of-type {\n",
       "        vertical-align: middle;\n",
       "    }\n",
       "\n",
       "    .dataframe tbody tr th {\n",
       "        vertical-align: top;\n",
       "    }\n",
       "\n",
       "    .dataframe thead th {\n",
       "        text-align: right;\n",
       "    }\n",
       "</style>\n",
       "<table border=\"1\" class=\"dataframe\">\n",
       "  <thead>\n",
       "    <tr style=\"text-align: right;\">\n",
       "      <th></th>\n",
       "      <th>count</th>\n",
       "    </tr>\n",
       "  </thead>\n",
       "  <tbody>\n",
       "    <tr>\n",
       "      <th>0</th>\n",
       "      <td>819</td>\n",
       "    </tr>\n",
       "  </tbody>\n",
       "</table>\n",
       "</div>"
      ],
      "text/plain": [
       "   count\n",
       "0    819"
      ]
     },
     "execution_count": 2,
     "metadata": {},
     "output_type": "execute_result"
    }
   ],
   "source": [
    "query = '''\n",
    "SELECT COUNT(book_id)\n",
    "FROM books\n",
    "WHERE publication_date > '2000-01-01'\n",
    "''' \n",
    "# чтобы выполнить SQL-запрос, используем Pandas\n",
    "pd.io.sql.read_sql(query, con = engine)"
   ]
  },
  {
   "cell_type": "markdown",
   "metadata": {},
   "source": [
    "819 книг вышло после 1 января 2000 года"
   ]
  },
  {
   "cell_type": "markdown",
   "metadata": {},
   "source": [
    "## Для каждой книги посчитайте количество обзоров и среднюю оценку;"
   ]
  },
  {
   "cell_type": "code",
   "execution_count": 3,
   "metadata": {},
   "outputs": [
    {
     "data": {
      "text/html": [
       "<div>\n",
       "<style scoped>\n",
       "    .dataframe tbody tr th:only-of-type {\n",
       "        vertical-align: middle;\n",
       "    }\n",
       "\n",
       "    .dataframe tbody tr th {\n",
       "        vertical-align: top;\n",
       "    }\n",
       "\n",
       "    .dataframe thead th {\n",
       "        text-align: right;\n",
       "    }\n",
       "</style>\n",
       "<table border=\"1\" class=\"dataframe\">\n",
       "  <thead>\n",
       "    <tr style=\"text-align: right;\">\n",
       "      <th></th>\n",
       "      <th>book_id</th>\n",
       "      <th>title</th>\n",
       "      <th>count</th>\n",
       "      <th>avg</th>\n",
       "    </tr>\n",
       "  </thead>\n",
       "  <tbody>\n",
       "    <tr>\n",
       "      <th>0</th>\n",
       "      <td>1</td>\n",
       "      <td>'Salem's Lot</td>\n",
       "      <td>2.0</td>\n",
       "      <td>3.666667</td>\n",
       "    </tr>\n",
       "    <tr>\n",
       "      <th>1</th>\n",
       "      <td>2</td>\n",
       "      <td>1 000 Places to See Before You Die</td>\n",
       "      <td>1.0</td>\n",
       "      <td>2.500000</td>\n",
       "    </tr>\n",
       "    <tr>\n",
       "      <th>2</th>\n",
       "      <td>3</td>\n",
       "      <td>13 Little Blue Envelopes (Little Blue Envelope...</td>\n",
       "      <td>3.0</td>\n",
       "      <td>4.666667</td>\n",
       "    </tr>\n",
       "    <tr>\n",
       "      <th>3</th>\n",
       "      <td>4</td>\n",
       "      <td>1491: New Revelations of the Americas Before C...</td>\n",
       "      <td>2.0</td>\n",
       "      <td>4.500000</td>\n",
       "    </tr>\n",
       "    <tr>\n",
       "      <th>4</th>\n",
       "      <td>5</td>\n",
       "      <td>1776</td>\n",
       "      <td>4.0</td>\n",
       "      <td>4.000000</td>\n",
       "    </tr>\n",
       "    <tr>\n",
       "      <th>...</th>\n",
       "      <td>...</td>\n",
       "      <td>...</td>\n",
       "      <td>...</td>\n",
       "      <td>...</td>\n",
       "    </tr>\n",
       "    <tr>\n",
       "      <th>995</th>\n",
       "      <td>996</td>\n",
       "      <td>Wyrd Sisters (Discworld  #6; Witches #2)</td>\n",
       "      <td>3.0</td>\n",
       "      <td>3.666667</td>\n",
       "    </tr>\n",
       "    <tr>\n",
       "      <th>996</th>\n",
       "      <td>997</td>\n",
       "      <td>Xenocide (Ender's Saga  #3)</td>\n",
       "      <td>3.0</td>\n",
       "      <td>3.400000</td>\n",
       "    </tr>\n",
       "    <tr>\n",
       "      <th>997</th>\n",
       "      <td>998</td>\n",
       "      <td>Year of Wonders</td>\n",
       "      <td>4.0</td>\n",
       "      <td>3.200000</td>\n",
       "    </tr>\n",
       "    <tr>\n",
       "      <th>998</th>\n",
       "      <td>999</td>\n",
       "      <td>You Suck (A Love Story  #2)</td>\n",
       "      <td>2.0</td>\n",
       "      <td>4.500000</td>\n",
       "    </tr>\n",
       "    <tr>\n",
       "      <th>999</th>\n",
       "      <td>1000</td>\n",
       "      <td>Zen and the Art of Motorcycle Maintenance: An ...</td>\n",
       "      <td>4.0</td>\n",
       "      <td>3.833333</td>\n",
       "    </tr>\n",
       "  </tbody>\n",
       "</table>\n",
       "<p>1000 rows × 4 columns</p>\n",
       "</div>"
      ],
      "text/plain": [
       "     book_id                                              title  count  \\\n",
       "0          1                                       'Salem's Lot    2.0   \n",
       "1          2                 1 000 Places to See Before You Die    1.0   \n",
       "2          3  13 Little Blue Envelopes (Little Blue Envelope...    3.0   \n",
       "3          4  1491: New Revelations of the Americas Before C...    2.0   \n",
       "4          5                                               1776    4.0   \n",
       "..       ...                                                ...    ...   \n",
       "995      996           Wyrd Sisters (Discworld  #6; Witches #2)    3.0   \n",
       "996      997                        Xenocide (Ender's Saga  #3)    3.0   \n",
       "997      998                                    Year of Wonders    4.0   \n",
       "998      999                        You Suck (A Love Story  #2)    2.0   \n",
       "999     1000  Zen and the Art of Motorcycle Maintenance: An ...    4.0   \n",
       "\n",
       "          avg  \n",
       "0    3.666667  \n",
       "1    2.500000  \n",
       "2    4.666667  \n",
       "3    4.500000  \n",
       "4    4.000000  \n",
       "..        ...  \n",
       "995  3.666667  \n",
       "996  3.400000  \n",
       "997  3.200000  \n",
       "998  4.500000  \n",
       "999  3.833333  \n",
       "\n",
       "[1000 rows x 4 columns]"
      ]
     },
     "execution_count": 3,
     "metadata": {},
     "output_type": "execute_result"
    }
   ],
   "source": [
    "query1 = '''\n",
    "SELECT b.book_id,\n",
    "       b.title ,\n",
    "       re.count,\n",
    "       ra.avg\n",
    "FROM books AS b\n",
    "LEFT JOIN (\n",
    "           SELECT COUNT(review_id) AS count, \n",
    "                  book_id\n",
    "           FROM reviews \n",
    "           GROUP BY book_id) AS re ON re.book_id = b.book_id\n",
    "LEFT JOIN (\n",
    "           SELECT AVG(rating) AS avg,\n",
    "                  book_id\n",
    "           FROM ratings \n",
    "           GROUP BY book_id\n",
    "           ORDER BY book_id) AS ra ON ra.book_id = b.book_id           \n",
    "\n",
    "''' \n",
    "# чтобы выполнить SQL-запрос, используем Pandas\n",
    "pd.io.sql.read_sql(query1, con = engine)"
   ]
  },
  {
   "cell_type": "markdown",
   "metadata": {},
   "source": [
    "Были посчитаны количество обзоров и средняя оценка для каждой книги"
   ]
  },
  {
   "cell_type": "markdown",
   "metadata": {},
   "source": [
    "## Определите издательство, которое выпустило наибольшее число книг толще 50 страниц — так вы исключите из анализа брошюры;"
   ]
  },
  {
   "cell_type": "code",
   "execution_count": 4,
   "metadata": {},
   "outputs": [
    {
     "data": {
      "text/html": [
       "<div>\n",
       "<style scoped>\n",
       "    .dataframe tbody tr th:only-of-type {\n",
       "        vertical-align: middle;\n",
       "    }\n",
       "\n",
       "    .dataframe tbody tr th {\n",
       "        vertical-align: top;\n",
       "    }\n",
       "\n",
       "    .dataframe thead th {\n",
       "        text-align: right;\n",
       "    }\n",
       "</style>\n",
       "<table border=\"1\" class=\"dataframe\">\n",
       "  <thead>\n",
       "    <tr style=\"text-align: right;\">\n",
       "      <th></th>\n",
       "      <th>publisher</th>\n",
       "      <th>publisher_id</th>\n",
       "    </tr>\n",
       "  </thead>\n",
       "  <tbody>\n",
       "    <tr>\n",
       "      <th>0</th>\n",
       "      <td>Penguin Books</td>\n",
       "      <td>212</td>\n",
       "    </tr>\n",
       "  </tbody>\n",
       "</table>\n",
       "</div>"
      ],
      "text/plain": [
       "       publisher  publisher_id\n",
       "0  Penguin Books           212"
      ]
     },
     "execution_count": 4,
     "metadata": {},
     "output_type": "execute_result"
    }
   ],
   "source": [
    "query2 = '''\n",
    "SELECT publisher,\n",
    "       publisher_id\n",
    "FROM publishers\n",
    "WHERE publisher_id IN (SELECT publisher_id\n",
    "FROM books\n",
    "WHERE num_pages > 50\n",
    "GROUP BY publisher_id \n",
    "ORDER BY COUNT(book_id) DESC\n",
    "LIMIT 1)\n",
    "''' \n",
    "# чтобы выполнить SQL-запрос, используем Pandas\n",
    "pd.io.sql.read_sql(query2, con = engine)"
   ]
  },
  {
   "cell_type": "markdown",
   "metadata": {},
   "source": [
    "Издательство выпустившее наибольшее количество книг - Penguin Books"
   ]
  },
  {
   "cell_type": "markdown",
   "metadata": {},
   "source": [
    "## Определите автора с самой высокой средней оценкой книг — учитывайте только книги с 50 и более оценками;"
   ]
  },
  {
   "cell_type": "code",
   "execution_count": 10,
   "metadata": {},
   "outputs": [
    {
     "data": {
      "text/html": [
       "<div>\n",
       "<style scoped>\n",
       "    .dataframe tbody tr th:only-of-type {\n",
       "        vertical-align: middle;\n",
       "    }\n",
       "\n",
       "    .dataframe tbody tr th {\n",
       "        vertical-align: top;\n",
       "    }\n",
       "\n",
       "    .dataframe thead th {\n",
       "        text-align: right;\n",
       "    }\n",
       "</style>\n",
       "<table border=\"1\" class=\"dataframe\">\n",
       "  <thead>\n",
       "    <tr style=\"text-align: right;\">\n",
       "      <th></th>\n",
       "      <th>avtor</th>\n",
       "      <th>avg</th>\n",
       "    </tr>\n",
       "  </thead>\n",
       "  <tbody>\n",
       "    <tr>\n",
       "      <th>0</th>\n",
       "      <td>J.K. Rowling/Mary GrandPré</td>\n",
       "      <td>4.283844</td>\n",
       "    </tr>\n",
       "  </tbody>\n",
       "</table>\n",
       "</div>"
      ],
      "text/plain": [
       "                        avtor       avg\n",
       "0  J.K. Rowling/Mary GrandPré  4.283844"
      ]
     },
     "execution_count": 10,
     "metadata": {},
     "output_type": "execute_result"
    }
   ],
   "source": [
    "query3 = '''\n",
    "SELECT fin.avtor,\n",
    "       AVG(fin.rat)\n",
    "FROM \n",
    "(SELECT a.author AS avtor,\n",
    "       COUNT(b.book_id) AS col,\n",
    "       AVG(r.rating) AS rat\n",
    "FROM ratings AS r\n",
    "LEFT JOIN books AS b ON b.book_id=r.book_id\n",
    "LEFT JOIN authors AS a ON a.author_id = b.author_id\n",
    "GROUP BY a.author, b.book_id\n",
    "HAVING COUNT(r.rating_id)>=50\n",
    "ORDER BY rat DESC) AS fin\n",
    "GROUP BY fin.avtor\n",
    "ORDER BY AVG(fin.rat) DESC\n",
    "LIMIT 1\n",
    "''' \n",
    "# чтобы выполнить SQL-запрос, используем Pandas\n",
    "pd.io.sql.read_sql(query3, con = engine)"
   ]
  },
  {
   "cell_type": "markdown",
   "metadata": {},
   "source": [
    "Автор с самой высокой средней оценкой книг является J.K. Rowling/Mary GrandPré с средним рейтингом 4,28"
   ]
  },
  {
   "cell_type": "markdown",
   "metadata": {},
   "source": [
    "## Посчитайте среднее количество обзоров от пользователей, которые поставили больше 50 оценок."
   ]
  },
  {
   "cell_type": "code",
   "execution_count": 6,
   "metadata": {},
   "outputs": [
    {
     "data": {
      "text/html": [
       "<div>\n",
       "<style scoped>\n",
       "    .dataframe tbody tr th:only-of-type {\n",
       "        vertical-align: middle;\n",
       "    }\n",
       "\n",
       "    .dataframe tbody tr th {\n",
       "        vertical-align: top;\n",
       "    }\n",
       "\n",
       "    .dataframe thead th {\n",
       "        text-align: right;\n",
       "    }\n",
       "</style>\n",
       "<table border=\"1\" class=\"dataframe\">\n",
       "  <thead>\n",
       "    <tr style=\"text-align: right;\">\n",
       "      <th></th>\n",
       "      <th>avg</th>\n",
       "    </tr>\n",
       "  </thead>\n",
       "  <tbody>\n",
       "    <tr>\n",
       "      <th>0</th>\n",
       "      <td>24.333333</td>\n",
       "    </tr>\n",
       "  </tbody>\n",
       "</table>\n",
       "</div>"
      ],
      "text/plain": [
       "         avg\n",
       "0  24.333333"
      ]
     },
     "execution_count": 6,
     "metadata": {},
     "output_type": "execute_result"
    }
   ],
   "source": [
    "query4 = '''\n",
    "SELECT\n",
    "    AVG(a.count)\n",
    "FROM\n",
    "    (\n",
    "    SELECT username,\n",
    "           COUNT(review_id) AS count\n",
    "    FROM reviews\n",
    "    WHERE username IN (\n",
    "                   SELECT username\n",
    "                   FROM ratings\n",
    "                   GROUP BY username\n",
    "                   HAVING COUNT(rating_id) > 50\n",
    "                   )\n",
    "    GROUP BY username) AS a\n",
    "\n",
    "\n",
    "''' \n",
    "# чтобы выполнить SQL-запрос, используем Pandas\n",
    "pd.io.sql.read_sql(query4, con = engine)"
   ]
  },
  {
   "cell_type": "markdown",
   "metadata": {},
   "source": [
    "Среднее количество обзоров, оставленных активными пользователями (оставившие более 50 оценок) состовляет чуть больше 24."
   ]
  },
  {
   "cell_type": "markdown",
   "metadata": {},
   "source": [
    "## Выводы"
   ]
  },
  {
   "cell_type": "markdown",
   "metadata": {},
   "source": [
    "В целом по данным можно сделать следующие выводы:\n",
    "\n",
    "- 819 книг вышло после 1 января 2000 года\n",
    "- Были посчитаны количество обзоров и средняя оценка для каждой книги\n",
    "- Издательство выпустившее наибольшее количество книг - Penguin Books\n",
    "- Автор с самой высокой средней оценкой книг является J.K. Rowling/Mary GrandPré с средним рейтингом 4,28\n",
    "- Среднее количество обзоров, оставленных активными пользователями (оставившие более 50 оценок) состовляет чуть больше 24"
   ]
  }
 ],
 "metadata": {
  "ExecuteTimeLog": [
   {
    "duration": 6825,
    "start_time": "2023-04-05T07:53:51.615Z"
   },
   {
    "duration": 89,
    "start_time": "2023-04-05T07:56:23.951Z"
   },
   {
    "duration": 13540,
    "start_time": "2023-04-05T10:49:09.295Z"
   },
   {
    "duration": 282,
    "start_time": "2023-04-05T10:49:22.837Z"
   },
   {
    "duration": 3,
    "start_time": "2023-04-05T11:14:02.489Z"
   },
   {
    "duration": 126,
    "start_time": "2023-04-05T12:03:52.152Z"
   },
   {
    "duration": 89,
    "start_time": "2023-04-05T12:05:22.016Z"
   },
   {
    "duration": 124,
    "start_time": "2023-04-05T12:05:31.996Z"
   },
   {
    "duration": 88,
    "start_time": "2023-04-05T12:05:59.043Z"
   },
   {
    "duration": 130,
    "start_time": "2023-04-05T12:07:38.194Z"
   },
   {
    "duration": 93,
    "start_time": "2023-04-05T12:08:33.915Z"
   },
   {
    "duration": 95,
    "start_time": "2023-04-05T12:09:18.980Z"
   },
   {
    "duration": 91,
    "start_time": "2023-04-05T12:10:03.247Z"
   },
   {
    "duration": 102,
    "start_time": "2023-04-05T12:11:34.626Z"
   },
   {
    "duration": 281,
    "start_time": "2023-04-05T12:21:17.419Z"
   },
   {
    "duration": 77,
    "start_time": "2023-04-05T12:23:27.450Z"
   },
   {
    "duration": 104,
    "start_time": "2023-04-05T12:25:03.609Z"
   },
   {
    "duration": 104,
    "start_time": "2023-04-05T12:25:34.687Z"
   },
   {
    "duration": 107,
    "start_time": "2023-04-05T12:25:52.974Z"
   },
   {
    "duration": 103,
    "start_time": "2023-04-05T12:26:07.081Z"
   },
   {
    "duration": 115,
    "start_time": "2023-04-05T12:26:22.594Z"
   },
   {
    "duration": 408,
    "start_time": "2023-04-05T12:27:37.225Z"
   },
   {
    "duration": 78,
    "start_time": "2023-04-05T12:27:56.786Z"
   },
   {
    "duration": 77,
    "start_time": "2023-04-05T12:28:24.931Z"
   },
   {
    "duration": 78,
    "start_time": "2023-04-05T12:28:30.740Z"
   },
   {
    "duration": 76,
    "start_time": "2023-04-05T12:28:48.674Z"
   },
   {
    "duration": 76,
    "start_time": "2023-04-05T12:31:04.620Z"
   },
   {
    "duration": 78,
    "start_time": "2023-04-05T12:35:13.267Z"
   },
   {
    "duration": 184,
    "start_time": "2023-04-05T12:36:51.045Z"
   },
   {
    "duration": 154,
    "start_time": "2023-04-05T12:37:08.256Z"
   },
   {
    "duration": 215,
    "start_time": "2023-04-05T12:37:23.243Z"
   },
   {
    "duration": 193,
    "start_time": "2023-04-05T12:41:33.027Z"
   },
   {
    "duration": 206,
    "start_time": "2023-04-05T12:41:39.542Z"
   },
   {
    "duration": 157,
    "start_time": "2023-04-05T12:41:50.451Z"
   },
   {
    "duration": 160,
    "start_time": "2023-04-05T12:42:04.490Z"
   },
   {
    "duration": 174,
    "start_time": "2023-04-05T12:42:58.039Z"
   },
   {
    "duration": 214,
    "start_time": "2023-04-05T12:43:21.240Z"
   },
   {
    "duration": 187,
    "start_time": "2023-04-05T12:45:52.039Z"
   },
   {
    "duration": 210,
    "start_time": "2023-04-05T12:46:00.314Z"
   },
   {
    "duration": 160,
    "start_time": "2023-04-05T12:46:48.695Z"
   },
   {
    "duration": 14293,
    "start_time": "2023-04-05T18:20:11.836Z"
   },
   {
    "duration": 56,
    "start_time": "2023-04-05T18:20:26.131Z"
   },
   {
    "duration": 26,
    "start_time": "2023-04-05T18:20:26.189Z"
   },
   {
    "duration": 15,
    "start_time": "2023-04-05T18:20:26.218Z"
   },
   {
    "duration": 12,
    "start_time": "2023-04-05T18:20:26.234Z"
   },
   {
    "duration": 251,
    "start_time": "2023-04-05T18:20:26.248Z"
   },
   {
    "duration": 14,
    "start_time": "2023-04-05T18:23:21.317Z"
   },
   {
    "duration": 12,
    "start_time": "2023-04-05T18:23:32.317Z"
   },
   {
    "duration": 23,
    "start_time": "2023-04-05T18:24:57.413Z"
   },
   {
    "duration": 21,
    "start_time": "2023-04-05T18:25:41.524Z"
   },
   {
    "duration": 38,
    "start_time": "2023-04-05T18:26:48.021Z"
   },
   {
    "duration": 58,
    "start_time": "2023-04-05T18:32:39.926Z"
   },
   {
    "duration": 101,
    "start_time": "2023-04-05T18:48:08.953Z"
   },
   {
    "duration": 78,
    "start_time": "2023-04-05T18:48:32.693Z"
   },
   {
    "duration": 19,
    "start_time": "2023-04-05T18:50:11.746Z"
   },
   {
    "duration": 24,
    "start_time": "2023-04-05T18:50:18.891Z"
   },
   {
    "duration": 18,
    "start_time": "2023-04-05T18:55:41.265Z"
   },
   {
    "duration": 75,
    "start_time": "2023-04-05T19:00:27.091Z"
   },
   {
    "duration": 22,
    "start_time": "2023-04-05T19:00:30.293Z"
   },
   {
    "duration": 21,
    "start_time": "2023-04-05T19:05:37.651Z"
   },
   {
    "duration": 70,
    "start_time": "2023-04-05T19:06:30.854Z"
   },
   {
    "duration": 16,
    "start_time": "2023-04-05T19:07:33.024Z"
   },
   {
    "duration": 15,
    "start_time": "2023-04-05T19:08:09.402Z"
   },
   {
    "duration": 15,
    "start_time": "2023-04-05T19:10:29.056Z"
   },
   {
    "duration": 16,
    "start_time": "2023-04-05T19:19:45.381Z"
   },
   {
    "duration": 38,
    "start_time": "2023-04-05T19:34:22.417Z"
   },
   {
    "duration": 18,
    "start_time": "2023-04-05T19:34:32.462Z"
   },
   {
    "duration": 21,
    "start_time": "2023-04-05T19:34:42.617Z"
   },
   {
    "duration": 30,
    "start_time": "2023-04-05T19:34:51.541Z"
   },
   {
    "duration": 12098,
    "start_time": "2023-04-05T19:35:10.605Z"
   },
   {
    "duration": 57,
    "start_time": "2023-04-05T19:35:22.706Z"
   },
   {
    "duration": 26,
    "start_time": "2023-04-05T19:35:22.766Z"
   },
   {
    "duration": 17,
    "start_time": "2023-04-05T19:35:22.794Z"
   },
   {
    "duration": 27,
    "start_time": "2023-04-05T19:35:22.813Z"
   },
   {
    "duration": 18,
    "start_time": "2023-04-05T19:35:22.843Z"
   },
   {
    "duration": 6374,
    "start_time": "2023-04-05T20:39:03.124Z"
   },
   {
    "duration": 333,
    "start_time": "2023-04-05T20:39:09.500Z"
   },
   {
    "duration": 138,
    "start_time": "2023-04-05T20:39:09.835Z"
   },
   {
    "duration": 97,
    "start_time": "2023-04-05T20:39:09.975Z"
   },
   {
    "duration": 93,
    "start_time": "2023-04-05T20:39:10.074Z"
   },
   {
    "duration": 83,
    "start_time": "2023-04-05T20:39:10.169Z"
   },
   {
    "duration": 45,
    "start_time": "2023-04-05T22:31:31.599Z"
   },
   {
    "duration": 8583,
    "start_time": "2023-04-05T22:31:47.270Z"
   },
   {
    "duration": 244,
    "start_time": "2023-04-05T22:31:55.854Z"
   },
   {
    "duration": 103,
    "start_time": "2023-04-05T22:31:56.100Z"
   },
   {
    "duration": 70,
    "start_time": "2023-04-05T22:31:56.205Z"
   },
   {
    "duration": 245,
    "start_time": "2023-04-05T22:31:56.277Z"
   },
   {
    "duration": 0,
    "start_time": "2023-04-05T22:31:56.524Z"
   },
   {
    "duration": 74,
    "start_time": "2023-04-05T22:32:47.967Z"
   },
   {
    "duration": 149,
    "start_time": "2023-04-05T22:33:37.892Z"
   },
   {
    "duration": 76,
    "start_time": "2023-04-05T22:33:52.427Z"
   },
   {
    "duration": 72,
    "start_time": "2023-04-05T22:33:59.555Z"
   },
   {
    "duration": 56,
    "start_time": "2023-04-06T07:22:50.232Z"
   },
   {
    "duration": 10568,
    "start_time": "2023-04-06T07:22:54.945Z"
   },
   {
    "duration": 264,
    "start_time": "2023-04-06T07:23:05.515Z"
   },
   {
    "duration": 112,
    "start_time": "2023-04-06T07:23:05.783Z"
   },
   {
    "duration": 77,
    "start_time": "2023-04-06T07:23:05.897Z"
   },
   {
    "duration": 82,
    "start_time": "2023-04-06T07:23:05.976Z"
   },
   {
    "duration": 78,
    "start_time": "2023-04-06T07:23:06.060Z"
   },
   {
    "duration": 83,
    "start_time": "2023-04-06T07:23:33.057Z"
   },
   {
    "duration": 100,
    "start_time": "2023-04-06T07:26:02.037Z"
   },
   {
    "duration": 81,
    "start_time": "2023-04-06T07:26:34.142Z"
   },
   {
    "duration": 82,
    "start_time": "2023-04-06T07:26:54.399Z"
   }
  ],
  "kernelspec": {
   "display_name": "Python 3 (ipykernel)",
   "language": "python",
   "name": "python3"
  },
  "language_info": {
   "codemirror_mode": {
    "name": "ipython",
    "version": 3
   },
   "file_extension": ".py",
   "mimetype": "text/x-python",
   "name": "python",
   "nbconvert_exporter": "python",
   "pygments_lexer": "ipython3",
   "version": "3.9.5"
  },
  "toc": {
   "base_numbering": 1,
   "nav_menu": {},
   "number_sections": true,
   "sideBar": true,
   "skip_h1_title": true,
   "title_cell": "Table of Contents",
   "title_sidebar": "Contents",
   "toc_cell": false,
   "toc_position": {},
   "toc_section_display": true,
   "toc_window_display": false
  }
 },
 "nbformat": 4,
 "nbformat_minor": 4
}
