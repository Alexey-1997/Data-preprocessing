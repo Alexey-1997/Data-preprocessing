{
 "cells": [
  {
   "cell_type": "markdown",
   "metadata": {},
   "source": [
    "### Анализ A/A/B-эксперимента\n",
    "Предстоит проанализировать результаты A/A/B-эксперимента, суть которого в том, что дизайнеры захотели поменять шрифты во всём приложении и необходимо вынести решение по этому предложению\n",
    "\n",
    "В данных 3 группы, 2 контрольные и 1 эксперементальная, необходимо проверить данные в группах и проверить данные на пригодность к анализу\n",
    "\n",
    "План работы - проверить данные, очистить от случайно попавших данных, сопоставить группы и дать рекомендации менеджерам\n",
    "\n",
    "Цель работы - обосновать результаты эксперемента и сообщить вердикт по результатам сравнения контрольных и экспертной группы"
   ]
  },
  {
   "cell_type": "markdown",
   "metadata": {},
   "source": [
    "###  Откроем файл с данными и изучим общую информацию"
   ]
  },
  {
   "cell_type": "code",
   "execution_count": 1,
   "metadata": {},
   "outputs": [],
   "source": [
    "import pandas as pd\n",
    "import scipy.stats as stats\n",
    "import datetime as dt\n",
    "import numpy as np\n",
    "import matplotlib.pyplot as plt\n",
    "from pandas.plotting import register_matplotlib_converters\n",
    "import warnings\n",
    "import seaborn as sns\n",
    "import math as mth\n",
    "from scipy import stats as st"
   ]
  },
  {
   "cell_type": "code",
   "execution_count": 2,
   "metadata": {},
   "outputs": [],
   "source": [
    "df = pd.read_csv('/datasets/logs_exp.csv', sep='\\t')"
   ]
  },
  {
   "cell_type": "code",
   "execution_count": 3,
   "metadata": {},
   "outputs": [
    {
     "data": {
      "text/html": [
       "<div>\n",
       "<style scoped>\n",
       "    .dataframe tbody tr th:only-of-type {\n",
       "        vertical-align: middle;\n",
       "    }\n",
       "\n",
       "    .dataframe tbody tr th {\n",
       "        vertical-align: top;\n",
       "    }\n",
       "\n",
       "    .dataframe thead th {\n",
       "        text-align: right;\n",
       "    }\n",
       "</style>\n",
       "<table border=\"1\" class=\"dataframe\">\n",
       "  <thead>\n",
       "    <tr style=\"text-align: right;\">\n",
       "      <th></th>\n",
       "      <th>EventName</th>\n",
       "      <th>DeviceIDHash</th>\n",
       "      <th>EventTimestamp</th>\n",
       "      <th>ExpId</th>\n",
       "    </tr>\n",
       "  </thead>\n",
       "  <tbody>\n",
       "    <tr>\n",
       "      <th>0</th>\n",
       "      <td>MainScreenAppear</td>\n",
       "      <td>4575588528974610257</td>\n",
       "      <td>1564029816</td>\n",
       "      <td>246</td>\n",
       "    </tr>\n",
       "    <tr>\n",
       "      <th>1</th>\n",
       "      <td>MainScreenAppear</td>\n",
       "      <td>7416695313311560658</td>\n",
       "      <td>1564053102</td>\n",
       "      <td>246</td>\n",
       "    </tr>\n",
       "    <tr>\n",
       "      <th>2</th>\n",
       "      <td>PaymentScreenSuccessful</td>\n",
       "      <td>3518123091307005509</td>\n",
       "      <td>1564054127</td>\n",
       "      <td>248</td>\n",
       "    </tr>\n",
       "    <tr>\n",
       "      <th>3</th>\n",
       "      <td>CartScreenAppear</td>\n",
       "      <td>3518123091307005509</td>\n",
       "      <td>1564054127</td>\n",
       "      <td>248</td>\n",
       "    </tr>\n",
       "    <tr>\n",
       "      <th>4</th>\n",
       "      <td>PaymentScreenSuccessful</td>\n",
       "      <td>6217807653094995999</td>\n",
       "      <td>1564055322</td>\n",
       "      <td>248</td>\n",
       "    </tr>\n",
       "    <tr>\n",
       "      <th>...</th>\n",
       "      <td>...</td>\n",
       "      <td>...</td>\n",
       "      <td>...</td>\n",
       "      <td>...</td>\n",
       "    </tr>\n",
       "    <tr>\n",
       "      <th>244121</th>\n",
       "      <td>MainScreenAppear</td>\n",
       "      <td>4599628364049201812</td>\n",
       "      <td>1565212345</td>\n",
       "      <td>247</td>\n",
       "    </tr>\n",
       "    <tr>\n",
       "      <th>244122</th>\n",
       "      <td>MainScreenAppear</td>\n",
       "      <td>5849806612437486590</td>\n",
       "      <td>1565212439</td>\n",
       "      <td>246</td>\n",
       "    </tr>\n",
       "    <tr>\n",
       "      <th>244123</th>\n",
       "      <td>MainScreenAppear</td>\n",
       "      <td>5746969938801999050</td>\n",
       "      <td>1565212483</td>\n",
       "      <td>246</td>\n",
       "    </tr>\n",
       "    <tr>\n",
       "      <th>244124</th>\n",
       "      <td>MainScreenAppear</td>\n",
       "      <td>5746969938801999050</td>\n",
       "      <td>1565212498</td>\n",
       "      <td>246</td>\n",
       "    </tr>\n",
       "    <tr>\n",
       "      <th>244125</th>\n",
       "      <td>OffersScreenAppear</td>\n",
       "      <td>5746969938801999050</td>\n",
       "      <td>1565212517</td>\n",
       "      <td>246</td>\n",
       "    </tr>\n",
       "  </tbody>\n",
       "</table>\n",
       "<p>244126 rows × 4 columns</p>\n",
       "</div>"
      ],
      "text/plain": [
       "                      EventName         DeviceIDHash  EventTimestamp  ExpId\n",
       "0              MainScreenAppear  4575588528974610257      1564029816    246\n",
       "1              MainScreenAppear  7416695313311560658      1564053102    246\n",
       "2       PaymentScreenSuccessful  3518123091307005509      1564054127    248\n",
       "3              CartScreenAppear  3518123091307005509      1564054127    248\n",
       "4       PaymentScreenSuccessful  6217807653094995999      1564055322    248\n",
       "...                         ...                  ...             ...    ...\n",
       "244121         MainScreenAppear  4599628364049201812      1565212345    247\n",
       "244122         MainScreenAppear  5849806612437486590      1565212439    246\n",
       "244123         MainScreenAppear  5746969938801999050      1565212483    246\n",
       "244124         MainScreenAppear  5746969938801999050      1565212498    246\n",
       "244125       OffersScreenAppear  5746969938801999050      1565212517    246\n",
       "\n",
       "[244126 rows x 4 columns]"
      ]
     },
     "execution_count": 3,
     "metadata": {},
     "output_type": "execute_result"
    }
   ],
   "source": [
    "df"
   ]
  },
  {
   "cell_type": "code",
   "execution_count": 4,
   "metadata": {},
   "outputs": [
    {
     "name": "stdout",
     "output_type": "stream",
     "text": [
      "<class 'pandas.core.frame.DataFrame'>\n",
      "RangeIndex: 244126 entries, 0 to 244125\n",
      "Data columns (total 4 columns):\n",
      " #   Column          Non-Null Count   Dtype \n",
      "---  ------          --------------   ----- \n",
      " 0   EventName       244126 non-null  object\n",
      " 1   DeviceIDHash    244126 non-null  int64 \n",
      " 2   EventTimestamp  244126 non-null  int64 \n",
      " 3   ExpId           244126 non-null  int64 \n",
      "dtypes: int64(3), object(1)\n",
      "memory usage: 7.5+ MB\n"
     ]
    }
   ],
   "source": [
    "df.info()"
   ]
  },
  {
   "cell_type": "markdown",
   "metadata": {},
   "source": [
    "<b>При выгузке разделили столбцы, заметим что пропусков нет, однако не очень понятные названия столбцов и не читаемые форматы даты"
   ]
  },
  {
   "cell_type": "markdown",
   "metadata": {},
   "source": [
    "### Подготовим данные"
   ]
  },
  {
   "cell_type": "code",
   "execution_count": 5,
   "metadata": {},
   "outputs": [],
   "source": [
    "df = df.rename(\n",
    " columns={\n",
    "'EventName': 'event_name',\n",
    "'DeviceIDHash': 'userId',\n",
    "'EventTimestamp': 'dt',\n",
    "'ExpId': 'group',\n",
    " }\n",
    ")\n"
   ]
  },
  {
   "cell_type": "code",
   "execution_count": 6,
   "metadata": {},
   "outputs": [
    {
     "name": "stdout",
     "output_type": "stream",
     "text": [
      "<class 'pandas.core.frame.DataFrame'>\n",
      "RangeIndex: 244126 entries, 0 to 244125\n",
      "Data columns (total 4 columns):\n",
      " #   Column      Non-Null Count   Dtype \n",
      "---  ------      --------------   ----- \n",
      " 0   event_name  244126 non-null  object\n",
      " 1   userId      244126 non-null  int64 \n",
      " 2   dt          244126 non-null  int64 \n",
      " 3   group       244126 non-null  int64 \n",
      "dtypes: int64(3), object(1)\n",
      "memory usage: 7.5+ MB\n"
     ]
    }
   ],
   "source": [
    "df.info()"
   ]
  },
  {
   "cell_type": "code",
   "execution_count": 7,
   "metadata": {},
   "outputs": [],
   "source": [
    "df['dt'] = pd.to_datetime(df['dt'], unit='s')"
   ]
  },
  {
   "cell_type": "code",
   "execution_count": 8,
   "metadata": {},
   "outputs": [],
   "source": [
    "df['data'] = pd.to_datetime(df['dt']).dt.floor('D')"
   ]
  },
  {
   "cell_type": "code",
   "execution_count": 9,
   "metadata": {},
   "outputs": [
    {
     "data": {
      "text/html": [
       "<div>\n",
       "<style scoped>\n",
       "    .dataframe tbody tr th:only-of-type {\n",
       "        vertical-align: middle;\n",
       "    }\n",
       "\n",
       "    .dataframe tbody tr th {\n",
       "        vertical-align: top;\n",
       "    }\n",
       "\n",
       "    .dataframe thead th {\n",
       "        text-align: right;\n",
       "    }\n",
       "</style>\n",
       "<table border=\"1\" class=\"dataframe\">\n",
       "  <thead>\n",
       "    <tr style=\"text-align: right;\">\n",
       "      <th></th>\n",
       "      <th>event_name</th>\n",
       "      <th>userId</th>\n",
       "      <th>dt</th>\n",
       "      <th>group</th>\n",
       "      <th>data</th>\n",
       "    </tr>\n",
       "  </thead>\n",
       "  <tbody>\n",
       "    <tr>\n",
       "      <th>0</th>\n",
       "      <td>MainScreenAppear</td>\n",
       "      <td>4575588528974610257</td>\n",
       "      <td>2019-07-25 04:43:36</td>\n",
       "      <td>246</td>\n",
       "      <td>2019-07-25</td>\n",
       "    </tr>\n",
       "    <tr>\n",
       "      <th>1</th>\n",
       "      <td>MainScreenAppear</td>\n",
       "      <td>7416695313311560658</td>\n",
       "      <td>2019-07-25 11:11:42</td>\n",
       "      <td>246</td>\n",
       "      <td>2019-07-25</td>\n",
       "    </tr>\n",
       "    <tr>\n",
       "      <th>2</th>\n",
       "      <td>PaymentScreenSuccessful</td>\n",
       "      <td>3518123091307005509</td>\n",
       "      <td>2019-07-25 11:28:47</td>\n",
       "      <td>248</td>\n",
       "      <td>2019-07-25</td>\n",
       "    </tr>\n",
       "    <tr>\n",
       "      <th>3</th>\n",
       "      <td>CartScreenAppear</td>\n",
       "      <td>3518123091307005509</td>\n",
       "      <td>2019-07-25 11:28:47</td>\n",
       "      <td>248</td>\n",
       "      <td>2019-07-25</td>\n",
       "    </tr>\n",
       "    <tr>\n",
       "      <th>4</th>\n",
       "      <td>PaymentScreenSuccessful</td>\n",
       "      <td>6217807653094995999</td>\n",
       "      <td>2019-07-25 11:48:42</td>\n",
       "      <td>248</td>\n",
       "      <td>2019-07-25</td>\n",
       "    </tr>\n",
       "    <tr>\n",
       "      <th>...</th>\n",
       "      <td>...</td>\n",
       "      <td>...</td>\n",
       "      <td>...</td>\n",
       "      <td>...</td>\n",
       "      <td>...</td>\n",
       "    </tr>\n",
       "    <tr>\n",
       "      <th>244121</th>\n",
       "      <td>MainScreenAppear</td>\n",
       "      <td>4599628364049201812</td>\n",
       "      <td>2019-08-07 21:12:25</td>\n",
       "      <td>247</td>\n",
       "      <td>2019-08-07</td>\n",
       "    </tr>\n",
       "    <tr>\n",
       "      <th>244122</th>\n",
       "      <td>MainScreenAppear</td>\n",
       "      <td>5849806612437486590</td>\n",
       "      <td>2019-08-07 21:13:59</td>\n",
       "      <td>246</td>\n",
       "      <td>2019-08-07</td>\n",
       "    </tr>\n",
       "    <tr>\n",
       "      <th>244123</th>\n",
       "      <td>MainScreenAppear</td>\n",
       "      <td>5746969938801999050</td>\n",
       "      <td>2019-08-07 21:14:43</td>\n",
       "      <td>246</td>\n",
       "      <td>2019-08-07</td>\n",
       "    </tr>\n",
       "    <tr>\n",
       "      <th>244124</th>\n",
       "      <td>MainScreenAppear</td>\n",
       "      <td>5746969938801999050</td>\n",
       "      <td>2019-08-07 21:14:58</td>\n",
       "      <td>246</td>\n",
       "      <td>2019-08-07</td>\n",
       "    </tr>\n",
       "    <tr>\n",
       "      <th>244125</th>\n",
       "      <td>OffersScreenAppear</td>\n",
       "      <td>5746969938801999050</td>\n",
       "      <td>2019-08-07 21:15:17</td>\n",
       "      <td>246</td>\n",
       "      <td>2019-08-07</td>\n",
       "    </tr>\n",
       "  </tbody>\n",
       "</table>\n",
       "<p>244126 rows × 5 columns</p>\n",
       "</div>"
      ],
      "text/plain": [
       "                     event_name               userId                  dt  \\\n",
       "0              MainScreenAppear  4575588528974610257 2019-07-25 04:43:36   \n",
       "1              MainScreenAppear  7416695313311560658 2019-07-25 11:11:42   \n",
       "2       PaymentScreenSuccessful  3518123091307005509 2019-07-25 11:28:47   \n",
       "3              CartScreenAppear  3518123091307005509 2019-07-25 11:28:47   \n",
       "4       PaymentScreenSuccessful  6217807653094995999 2019-07-25 11:48:42   \n",
       "...                         ...                  ...                 ...   \n",
       "244121         MainScreenAppear  4599628364049201812 2019-08-07 21:12:25   \n",
       "244122         MainScreenAppear  5849806612437486590 2019-08-07 21:13:59   \n",
       "244123         MainScreenAppear  5746969938801999050 2019-08-07 21:14:43   \n",
       "244124         MainScreenAppear  5746969938801999050 2019-08-07 21:14:58   \n",
       "244125       OffersScreenAppear  5746969938801999050 2019-08-07 21:15:17   \n",
       "\n",
       "        group       data  \n",
       "0         246 2019-07-25  \n",
       "1         246 2019-07-25  \n",
       "2         248 2019-07-25  \n",
       "3         248 2019-07-25  \n",
       "4         248 2019-07-25  \n",
       "...       ...        ...  \n",
       "244121    247 2019-08-07  \n",
       "244122    246 2019-08-07  \n",
       "244123    246 2019-08-07  \n",
       "244124    246 2019-08-07  \n",
       "244125    246 2019-08-07  \n",
       "\n",
       "[244126 rows x 5 columns]"
      ]
     },
     "execution_count": 9,
     "metadata": {},
     "output_type": "execute_result"
    }
   ],
   "source": [
    "df"
   ]
  },
  {
   "cell_type": "code",
   "execution_count": 10,
   "metadata": {},
   "outputs": [
    {
     "data": {
      "text/plain": [
       "413"
      ]
     },
     "execution_count": 10,
     "metadata": {},
     "output_type": "execute_result"
    }
   ],
   "source": [
    "df.duplicated().sum()"
   ]
  },
  {
   "cell_type": "code",
   "execution_count": 11,
   "metadata": {},
   "outputs": [],
   "source": [
    "df = df.drop_duplicates().reset_index(drop=True)"
   ]
  },
  {
   "cell_type": "code",
   "execution_count": 12,
   "metadata": {},
   "outputs": [
    {
     "name": "stdout",
     "output_type": "stream",
     "text": [
      "<class 'pandas.core.frame.DataFrame'>\n",
      "RangeIndex: 243713 entries, 0 to 243712\n",
      "Data columns (total 5 columns):\n",
      " #   Column      Non-Null Count   Dtype         \n",
      "---  ------      --------------   -----         \n",
      " 0   event_name  243713 non-null  object        \n",
      " 1   userId      243713 non-null  int64         \n",
      " 2   dt          243713 non-null  datetime64[ns]\n",
      " 3   group       243713 non-null  int64         \n",
      " 4   data        243713 non-null  datetime64[ns]\n",
      "dtypes: datetime64[ns](2), int64(2), object(1)\n",
      "memory usage: 9.3+ MB\n"
     ]
    }
   ],
   "source": [
    "df.info()"
   ]
  },
  {
   "cell_type": "code",
   "execution_count": 13,
   "metadata": {},
   "outputs": [
    {
     "data": {
      "text/plain": [
       "group    0\n",
       "dtype: int64"
      ]
     },
     "execution_count": 13,
     "metadata": {},
     "output_type": "execute_result"
    }
   ],
   "source": [
    "df.groupby('userId').agg({'group' : 'nunique'}).query('group>1').count()"
   ]
  },
  {
   "cell_type": "markdown",
   "metadata": {},
   "source": [
    "<b>Были переменованы столбцы на event_name,\tuserId,\tdt,\tgroup, а также добавлен столбец\tdata. Удалили дубликаты и выполнили проверку на пересечение пользователей в группах, пересечений не обнаружено."
   ]
  },
  {
   "cell_type": "markdown",
   "metadata": {},
   "source": [
    "### Изучим и проверим данные"
   ]
  },
  {
   "cell_type": "markdown",
   "metadata": {},
   "source": [
    "Найдем сколько всего событий в логе"
   ]
  },
  {
   "cell_type": "code",
   "execution_count": 14,
   "metadata": {},
   "outputs": [
    {
     "data": {
      "text/plain": [
       "MainScreenAppear           119101\n",
       "OffersScreenAppear          46808\n",
       "CartScreenAppear            42668\n",
       "PaymentScreenSuccessful     34118\n",
       "Tutorial                     1018\n",
       "Name: event_name, dtype: int64"
      ]
     },
     "execution_count": 14,
     "metadata": {},
     "output_type": "execute_result"
    }
   ],
   "source": [
    "df['event_name'].value_counts()"
   ]
  },
  {
   "cell_type": "markdown",
   "metadata": {},
   "source": [
    "Всего 5  событий"
   ]
  },
  {
   "cell_type": "markdown",
   "metadata": {},
   "source": [
    "Найдем сколько всего пользователей в логе"
   ]
  },
  {
   "cell_type": "code",
   "execution_count": 15,
   "metadata": {},
   "outputs": [
    {
     "data": {
      "text/plain": [
       "6304868067479728361    2307\n",
       "197027893265565660     1998\n",
       "4623191541214045580    1768\n",
       "6932517045703054087    1439\n",
       "1754140665440434215    1221\n",
       "                       ... \n",
       "395376432319166724        1\n",
       "404128138074395619        1\n",
       "6936517579657223951       1\n",
       "5138854326043201424       1\n",
       "3954096321632083010       1\n",
       "Name: userId, Length: 7551, dtype: int64"
      ]
     },
     "execution_count": 15,
     "metadata": {},
     "output_type": "execute_result"
    }
   ],
   "source": [
    "df['userId'].value_counts()"
   ]
  },
  {
   "cell_type": "code",
   "execution_count": 16,
   "metadata": {},
   "outputs": [
    {
     "data": {
      "text/plain": [
       "7551"
      ]
     },
     "execution_count": 16,
     "metadata": {},
     "output_type": "execute_result"
    }
   ],
   "source": [
    "df['userId'].nunique()"
   ]
  },
  {
   "cell_type": "markdown",
   "metadata": {},
   "source": [
    "Таким образом в таблице 7551 уникальных пользователей"
   ]
  },
  {
   "cell_type": "markdown",
   "metadata": {},
   "source": [
    "Найдем сколько в среднем событий приходится на пользователя"
   ]
  },
  {
   "cell_type": "code",
   "execution_count": 17,
   "metadata": {},
   "outputs": [
    {
     "data": {
      "text/plain": [
       "count    7551.000000\n",
       "mean       32.275593\n",
       "std        65.154219\n",
       "min         1.000000\n",
       "25%         9.000000\n",
       "50%        20.000000\n",
       "75%        37.000000\n",
       "max      2307.000000\n",
       "Name: event_name, dtype: float64"
      ]
     },
     "execution_count": 17,
     "metadata": {},
     "output_type": "execute_result"
    }
   ],
   "source": [
    "mean_df = df.groupby('userId')['event_name'].agg('count')\n",
    "mean_df.describe() "
   ]
  },
  {
   "cell_type": "code",
   "execution_count": 18,
   "metadata": {},
   "outputs": [
    {
     "data": {
      "text/plain": [
       "20.0"
      ]
     },
     "execution_count": 18,
     "metadata": {},
     "output_type": "execute_result"
    }
   ],
   "source": [
    "df.groupby('userId')['event_name'].agg('count').median()"
   ]
  },
  {
   "cell_type": "markdown",
   "metadata": {},
   "source": [
    "Проверим данными за какой период мы располагаем"
   ]
  },
  {
   "cell_type": "code",
   "execution_count": 19,
   "metadata": {},
   "outputs": [
    {
     "name": "stdout",
     "output_type": "stream",
     "text": [
      "2019-07-25 04:43:36\n"
     ]
    }
   ],
   "source": [
    "print(df['dt'].min())"
   ]
  },
  {
   "cell_type": "code",
   "execution_count": 20,
   "metadata": {},
   "outputs": [
    {
     "name": "stdout",
     "output_type": "stream",
     "text": [
      "2019-08-07 21:15:17\n"
     ]
    }
   ],
   "source": [
    "print(df['dt'].max())"
   ]
  },
  {
   "cell_type": "code",
   "execution_count": 21,
   "metadata": {},
   "outputs": [
    {
     "data": {
      "text/plain": [
       "2019-08-01    36141\n",
       "2019-08-05    36058\n",
       "2019-08-06    35788\n",
       "2019-08-02    35554\n",
       "2019-08-03    33282\n",
       "2019-08-04    32968\n",
       "2019-08-07    31096\n",
       "2019-07-31     2030\n",
       "2019-07-30      412\n",
       "2019-07-29      184\n",
       "2019-07-28      105\n",
       "2019-07-27       55\n",
       "2019-07-26       31\n",
       "2019-07-25        9\n",
       "Name: data, dtype: int64"
      ]
     },
     "execution_count": 21,
     "metadata": {},
     "output_type": "execute_result"
    }
   ],
   "source": [
    "df['data'].value_counts()"
   ]
  },
  {
   "cell_type": "code",
   "execution_count": 22,
   "metadata": {},
   "outputs": [
    {
     "data": {
      "image/png": "[encoded data removed]",
      "text/plain": [
       "<Figure size 1224x504 with 1 Axes>"
      ]
     },
     "metadata": {
      "needs_background": "light"
     },
     "output_type": "display_data"
    }
   ],
   "source": [
    "plt.figure(figsize=(17, 7))\n",
    "df['dt'].hist(bins=100)\n",
    "plt.title('Распределение данных по времени')\n",
    "plt.xlabel('Дата и время')\n",
    "plt.ylabel('Количество событий')\n",
    "plt.show()"
   ]
  },
  {
   "cell_type": "markdown",
   "metadata": {},
   "source": [
    "отсеим данные ранее 1 августа 2019 года, так как эти данные сильно отличаются от остальных (с первого числа ежедневно данных более 30000)"
   ]
  },
  {
   "cell_type": "code",
   "execution_count": 23,
   "metadata": {},
   "outputs": [],
   "source": [
    "df_good = df.query('dt >= \"2019-08-01 00:00:00\"')"
   ]
  },
  {
   "cell_type": "code",
   "execution_count": 24,
   "metadata": {},
   "outputs": [
    {
     "data": {
      "image/png": "[encoded data removed]",
      "text/plain": [
       "<Figure size 1224x504 with 1 Axes>"
      ]
     },
     "metadata": {
      "needs_background": "light"
     },
     "output_type": "display_data"
    }
   ],
   "source": [
    "plt.figure(figsize=(17, 7))\n",
    "df_good['dt'].hist(bins=100)\n",
    "plt.title('Очищенное распределение данных по времени')\n",
    "plt.xlabel('Дата и время')\n",
    "plt.ylabel('Количество событий')\n",
    "plt.show()"
   ]
  },
  {
   "cell_type": "code",
   "execution_count": 25,
   "metadata": {
    "scrolled": true
   },
   "outputs": [
    {
     "name": "stdout",
     "output_type": "stream",
     "text": [
      "<class 'pandas.core.frame.DataFrame'>\n",
      "Int64Index: 240887 entries, 2826 to 243712\n",
      "Data columns (total 5 columns):\n",
      " #   Column      Non-Null Count   Dtype         \n",
      "---  ------      --------------   -----         \n",
      " 0   event_name  240887 non-null  object        \n",
      " 1   userId      240887 non-null  int64         \n",
      " 2   dt          240887 non-null  datetime64[ns]\n",
      " 3   group       240887 non-null  int64         \n",
      " 4   data        240887 non-null  datetime64[ns]\n",
      "dtypes: datetime64[ns](2), int64(2), object(1)\n",
      "memory usage: 11.0+ MB\n"
     ]
    }
   ],
   "source": [
    "df_good.info()"
   ]
  },
  {
   "cell_type": "code",
   "execution_count": 26,
   "metadata": {},
   "outputs": [
    {
     "data": {
      "text/plain": [
       "MainScreenAppear           117328\n",
       "OffersScreenAppear          46333\n",
       "CartScreenAppear            42303\n",
       "PaymentScreenSuccessful     33918\n",
       "Tutorial                     1005\n",
       "Name: event_name, dtype: int64"
      ]
     },
     "execution_count": 26,
     "metadata": {},
     "output_type": "execute_result"
    }
   ],
   "source": [
    "df_good['event_name'].value_counts()"
   ]
  },
  {
   "cell_type": "code",
   "execution_count": 27,
   "metadata": {},
   "outputs": [
    {
     "data": {
      "text/plain": [
       "7534"
      ]
     },
     "execution_count": 27,
     "metadata": {},
     "output_type": "execute_result"
    }
   ],
   "source": [
    "df_good['userId'].nunique()"
   ]
  },
  {
   "cell_type": "code",
   "execution_count": 28,
   "metadata": {},
   "outputs": [
    {
     "data": {
      "text/plain": [
       "19.0"
      ]
     },
     "execution_count": 28,
     "metadata": {},
     "output_type": "execute_result"
    }
   ],
   "source": [
    "df_good.groupby('userId')['event_name'].agg('count').median()"
   ]
  },
  {
   "cell_type": "markdown",
   "metadata": {},
   "source": [
    "Проверим много ли событий и пользователей отсеялось"
   ]
  },
  {
   "cell_type": "code",
   "execution_count": 29,
   "metadata": {},
   "outputs": [
    {
     "data": {
      "text/plain": [
       "2826"
      ]
     },
     "execution_count": 29,
     "metadata": {},
     "output_type": "execute_result"
    }
   ],
   "source": [
    "df['event_name'].count() - df_good['event_name'].count()"
   ]
  },
  {
   "cell_type": "code",
   "execution_count": 30,
   "metadata": {},
   "outputs": [
    {
     "data": {
      "text/plain": [
       "1.159560630741897"
      ]
     },
     "execution_count": 30,
     "metadata": {},
     "output_type": "execute_result"
    }
   ],
   "source": [
    "(df['event_name'].count() - df_good['event_name'].count()) / df['event_name'].count() *100"
   ]
  },
  {
   "cell_type": "code",
   "execution_count": 31,
   "metadata": {},
   "outputs": [
    {
     "data": {
      "text/plain": [
       "MainScreenAppear           1773\n",
       "OffersScreenAppear          475\n",
       "CartScreenAppear            365\n",
       "PaymentScreenSuccessful     200\n",
       "Tutorial                     13\n",
       "Name: event_name, dtype: int64"
      ]
     },
     "execution_count": 31,
     "metadata": {},
     "output_type": "execute_result"
    }
   ],
   "source": [
    "df['event_name'].value_counts() - df_good['event_name'].value_counts()"
   ]
  },
  {
   "cell_type": "code",
   "execution_count": 32,
   "metadata": {},
   "outputs": [
    {
     "data": {
      "text/plain": [
       "17"
      ]
     },
     "execution_count": 32,
     "metadata": {},
     "output_type": "execute_result"
    }
   ],
   "source": [
    "df['userId'].nunique() - df_good['userId'].nunique()"
   ]
  },
  {
   "cell_type": "code",
   "execution_count": 33,
   "metadata": {},
   "outputs": [
    {
     "data": {
      "text/plain": [
       "0.22513574361011784"
      ]
     },
     "execution_count": 33,
     "metadata": {},
     "output_type": "execute_result"
    }
   ],
   "source": [
    "(df['userId'].nunique() - df_good['userId'].nunique()) / df['userId'].nunique() *100"
   ]
  },
  {
   "cell_type": "markdown",
   "metadata": {},
   "source": [
    "<b>Таким образом из данных отсеялось 2826 события (на 1,16%) и 17 уникальных польхователей (на 0,23%)"
   ]
  },
  {
   "cell_type": "markdown",
   "metadata": {},
   "source": [
    "Проверим, есть ли пользователи из всех трёх экспериментальных групп."
   ]
  },
  {
   "cell_type": "code",
   "execution_count": 64,
   "metadata": {},
   "outputs": [
    {
     "data": {
      "text/html": [
       "<div>\n",
       "<style scoped>\n",
       "    .dataframe tbody tr th:only-of-type {\n",
       "        vertical-align: middle;\n",
       "    }\n",
       "\n",
       "    .dataframe tbody tr th {\n",
       "        vertical-align: top;\n",
       "    }\n",
       "\n",
       "    .dataframe thead tr th {\n",
       "        text-align: left;\n",
       "    }\n",
       "\n",
       "    .dataframe thead tr:last-of-type th {\n",
       "        text-align: right;\n",
       "    }\n",
       "</style>\n",
       "<table border=\"1\" class=\"dataframe\">\n",
       "  <thead>\n",
       "    <tr>\n",
       "      <th></th>\n",
       "      <th colspan=\"2\" halign=\"left\">userId</th>\n",
       "    </tr>\n",
       "    <tr>\n",
       "      <th></th>\n",
       "      <th>count</th>\n",
       "      <th>nunique</th>\n",
       "    </tr>\n",
       "    <tr>\n",
       "      <th>group</th>\n",
       "      <th></th>\n",
       "      <th></th>\n",
       "    </tr>\n",
       "  </thead>\n",
       "  <tbody>\n",
       "    <tr>\n",
       "      <th>246</th>\n",
       "      <td>79302</td>\n",
       "      <td>2484</td>\n",
       "    </tr>\n",
       "    <tr>\n",
       "      <th>247</th>\n",
       "      <td>77022</td>\n",
       "      <td>2513</td>\n",
       "    </tr>\n",
       "    <tr>\n",
       "      <th>248</th>\n",
       "      <td>84563</td>\n",
       "      <td>2537</td>\n",
       "    </tr>\n",
       "  </tbody>\n",
       "</table>\n",
       "</div>"
      ],
      "text/plain": [
       "      userId        \n",
       "       count nunique\n",
       "group               \n",
       "246    79302    2484\n",
       "247    77022    2513\n",
       "248    84563    2537"
      ]
     },
     "execution_count": 64,
     "metadata": {},
     "output_type": "execute_result"
    }
   ],
   "source": [
    "df_good.groupby('group').agg({'userId': ['count', 'nunique']})"
   ]
  },
  {
   "cell_type": "markdown",
   "metadata": {},
   "source": [
    "### Изучим воронку событий"
   ]
  },
  {
   "cell_type": "markdown",
   "metadata": {},
   "source": [
    "Посмотрим, какие события есть в логах и как часто они встречаются"
   ]
  },
  {
   "cell_type": "code",
   "execution_count": 35,
   "metadata": {},
   "outputs": [
    {
     "data": {
      "text/plain": [
       "MainScreenAppear           117328\n",
       "OffersScreenAppear          46333\n",
       "CartScreenAppear            42303\n",
       "PaymentScreenSuccessful     33918\n",
       "Tutorial                     1005\n",
       "Name: event_name, dtype: int64"
      ]
     },
     "execution_count": 35,
     "metadata": {},
     "output_type": "execute_result"
    }
   ],
   "source": [
    "df_good['event_name'].value_counts().sort_values(ascending=False)"
   ]
  },
  {
   "cell_type": "markdown",
   "metadata": {},
   "source": [
    "Посчитаем, сколько пользователей совершали каждое из этих событий"
   ]
  },
  {
   "cell_type": "code",
   "execution_count": 36,
   "metadata": {},
   "outputs": [
    {
     "data": {
      "text/html": [
       "<div>\n",
       "<style scoped>\n",
       "    .dataframe tbody tr th:only-of-type {\n",
       "        vertical-align: middle;\n",
       "    }\n",
       "\n",
       "    .dataframe tbody tr th {\n",
       "        vertical-align: top;\n",
       "    }\n",
       "\n",
       "    .dataframe thead th {\n",
       "        text-align: right;\n",
       "    }\n",
       "</style>\n",
       "<table border=\"1\" class=\"dataframe\">\n",
       "  <thead>\n",
       "    <tr style=\"text-align: right;\">\n",
       "      <th></th>\n",
       "      <th>userId</th>\n",
       "    </tr>\n",
       "    <tr>\n",
       "      <th>event_name</th>\n",
       "      <th></th>\n",
       "    </tr>\n",
       "  </thead>\n",
       "  <tbody>\n",
       "    <tr>\n",
       "      <th>MainScreenAppear</th>\n",
       "      <td>7419</td>\n",
       "    </tr>\n",
       "    <tr>\n",
       "      <th>OffersScreenAppear</th>\n",
       "      <td>4593</td>\n",
       "    </tr>\n",
       "    <tr>\n",
       "      <th>CartScreenAppear</th>\n",
       "      <td>3734</td>\n",
       "    </tr>\n",
       "    <tr>\n",
       "      <th>PaymentScreenSuccessful</th>\n",
       "      <td>3539</td>\n",
       "    </tr>\n",
       "    <tr>\n",
       "      <th>Tutorial</th>\n",
       "      <td>840</td>\n",
       "    </tr>\n",
       "  </tbody>\n",
       "</table>\n",
       "</div>"
      ],
      "text/plain": [
       "                         userId\n",
       "event_name                     \n",
       "MainScreenAppear           7419\n",
       "OffersScreenAppear         4593\n",
       "CartScreenAppear           3734\n",
       "PaymentScreenSuccessful    3539\n",
       "Tutorial                    840"
      ]
     },
     "execution_count": 36,
     "metadata": {},
     "output_type": "execute_result"
    }
   ],
   "source": [
    "event = df_good.groupby('event_name').agg({'userId': 'nunique'})\n",
    "event.sort_values(by='userId', ascending=False) "
   ]
  },
  {
   "cell_type": "code",
   "execution_count": 37,
   "metadata": {},
   "outputs": [
    {
     "data": {
      "text/html": [
       "<div>\n",
       "<style scoped>\n",
       "    .dataframe tbody tr th:only-of-type {\n",
       "        vertical-align: middle;\n",
       "    }\n",
       "\n",
       "    .dataframe tbody tr th {\n",
       "        vertical-align: top;\n",
       "    }\n",
       "\n",
       "    .dataframe thead th {\n",
       "        text-align: right;\n",
       "    }\n",
       "</style>\n",
       "<table border=\"1\" class=\"dataframe\">\n",
       "  <thead>\n",
       "    <tr style=\"text-align: right;\">\n",
       "      <th></th>\n",
       "      <th>userId</th>\n",
       "    </tr>\n",
       "    <tr>\n",
       "      <th>event_name</th>\n",
       "      <th></th>\n",
       "    </tr>\n",
       "  </thead>\n",
       "  <tbody>\n",
       "    <tr>\n",
       "      <th>MainScreenAppear</th>\n",
       "      <td>0.984736</td>\n",
       "    </tr>\n",
       "    <tr>\n",
       "      <th>OffersScreenAppear</th>\n",
       "      <td>0.609636</td>\n",
       "    </tr>\n",
       "    <tr>\n",
       "      <th>CartScreenAppear</th>\n",
       "      <td>0.495620</td>\n",
       "    </tr>\n",
       "    <tr>\n",
       "      <th>PaymentScreenSuccessful</th>\n",
       "      <td>0.469737</td>\n",
       "    </tr>\n",
       "    <tr>\n",
       "      <th>Tutorial</th>\n",
       "      <td>0.111495</td>\n",
       "    </tr>\n",
       "  </tbody>\n",
       "</table>\n",
       "</div>"
      ],
      "text/plain": [
       "                           userId\n",
       "event_name                       \n",
       "MainScreenAppear         0.984736\n",
       "OffersScreenAppear       0.609636\n",
       "CartScreenAppear         0.495620\n",
       "PaymentScreenSuccessful  0.469737\n",
       "Tutorial                 0.111495"
      ]
     },
     "execution_count": 37,
     "metadata": {},
     "output_type": "execute_result"
    }
   ],
   "source": [
    "event_us = event / df_good['userId'].nunique()\n",
    "event_us.sort_values(by='userId', ascending=False) "
   ]
  },
  {
   "cell_type": "markdown",
   "metadata": {},
   "source": [
    "Предположим, в каком порядке происходят события"
   ]
  },
  {
   "cell_type": "markdown",
   "metadata": {},
   "source": [
    "<b> Воронка выглядит следующим образом:\n",
    "1. Появление главного экрана \n",
    "2. Появление экрана предложений\n",
    "3. Появление экрана корзины\n",
    "4. Экран успешно завершенной покупки\n",
    "\n",
    "есть страница \"Руководство\", но, по всей видимости, она не входит в воронку, а используется лишь некоторыми пользователями в качестве помощи, поэтому уберем данный пункт из дальнейшего анализа"
   ]
  },
  {
   "cell_type": "code",
   "execution_count": 38,
   "metadata": {},
   "outputs": [
    {
     "data": {
      "text/html": [
       "<div>\n",
       "<style scoped>\n",
       "    .dataframe tbody tr th:only-of-type {\n",
       "        vertical-align: middle;\n",
       "    }\n",
       "\n",
       "    .dataframe tbody tr th {\n",
       "        vertical-align: top;\n",
       "    }\n",
       "\n",
       "    .dataframe thead th {\n",
       "        text-align: right;\n",
       "    }\n",
       "</style>\n",
       "<table border=\"1\" class=\"dataframe\">\n",
       "  <thead>\n",
       "    <tr style=\"text-align: right;\">\n",
       "      <th></th>\n",
       "      <th>userId</th>\n",
       "    </tr>\n",
       "    <tr>\n",
       "      <th>event_name</th>\n",
       "      <th></th>\n",
       "    </tr>\n",
       "  </thead>\n",
       "  <tbody>\n",
       "    <tr>\n",
       "      <th>MainScreenAppear</th>\n",
       "      <td>7419</td>\n",
       "    </tr>\n",
       "    <tr>\n",
       "      <th>OffersScreenAppear</th>\n",
       "      <td>4593</td>\n",
       "    </tr>\n",
       "    <tr>\n",
       "      <th>CartScreenAppear</th>\n",
       "      <td>3734</td>\n",
       "    </tr>\n",
       "    <tr>\n",
       "      <th>PaymentScreenSuccessful</th>\n",
       "      <td>3539</td>\n",
       "    </tr>\n",
       "  </tbody>\n",
       "</table>\n",
       "</div>"
      ],
      "text/plain": [
       "                         userId\n",
       "event_name                     \n",
       "MainScreenAppear           7419\n",
       "OffersScreenAppear         4593\n",
       "CartScreenAppear           3734\n",
       "PaymentScreenSuccessful    3539"
      ]
     },
     "metadata": {},
     "output_type": "display_data"
    }
   ],
   "source": [
    "funnel = event.drop(labels = ['Tutorial'],axis = 0)\n",
    "funnel = funnel.sort_values(by='userId', ascending=False)\n",
    "display(funnel)"
   ]
  },
  {
   "cell_type": "markdown",
   "metadata": {},
   "source": [
    "По воронке событий посчитаем, какая доля пользователей проходит на следующий шаг воронки "
   ]
  },
  {
   "cell_type": "code",
   "execution_count": 39,
   "metadata": {
    "scrolled": true
   },
   "outputs": [
    {
     "data": {
      "text/html": [
       "<div>\n",
       "<style scoped>\n",
       "    .dataframe tbody tr th:only-of-type {\n",
       "        vertical-align: middle;\n",
       "    }\n",
       "\n",
       "    .dataframe tbody tr th {\n",
       "        vertical-align: top;\n",
       "    }\n",
       "\n",
       "    .dataframe thead th {\n",
       "        text-align: right;\n",
       "    }\n",
       "</style>\n",
       "<table border=\"1\" class=\"dataframe\">\n",
       "  <thead>\n",
       "    <tr style=\"text-align: right;\">\n",
       "      <th></th>\n",
       "      <th>userId</th>\n",
       "      <th>percent</th>\n",
       "    </tr>\n",
       "    <tr>\n",
       "      <th>event_name</th>\n",
       "      <th></th>\n",
       "      <th></th>\n",
       "    </tr>\n",
       "  </thead>\n",
       "  <tbody>\n",
       "    <tr>\n",
       "      <th>MainScreenAppear</th>\n",
       "      <td>7419</td>\n",
       "      <td>100.00</td>\n",
       "    </tr>\n",
       "    <tr>\n",
       "      <th>OffersScreenAppear</th>\n",
       "      <td>4593</td>\n",
       "      <td>61.91</td>\n",
       "    </tr>\n",
       "    <tr>\n",
       "      <th>CartScreenAppear</th>\n",
       "      <td>3734</td>\n",
       "      <td>81.30</td>\n",
       "    </tr>\n",
       "    <tr>\n",
       "      <th>PaymentScreenSuccessful</th>\n",
       "      <td>3539</td>\n",
       "      <td>94.78</td>\n",
       "    </tr>\n",
       "  </tbody>\n",
       "</table>\n",
       "</div>"
      ],
      "text/plain": [
       "                         userId  percent\n",
       "event_name                              \n",
       "MainScreenAppear           7419   100.00\n",
       "OffersScreenAppear         4593    61.91\n",
       "CartScreenAppear           3734    81.30\n",
       "PaymentScreenSuccessful    3539    94.78"
      ]
     },
     "execution_count": 39,
     "metadata": {},
     "output_type": "execute_result"
    }
   ],
   "source": [
    "funnel['percent'] = funnel['userId'] / funnel['userId'].shift(1).fillna(7419/1)\n",
    "funnel['percent'] = funnel['percent'].round(4) *100\n",
    "funnel"
   ]
  },
  {
   "cell_type": "code",
   "execution_count": 40,
   "metadata": {},
   "outputs": [
    {
     "data": {
      "text/html": [
       "<div>\n",
       "<style scoped>\n",
       "    .dataframe tbody tr th:only-of-type {\n",
       "        vertical-align: middle;\n",
       "    }\n",
       "\n",
       "    .dataframe tbody tr th {\n",
       "        vertical-align: top;\n",
       "    }\n",
       "\n",
       "    .dataframe thead th {\n",
       "        text-align: right;\n",
       "    }\n",
       "</style>\n",
       "<table border=\"1\" class=\"dataframe\">\n",
       "  <thead>\n",
       "    <tr style=\"text-align: right;\">\n",
       "      <th>event_name</th>\n",
       "      <th>CartScreenAppear</th>\n",
       "      <th>MainScreenAppear</th>\n",
       "      <th>OffersScreenAppear</th>\n",
       "      <th>PaymentScreenSuccessful</th>\n",
       "    </tr>\n",
       "    <tr>\n",
       "      <th>userId</th>\n",
       "      <th></th>\n",
       "      <th></th>\n",
       "      <th></th>\n",
       "      <th></th>\n",
       "    </tr>\n",
       "  </thead>\n",
       "  <tbody>\n",
       "    <tr>\n",
       "      <th>6888746892508752</th>\n",
       "      <td>NaT</td>\n",
       "      <td>2019-08-06 14:06:34</td>\n",
       "      <td>NaT</td>\n",
       "      <td>NaT</td>\n",
       "    </tr>\n",
       "    <tr>\n",
       "      <th>6909561520679493</th>\n",
       "      <td>2019-08-06 18:52:58</td>\n",
       "      <td>2019-08-06 18:52:54</td>\n",
       "      <td>2019-08-06 18:53:04</td>\n",
       "      <td>2019-08-06 18:52:58</td>\n",
       "    </tr>\n",
       "    <tr>\n",
       "      <th>6922444491712477</th>\n",
       "      <td>2019-08-04 14:19:40</td>\n",
       "      <td>2019-08-04 14:19:33</td>\n",
       "      <td>2019-08-04 14:19:46</td>\n",
       "      <td>2019-08-04 14:19:40</td>\n",
       "    </tr>\n",
       "    <tr>\n",
       "      <th>7435777799948366</th>\n",
       "      <td>NaT</td>\n",
       "      <td>2019-08-05 08:06:34</td>\n",
       "      <td>NaT</td>\n",
       "      <td>NaT</td>\n",
       "    </tr>\n",
       "    <tr>\n",
       "      <th>7702139951469979</th>\n",
       "      <td>2019-08-02 14:28:45</td>\n",
       "      <td>2019-08-01 04:29:54</td>\n",
       "      <td>2019-08-01 04:29:56</td>\n",
       "      <td>2019-08-02 14:28:45</td>\n",
       "    </tr>\n",
       "    <tr>\n",
       "      <th>...</th>\n",
       "      <td>...</td>\n",
       "      <td>...</td>\n",
       "      <td>...</td>\n",
       "      <td>...</td>\n",
       "    </tr>\n",
       "    <tr>\n",
       "      <th>9217594193087726423</th>\n",
       "      <td>2019-08-02 09:00:58</td>\n",
       "      <td>NaT</td>\n",
       "      <td>2019-08-02 09:01:08</td>\n",
       "      <td>2019-08-02 09:00:57</td>\n",
       "    </tr>\n",
       "    <tr>\n",
       "      <th>9219463515465815368</th>\n",
       "      <td>2019-08-06 16:49:40</td>\n",
       "      <td>2019-08-05 05:26:26</td>\n",
       "      <td>2019-08-06 16:48:57</td>\n",
       "      <td>2019-08-06 16:52:16</td>\n",
       "    </tr>\n",
       "    <tr>\n",
       "      <th>9220879493065341500</th>\n",
       "      <td>2019-08-02 17:59:16</td>\n",
       "      <td>2019-08-02 17:58:48</td>\n",
       "      <td>2019-08-02 17:59:00</td>\n",
       "      <td>NaT</td>\n",
       "    </tr>\n",
       "    <tr>\n",
       "      <th>9221926045299980007</th>\n",
       "      <td>NaT</td>\n",
       "      <td>2019-08-01 17:30:27</td>\n",
       "      <td>NaT</td>\n",
       "      <td>NaT</td>\n",
       "    </tr>\n",
       "    <tr>\n",
       "      <th>9222603179720523844</th>\n",
       "      <td>NaT</td>\n",
       "      <td>2019-08-01 06:52:13</td>\n",
       "      <td>NaT</td>\n",
       "      <td>NaT</td>\n",
       "    </tr>\n",
       "  </tbody>\n",
       "</table>\n",
       "<p>7534 rows × 4 columns</p>\n",
       "</div>"
      ],
      "text/plain": [
       "event_name             CartScreenAppear    MainScreenAppear  \\\n",
       "userId                                                        \n",
       "6888746892508752                    NaT 2019-08-06 14:06:34   \n",
       "6909561520679493    2019-08-06 18:52:58 2019-08-06 18:52:54   \n",
       "6922444491712477    2019-08-04 14:19:40 2019-08-04 14:19:33   \n",
       "7435777799948366                    NaT 2019-08-05 08:06:34   \n",
       "7702139951469979    2019-08-02 14:28:45 2019-08-01 04:29:54   \n",
       "...                                 ...                 ...   \n",
       "9217594193087726423 2019-08-02 09:00:58                 NaT   \n",
       "9219463515465815368 2019-08-06 16:49:40 2019-08-05 05:26:26   \n",
       "9220879493065341500 2019-08-02 17:59:16 2019-08-02 17:58:48   \n",
       "9221926045299980007                 NaT 2019-08-01 17:30:27   \n",
       "9222603179720523844                 NaT 2019-08-01 06:52:13   \n",
       "\n",
       "event_name           OffersScreenAppear PaymentScreenSuccessful  \n",
       "userId                                                           \n",
       "6888746892508752                    NaT                     NaT  \n",
       "6909561520679493    2019-08-06 18:53:04     2019-08-06 18:52:58  \n",
       "6922444491712477    2019-08-04 14:19:46     2019-08-04 14:19:40  \n",
       "7435777799948366                    NaT                     NaT  \n",
       "7702139951469979    2019-08-01 04:29:56     2019-08-02 14:28:45  \n",
       "...                                 ...                     ...  \n",
       "9217594193087726423 2019-08-02 09:01:08     2019-08-02 09:00:57  \n",
       "9219463515465815368 2019-08-06 16:48:57     2019-08-06 16:52:16  \n",
       "9220879493065341500 2019-08-02 17:59:00                     NaT  \n",
       "9221926045299980007                 NaT                     NaT  \n",
       "9222603179720523844                 NaT                     NaT  \n",
       "\n",
       "[7534 rows x 4 columns]"
      ]
     },
     "execution_count": 40,
     "metadata": {},
     "output_type": "execute_result"
    }
   ],
   "source": [
    "profel = df_good.pivot_table(\n",
    "    index='userId', \n",
    "    columns='event_name', \n",
    "    values='dt',\n",
    "    aggfunc='min')\n",
    "profel = profel.drop(labels = ['Tutorial'],axis = 1)\n",
    "profel"
   ]
  },
  {
   "cell_type": "code",
   "execution_count": 41,
   "metadata": {},
   "outputs": [],
   "source": [
    "level_1 = ~profel['MainScreenAppear'].isna() \n",
    "level_2 = level_1 & (profel['OffersScreenAppear'] > profel['MainScreenAppear']) \n",
    "level_3 = level_2 & (profel['CartScreenAppear'] > profel['OffersScreenAppear']) \n",
    "level_4 = level_3 & (profel['PaymentScreenSuccessful'] > profel['CartScreenAppear'])"
   ]
  },
  {
   "cell_type": "code",
   "execution_count": 42,
   "metadata": {},
   "outputs": [],
   "source": [
    "count_level_1 = profel[level_1].shape[0]\n",
    "count_level_2 = profel[level_2].shape[0]\n",
    "count_level_3 = profel[level_3].shape[0]\n",
    "count_level_4 = profel[level_4].shape[0]"
   ]
  },
  {
   "cell_type": "code",
   "execution_count": 43,
   "metadata": {},
   "outputs": [
    {
     "data": {
      "text/html": [
       "<div>\n",
       "<style scoped>\n",
       "    .dataframe tbody tr th:only-of-type {\n",
       "        vertical-align: middle;\n",
       "    }\n",
       "\n",
       "    .dataframe tbody tr th {\n",
       "        vertical-align: top;\n",
       "    }\n",
       "\n",
       "    .dataframe thead th {\n",
       "        text-align: right;\n",
       "    }\n",
       "</style>\n",
       "<table border=\"1\" class=\"dataframe\">\n",
       "  <thead>\n",
       "    <tr style=\"text-align: right;\">\n",
       "      <th></th>\n",
       "      <th>event_name</th>\n",
       "      <th>count</th>\n",
       "      <th>%</th>\n",
       "    </tr>\n",
       "  </thead>\n",
       "  <tbody>\n",
       "    <tr>\n",
       "      <th>0</th>\n",
       "      <td>MainScreenAppear</td>\n",
       "      <td>7419</td>\n",
       "      <td>100.00</td>\n",
       "    </tr>\n",
       "    <tr>\n",
       "      <th>1</th>\n",
       "      <td>OffersScreenAppear</td>\n",
       "      <td>4201</td>\n",
       "      <td>56.62</td>\n",
       "    </tr>\n",
       "    <tr>\n",
       "      <th>2</th>\n",
       "      <td>CartScreenAppear</td>\n",
       "      <td>1767</td>\n",
       "      <td>42.06</td>\n",
       "    </tr>\n",
       "    <tr>\n",
       "      <th>3</th>\n",
       "      <td>PaymentScreenSuccessful</td>\n",
       "      <td>454</td>\n",
       "      <td>25.69</td>\n",
       "    </tr>\n",
       "  </tbody>\n",
       "</table>\n",
       "</div>"
      ],
      "text/plain": [
       "                event_name  count       %\n",
       "0         MainScreenAppear   7419  100.00\n",
       "1       OffersScreenAppear   4201   56.62\n",
       "2         CartScreenAppear   1767   42.06\n",
       "3  PaymentScreenSuccessful    454   25.69"
      ]
     },
     "execution_count": 43,
     "metadata": {},
     "output_type": "execute_result"
    }
   ],
   "source": [
    "sob = {'event_name': ['MainScreenAppear', 'OffersScreenAppear', 'CartScreenAppear', 'PaymentScreenSuccessful'], 'count': [count_level_1, count_level_2, count_level_3, count_level_4]}\n",
    "sob_fin = pd.DataFrame(sob) \n",
    "sob_fin['%'] = sob_fin['count'] / sob_fin['count'].shift(1).fillna(7419/1)\n",
    "sob_fin['%'] = sob_fin['%'].round(4) *100\n",
    "sob_fin"
   ]
  },
  {
   "cell_type": "code",
   "execution_count": 44,
   "metadata": {},
   "outputs": [
    {
     "data": {
      "text/html": [
       "<div>\n",
       "<style scoped>\n",
       "    .dataframe tbody tr th:only-of-type {\n",
       "        vertical-align: middle;\n",
       "    }\n",
       "\n",
       "    .dataframe tbody tr th {\n",
       "        vertical-align: top;\n",
       "    }\n",
       "\n",
       "    .dataframe thead th {\n",
       "        text-align: right;\n",
       "    }\n",
       "</style>\n",
       "<table border=\"1\" class=\"dataframe\">\n",
       "  <thead>\n",
       "    <tr style=\"text-align: right;\">\n",
       "      <th></th>\n",
       "      <th>event_name</th>\n",
       "      <th>CartScreenAppear</th>\n",
       "      <th>MainScreenAppear</th>\n",
       "      <th>OffersScreenAppear</th>\n",
       "      <th>PaymentScreenSuccessful</th>\n",
       "    </tr>\n",
       "    <tr>\n",
       "      <th>userId</th>\n",
       "      <th>group</th>\n",
       "      <th></th>\n",
       "      <th></th>\n",
       "      <th></th>\n",
       "      <th></th>\n",
       "    </tr>\n",
       "  </thead>\n",
       "  <tbody>\n",
       "    <tr>\n",
       "      <th>6888746892508752</th>\n",
       "      <th>246</th>\n",
       "      <td>NaT</td>\n",
       "      <td>2019-08-06 14:06:34</td>\n",
       "      <td>NaT</td>\n",
       "      <td>NaT</td>\n",
       "    </tr>\n",
       "    <tr>\n",
       "      <th>6909561520679493</th>\n",
       "      <th>247</th>\n",
       "      <td>2019-08-06 18:52:58</td>\n",
       "      <td>2019-08-06 18:52:54</td>\n",
       "      <td>2019-08-06 18:53:04</td>\n",
       "      <td>2019-08-06 18:52:58</td>\n",
       "    </tr>\n",
       "    <tr>\n",
       "      <th>6922444491712477</th>\n",
       "      <th>246</th>\n",
       "      <td>2019-08-04 14:19:40</td>\n",
       "      <td>2019-08-04 14:19:33</td>\n",
       "      <td>2019-08-04 14:19:46</td>\n",
       "      <td>2019-08-04 14:19:40</td>\n",
       "    </tr>\n",
       "    <tr>\n",
       "      <th>7435777799948366</th>\n",
       "      <th>248</th>\n",
       "      <td>NaT</td>\n",
       "      <td>2019-08-05 08:06:34</td>\n",
       "      <td>NaT</td>\n",
       "      <td>NaT</td>\n",
       "    </tr>\n",
       "    <tr>\n",
       "      <th>7702139951469979</th>\n",
       "      <th>247</th>\n",
       "      <td>2019-08-02 14:28:45</td>\n",
       "      <td>2019-08-01 04:29:54</td>\n",
       "      <td>2019-08-01 04:29:56</td>\n",
       "      <td>2019-08-02 14:28:45</td>\n",
       "    </tr>\n",
       "    <tr>\n",
       "      <th>...</th>\n",
       "      <th>...</th>\n",
       "      <td>...</td>\n",
       "      <td>...</td>\n",
       "      <td>...</td>\n",
       "      <td>...</td>\n",
       "    </tr>\n",
       "    <tr>\n",
       "      <th>9217594193087726423</th>\n",
       "      <th>246</th>\n",
       "      <td>2019-08-02 09:00:58</td>\n",
       "      <td>NaT</td>\n",
       "      <td>2019-08-02 09:01:08</td>\n",
       "      <td>2019-08-02 09:00:57</td>\n",
       "    </tr>\n",
       "    <tr>\n",
       "      <th>9219463515465815368</th>\n",
       "      <th>248</th>\n",
       "      <td>2019-08-06 16:49:40</td>\n",
       "      <td>2019-08-05 05:26:26</td>\n",
       "      <td>2019-08-06 16:48:57</td>\n",
       "      <td>2019-08-06 16:52:16</td>\n",
       "    </tr>\n",
       "    <tr>\n",
       "      <th>9220879493065341500</th>\n",
       "      <th>246</th>\n",
       "      <td>2019-08-02 17:59:16</td>\n",
       "      <td>2019-08-02 17:58:48</td>\n",
       "      <td>2019-08-02 17:59:00</td>\n",
       "      <td>NaT</td>\n",
       "    </tr>\n",
       "    <tr>\n",
       "      <th>9221926045299980007</th>\n",
       "      <th>246</th>\n",
       "      <td>NaT</td>\n",
       "      <td>2019-08-01 17:30:27</td>\n",
       "      <td>NaT</td>\n",
       "      <td>NaT</td>\n",
       "    </tr>\n",
       "    <tr>\n",
       "      <th>9222603179720523844</th>\n",
       "      <th>248</th>\n",
       "      <td>NaT</td>\n",
       "      <td>2019-08-01 06:52:13</td>\n",
       "      <td>NaT</td>\n",
       "      <td>NaT</td>\n",
       "    </tr>\n",
       "  </tbody>\n",
       "</table>\n",
       "<p>7534 rows × 4 columns</p>\n",
       "</div>"
      ],
      "text/plain": [
       "event_name                   CartScreenAppear    MainScreenAppear  \\\n",
       "userId              group                                           \n",
       "6888746892508752    246                   NaT 2019-08-06 14:06:34   \n",
       "6909561520679493    247   2019-08-06 18:52:58 2019-08-06 18:52:54   \n",
       "6922444491712477    246   2019-08-04 14:19:40 2019-08-04 14:19:33   \n",
       "7435777799948366    248                   NaT 2019-08-05 08:06:34   \n",
       "7702139951469979    247   2019-08-02 14:28:45 2019-08-01 04:29:54   \n",
       "...                                       ...                 ...   \n",
       "9217594193087726423 246   2019-08-02 09:00:58                 NaT   \n",
       "9219463515465815368 248   2019-08-06 16:49:40 2019-08-05 05:26:26   \n",
       "9220879493065341500 246   2019-08-02 17:59:16 2019-08-02 17:58:48   \n",
       "9221926045299980007 246                   NaT 2019-08-01 17:30:27   \n",
       "9222603179720523844 248                   NaT 2019-08-01 06:52:13   \n",
       "\n",
       "event_name                 OffersScreenAppear PaymentScreenSuccessful  \n",
       "userId              group                                              \n",
       "6888746892508752    246                   NaT                     NaT  \n",
       "6909561520679493    247   2019-08-06 18:53:04     2019-08-06 18:52:58  \n",
       "6922444491712477    246   2019-08-04 14:19:46     2019-08-04 14:19:40  \n",
       "7435777799948366    248                   NaT                     NaT  \n",
       "7702139951469979    247   2019-08-01 04:29:56     2019-08-02 14:28:45  \n",
       "...                                       ...                     ...  \n",
       "9217594193087726423 246   2019-08-02 09:01:08     2019-08-02 09:00:57  \n",
       "9219463515465815368 248   2019-08-06 16:48:57     2019-08-06 16:52:16  \n",
       "9220879493065341500 246   2019-08-02 17:59:00                     NaT  \n",
       "9221926045299980007 246                   NaT                     NaT  \n",
       "9222603179720523844 248                   NaT                     NaT  \n",
       "\n",
       "[7534 rows x 4 columns]"
      ]
     },
     "execution_count": 44,
     "metadata": {},
     "output_type": "execute_result"
    }
   ],
   "source": [
    "gr_profel = df_good.pivot_table(\n",
    "    index=['userId', 'group'],\n",
    "    columns='event_name', \n",
    "    values='dt',\n",
    "    aggfunc='min')\n",
    "gr_profel = gr_profel.drop(labels = ['Tutorial'],axis = 1)\n",
    "gr_profel"
   ]
  },
  {
   "cell_type": "code",
   "execution_count": 45,
   "metadata": {},
   "outputs": [],
   "source": [
    "g_246 = gr_profel.query('group == 246')\n",
    "g_247 = gr_profel.query('group == 247')\n",
    "g_248 = gr_profel.query('group == 248')"
   ]
  },
  {
   "cell_type": "code",
   "execution_count": 46,
   "metadata": {},
   "outputs": [],
   "source": [
    "g_246lvl_1 = ~g_246['MainScreenAppear'].isna() \n",
    "g_246lvl_2 = g_246lvl_1 & (g_246['OffersScreenAppear'] > g_246['MainScreenAppear']) \n",
    "g_246lvl_3 = g_246lvl_2 & (g_246['CartScreenAppear'] > g_246['OffersScreenAppear']) \n",
    "g_246lvl_4 = g_246lvl_3 & (g_246['PaymentScreenSuccessful'] > g_246['CartScreenAppear'])\n",
    "\n",
    "g_247lvl_1 = ~g_247['MainScreenAppear'].isna() \n",
    "g_247lvl_2 = g_247lvl_1 & (g_247['OffersScreenAppear'] > g_247['MainScreenAppear']) \n",
    "g_247lvl_3 = g_247lvl_2 & (g_247['CartScreenAppear'] > g_247['OffersScreenAppear']) \n",
    "g_247lvl_4 = g_247lvl_3 & (g_247['PaymentScreenSuccessful'] > g_247['CartScreenAppear'])\n",
    "\n",
    "g_248lvl_1 = ~g_248['MainScreenAppear'].isna() \n",
    "g_248lvl_2 = g_248lvl_1 & (g_248['OffersScreenAppear'] > g_248['MainScreenAppear']) \n",
    "g_248lvl_3 = g_248lvl_2 & (g_248['CartScreenAppear'] > g_248['OffersScreenAppear']) \n",
    "g_248lvl_4 = g_248lvl_3 & (g_248['PaymentScreenSuccessful'] > g_248['CartScreenAppear'])"
   ]
  },
  {
   "cell_type": "code",
   "execution_count": 47,
   "metadata": {},
   "outputs": [],
   "source": [
    "g_246count_lvl_1 = g_246[g_246lvl_1].shape[0]\n",
    "g_246count_lvl_2 = g_246[g_246lvl_2].shape[0]\n",
    "g_246count_lvl_3 = g_246[g_246lvl_3].shape[0]\n",
    "g_246count_lvl_4 = g_246[g_246lvl_4].shape[0]\n",
    "\n",
    "g_247count_lvl_1 = g_247[g_247lvl_1].shape[0]\n",
    "g_247count_lvl_2 = g_247[g_247lvl_2].shape[0]\n",
    "g_247count_lvl_3 = g_247[g_247lvl_3].shape[0]\n",
    "g_247count_lvl_4 = g_247[g_247lvl_4].shape[0]\n",
    "\n",
    "g_248count_lvl_1 = g_248[g_248lvl_1].shape[0]\n",
    "g_248count_lvl_2 = g_248[g_248lvl_2].shape[0]\n",
    "g_248count_lvl_3 = g_248[g_248lvl_3].shape[0]\n",
    "g_248count_lvl_4 = g_248[g_248lvl_4].shape[0]"
   ]
  },
  {
   "cell_type": "code",
   "execution_count": 48,
   "metadata": {},
   "outputs": [
    {
     "data": {
      "text/html": [
       "<div>\n",
       "<style scoped>\n",
       "    .dataframe tbody tr th:only-of-type {\n",
       "        vertical-align: middle;\n",
       "    }\n",
       "\n",
       "    .dataframe tbody tr th {\n",
       "        vertical-align: top;\n",
       "    }\n",
       "\n",
       "    .dataframe thead th {\n",
       "        text-align: right;\n",
       "    }\n",
       "</style>\n",
       "<table border=\"1\" class=\"dataframe\">\n",
       "  <thead>\n",
       "    <tr style=\"text-align: right;\">\n",
       "      <th></th>\n",
       "      <th>event_name</th>\n",
       "      <th>count</th>\n",
       "      <th>%</th>\n",
       "    </tr>\n",
       "  </thead>\n",
       "  <tbody>\n",
       "    <tr>\n",
       "      <th>0</th>\n",
       "      <td>MainScreenAppear</td>\n",
       "      <td>2450</td>\n",
       "      <td>33.02</td>\n",
       "    </tr>\n",
       "    <tr>\n",
       "      <th>1</th>\n",
       "      <td>OffersScreenAppear</td>\n",
       "      <td>1411</td>\n",
       "      <td>57.59</td>\n",
       "    </tr>\n",
       "    <tr>\n",
       "      <th>2</th>\n",
       "      <td>CartScreenAppear</td>\n",
       "      <td>584</td>\n",
       "      <td>41.39</td>\n",
       "    </tr>\n",
       "    <tr>\n",
       "      <th>3</th>\n",
       "      <td>PaymentScreenSuccessful</td>\n",
       "      <td>145</td>\n",
       "      <td>24.83</td>\n",
       "    </tr>\n",
       "  </tbody>\n",
       "</table>\n",
       "</div>"
      ],
      "text/plain": [
       "                event_name  count      %\n",
       "0         MainScreenAppear   2450  33.02\n",
       "1       OffersScreenAppear   1411  57.59\n",
       "2         CartScreenAppear    584  41.39\n",
       "3  PaymentScreenSuccessful    145  24.83"
      ]
     },
     "execution_count": 48,
     "metadata": {},
     "output_type": "execute_result"
    }
   ],
   "source": [
    "g_246sob = {'event_name': ['MainScreenAppear', 'OffersScreenAppear', 'CartScreenAppear', 'PaymentScreenSuccessful'], 'count': [g_246count_lvl_1, g_246count_lvl_2, g_246count_lvl_3, g_246count_lvl_4]}\n",
    "g_246sob_fin = pd.DataFrame(g_246sob) \n",
    "g_246sob_fin['%'] = g_246sob_fin['count'] / g_246sob_fin['count'].shift(1).fillna(7419/1)\n",
    "g_246sob_fin['%'] = g_246sob_fin['%'].round(4) *100\n",
    "g_246sob_fin"
   ]
  },
  {
   "cell_type": "code",
   "execution_count": 49,
   "metadata": {},
   "outputs": [
    {
     "data": {
      "text/html": [
       "<div>\n",
       "<style scoped>\n",
       "    .dataframe tbody tr th:only-of-type {\n",
       "        vertical-align: middle;\n",
       "    }\n",
       "\n",
       "    .dataframe tbody tr th {\n",
       "        vertical-align: top;\n",
       "    }\n",
       "\n",
       "    .dataframe thead th {\n",
       "        text-align: right;\n",
       "    }\n",
       "</style>\n",
       "<table border=\"1\" class=\"dataframe\">\n",
       "  <thead>\n",
       "    <tr style=\"text-align: right;\">\n",
       "      <th></th>\n",
       "      <th>event_name</th>\n",
       "      <th>count</th>\n",
       "      <th>%</th>\n",
       "    </tr>\n",
       "  </thead>\n",
       "  <tbody>\n",
       "    <tr>\n",
       "      <th>0</th>\n",
       "      <td>MainScreenAppear</td>\n",
       "      <td>2476</td>\n",
       "      <td>33.37</td>\n",
       "    </tr>\n",
       "    <tr>\n",
       "      <th>1</th>\n",
       "      <td>OffersScreenAppear</td>\n",
       "      <td>1379</td>\n",
       "      <td>55.69</td>\n",
       "    </tr>\n",
       "    <tr>\n",
       "      <th>2</th>\n",
       "      <td>CartScreenAppear</td>\n",
       "      <td>600</td>\n",
       "      <td>43.51</td>\n",
       "    </tr>\n",
       "    <tr>\n",
       "      <th>3</th>\n",
       "      <td>PaymentScreenSuccessful</td>\n",
       "      <td>144</td>\n",
       "      <td>24.00</td>\n",
       "    </tr>\n",
       "  </tbody>\n",
       "</table>\n",
       "</div>"
      ],
      "text/plain": [
       "                event_name  count      %\n",
       "0         MainScreenAppear   2476  33.37\n",
       "1       OffersScreenAppear   1379  55.69\n",
       "2         CartScreenAppear    600  43.51\n",
       "3  PaymentScreenSuccessful    144  24.00"
      ]
     },
     "execution_count": 49,
     "metadata": {},
     "output_type": "execute_result"
    }
   ],
   "source": [
    "g_247sob = {'event_name': ['MainScreenAppear', 'OffersScreenAppear', 'CartScreenAppear', 'PaymentScreenSuccessful'], 'count': [g_247count_lvl_1, g_247count_lvl_2, g_247count_lvl_3, g_247count_lvl_4]}\n",
    "g_247sob_fin = pd.DataFrame(g_247sob) \n",
    "g_247sob_fin['%'] = g_247sob_fin['count'] / g_247sob_fin['count'].shift(1).fillna(7419/1)\n",
    "g_247sob_fin['%'] = g_247sob_fin['%'].round(4) *100\n",
    "g_247sob_fin"
   ]
  },
  {
   "cell_type": "code",
   "execution_count": 50,
   "metadata": {},
   "outputs": [
    {
     "data": {
      "text/html": [
       "<div>\n",
       "<style scoped>\n",
       "    .dataframe tbody tr th:only-of-type {\n",
       "        vertical-align: middle;\n",
       "    }\n",
       "\n",
       "    .dataframe tbody tr th {\n",
       "        vertical-align: top;\n",
       "    }\n",
       "\n",
       "    .dataframe thead th {\n",
       "        text-align: right;\n",
       "    }\n",
       "</style>\n",
       "<table border=\"1\" class=\"dataframe\">\n",
       "  <thead>\n",
       "    <tr style=\"text-align: right;\">\n",
       "      <th></th>\n",
       "      <th>event_name</th>\n",
       "      <th>count</th>\n",
       "      <th>%</th>\n",
       "    </tr>\n",
       "  </thead>\n",
       "  <tbody>\n",
       "    <tr>\n",
       "      <th>0</th>\n",
       "      <td>MainScreenAppear</td>\n",
       "      <td>2493</td>\n",
       "      <td>33.60</td>\n",
       "    </tr>\n",
       "    <tr>\n",
       "      <th>1</th>\n",
       "      <td>OffersScreenAppear</td>\n",
       "      <td>1411</td>\n",
       "      <td>56.60</td>\n",
       "    </tr>\n",
       "    <tr>\n",
       "      <th>2</th>\n",
       "      <td>CartScreenAppear</td>\n",
       "      <td>583</td>\n",
       "      <td>41.32</td>\n",
       "    </tr>\n",
       "    <tr>\n",
       "      <th>3</th>\n",
       "      <td>PaymentScreenSuccessful</td>\n",
       "      <td>165</td>\n",
       "      <td>28.30</td>\n",
       "    </tr>\n",
       "  </tbody>\n",
       "</table>\n",
       "</div>"
      ],
      "text/plain": [
       "                event_name  count      %\n",
       "0         MainScreenAppear   2493  33.60\n",
       "1       OffersScreenAppear   1411  56.60\n",
       "2         CartScreenAppear    583  41.32\n",
       "3  PaymentScreenSuccessful    165  28.30"
      ]
     },
     "execution_count": 50,
     "metadata": {},
     "output_type": "execute_result"
    }
   ],
   "source": [
    "g_248sob = {'event_name': ['MainScreenAppear', 'OffersScreenAppear', 'CartScreenAppear', 'PaymentScreenSuccessful'], 'count': [g_248count_lvl_1, g_248count_lvl_2, g_248count_lvl_3, g_248count_lvl_4]}\n",
    "g_248sob_fin = pd.DataFrame(g_248sob) \n",
    "g_248sob_fin['%'] = g_248sob_fin['count'] / g_248sob_fin['count'].shift(1).fillna(7419/1)\n",
    "g_248sob_fin['%'] = g_248sob_fin['%'].round(4) *100\n",
    "g_248sob_fin"
   ]
  },
  {
   "cell_type": "markdown",
   "metadata": {},
   "source": [
    "<b> Таким образом, заметим что если смотреть по количеству уникальных пользователей на каждом шаге воронке то конверсия показывает довольно хорошие значения, однако если проследить за пользователями которые пошагово переходили от пускта к пункту, то конверсия резко падает, разберемся в чем причина далее"
   ]
  },
  {
   "cell_type": "markdown",
   "metadata": {},
   "source": [
    "На каком шаге теряете больше всего пользователей?"
   ]
  },
  {
   "cell_type": "markdown",
   "metadata": {},
   "source": [
    "<b> При переходе на второй этап (OffersScreenAppear) теряется больше всего пользователь в абсолютном выражении (больше тысячи уникальных пользователей), но на последнем этапе (PaymentScreenSuccessful) теряется больше всего пользователей в процентном выражении (порядка 74%)"
   ]
  },
  {
   "cell_type": "markdown",
   "metadata": {},
   "source": [
    "Какая доля пользователей доходит от первого события до оплаты?"
   ]
  },
  {
   "cell_type": "code",
   "execution_count": 51,
   "metadata": {},
   "outputs": [
    {
     "data": {
      "text/plain": [
       "0         NaN\n",
       "1         NaN\n",
       "2         NaN\n",
       "3    6.119423\n",
       "Name: count, dtype: float64"
      ]
     },
     "execution_count": 51,
     "metadata": {},
     "output_type": "execute_result"
    }
   ],
   "source": [
    "sob_fin['count'] / sob_fin['count'].shift(3)*100"
   ]
  },
  {
   "cell_type": "markdown",
   "metadata": {},
   "source": [
    "<b> Всего 6,12% пользоватеоей доходят до оплаты"
   ]
  },
  {
   "cell_type": "markdown",
   "metadata": {},
   "source": [
    "### Изучим результаты эксперимента"
   ]
  },
  {
   "cell_type": "markdown",
   "metadata": {},
   "source": [
    "Сколько пользователей в каждой экспериментальной группе?"
   ]
  },
  {
   "cell_type": "code",
   "execution_count": 52,
   "metadata": {},
   "outputs": [
    {
     "data": {
      "text/html": [
       "<div>\n",
       "<style scoped>\n",
       "    .dataframe tbody tr th:only-of-type {\n",
       "        vertical-align: middle;\n",
       "    }\n",
       "\n",
       "    .dataframe tbody tr th {\n",
       "        vertical-align: top;\n",
       "    }\n",
       "\n",
       "    .dataframe thead tr th {\n",
       "        text-align: left;\n",
       "    }\n",
       "\n",
       "    .dataframe thead tr:last-of-type th {\n",
       "        text-align: right;\n",
       "    }\n",
       "</style>\n",
       "<table border=\"1\" class=\"dataframe\">\n",
       "  <thead>\n",
       "    <tr>\n",
       "      <th></th>\n",
       "      <th colspan=\"2\" halign=\"left\">userId</th>\n",
       "    </tr>\n",
       "    <tr>\n",
       "      <th></th>\n",
       "      <th>count</th>\n",
       "      <th>nunique</th>\n",
       "    </tr>\n",
       "    <tr>\n",
       "      <th>group</th>\n",
       "      <th></th>\n",
       "      <th></th>\n",
       "    </tr>\n",
       "  </thead>\n",
       "  <tbody>\n",
       "    <tr>\n",
       "      <th>246</th>\n",
       "      <td>79302</td>\n",
       "      <td>2484</td>\n",
       "    </tr>\n",
       "    <tr>\n",
       "      <th>247</th>\n",
       "      <td>77022</td>\n",
       "      <td>2513</td>\n",
       "    </tr>\n",
       "    <tr>\n",
       "      <th>248</th>\n",
       "      <td>84563</td>\n",
       "      <td>2537</td>\n",
       "    </tr>\n",
       "  </tbody>\n",
       "</table>\n",
       "</div>"
      ],
      "text/plain": [
       "      userId        \n",
       "       count nunique\n",
       "group               \n",
       "246    79302    2484\n",
       "247    77022    2513\n",
       "248    84563    2537"
      ]
     },
     "execution_count": 52,
     "metadata": {},
     "output_type": "execute_result"
    }
   ],
   "source": [
    "df_good.groupby('group').agg({'userId': ['count', 'nunique']})"
   ]
  },
  {
   "cell_type": "code",
   "execution_count": 53,
   "metadata": {},
   "outputs": [],
   "source": [
    "df_good_fin = df_good[df_good.event_name != 'Tutorial']"
   ]
  },
  {
   "cell_type": "code",
   "execution_count": 54,
   "metadata": {},
   "outputs": [
    {
     "data": {
      "text/html": [
       "<div>\n",
       "<style scoped>\n",
       "    .dataframe tbody tr th:only-of-type {\n",
       "        vertical-align: middle;\n",
       "    }\n",
       "\n",
       "    .dataframe tbody tr th {\n",
       "        vertical-align: top;\n",
       "    }\n",
       "\n",
       "    .dataframe thead tr th {\n",
       "        text-align: left;\n",
       "    }\n",
       "\n",
       "    .dataframe thead tr:last-of-type th {\n",
       "        text-align: right;\n",
       "    }\n",
       "</style>\n",
       "<table border=\"1\" class=\"dataframe\">\n",
       "  <thead>\n",
       "    <tr>\n",
       "      <th></th>\n",
       "      <th colspan=\"2\" halign=\"left\">userId</th>\n",
       "    </tr>\n",
       "    <tr>\n",
       "      <th></th>\n",
       "      <th>count</th>\n",
       "      <th>nunique</th>\n",
       "    </tr>\n",
       "    <tr>\n",
       "      <th>group</th>\n",
       "      <th></th>\n",
       "      <th></th>\n",
       "    </tr>\n",
       "  </thead>\n",
       "  <tbody>\n",
       "    <tr>\n",
       "      <th>246</th>\n",
       "      <td>78985</td>\n",
       "      <td>2483</td>\n",
       "    </tr>\n",
       "    <tr>\n",
       "      <th>247</th>\n",
       "      <td>76684</td>\n",
       "      <td>2512</td>\n",
       "    </tr>\n",
       "    <tr>\n",
       "      <th>248</th>\n",
       "      <td>84213</td>\n",
       "      <td>2535</td>\n",
       "    </tr>\n",
       "  </tbody>\n",
       "</table>\n",
       "</div>"
      ],
      "text/plain": [
       "      userId        \n",
       "       count nunique\n",
       "group               \n",
       "246    78985    2483\n",
       "247    76684    2512\n",
       "248    84213    2535"
      ]
     },
     "execution_count": 54,
     "metadata": {},
     "output_type": "execute_result"
    }
   ],
   "source": [
    "df_good_fin.groupby('group').agg({'userId': ['count', 'nunique']})"
   ]
  },
  {
   "cell_type": "code",
   "execution_count": 55,
   "metadata": {},
   "outputs": [
    {
     "name": "stdout",
     "output_type": "stream",
     "text": [
      "0.9884554140127388\n",
      "0.9794871794871794\n",
      "0.9909270216962525\n"
     ]
    }
   ],
   "source": [
    "print(2483/2512)\n",
    "print(2483/2535)\n",
    "print(2512/2535)"
   ]
  },
  {
   "cell_type": "code",
   "execution_count": 56,
   "metadata": {},
   "outputs": [
    {
     "data": {
      "text/plain": [
       "2476"
      ]
     },
     "execution_count": 56,
     "metadata": {},
     "output_type": "execute_result"
    }
   ],
   "source": [
    "g_247sob_fin.loc[0, 'count'] "
   ]
  },
  {
   "cell_type": "markdown",
   "metadata": {},
   "source": [
    "<b>Были отобраны уникальные пользователи которые попали в обозначенную нами воронку, заметим что в группах А/А различия в количестве участников чуть больше 1%, а разница 247 и 248 групп составляет 2%"
   ]
  },
  {
   "cell_type": "markdown",
   "metadata": {},
   "source": [
    "Есть 2 контрольные группы для А/А-эксперимента, чтобы проверить корректность всех механизмов и расчётов. Проверьте, находят ли статистические критерии разницу между выборками 246 и 247."
   ]
  },
  {
   "cell_type": "markdown",
   "metadata": {},
   "source": [
    "Далее проверим статистическую значимость различий пропорций между группами. Нулевая гипотеза: различий в пропорции между группами нет. Альтернативная гипотеза: различия в пропорции между группами есть."
   ]
  },
  {
   "cell_type": "code",
   "execution_count": 57,
   "metadata": {},
   "outputs": [
    {
     "name": "stdout",
     "output_type": "stream",
     "text": [
      "p-значение:  0.8783092501812453\n",
      "Не получилось отвергнуть нулевую гипотезу, нет оснований считать доли разными\n"
     ]
    }
   ],
   "source": [
    "alpha = .05 # критический уровень статистической значимости\n",
    "\n",
    "successes = np.array([g_246sob_fin.loc[3, 'count'], g_247sob_fin.loc[3, 'count']])\n",
    "trials = np.array([g_246sob_fin.loc[0, 'count'], g_247sob_fin.loc[0, 'count']])\n",
    "\n",
    "# пропорция успехов в первой группе:\n",
    "p1 = successes[0]/trials[0]\n",
    "\n",
    "# пропорция успехов во второй группе:\n",
    "p2 = successes[1]/trials[1]\n",
    "\n",
    "# пропорция успехов в комбинированном датасете:\n",
    "p_combined = (successes[0] + successes[1]) / (trials[0] + trials[1])\n",
    "\n",
    "# разница пропорций в датасетах\n",
    "difference = p1 - p2 \n",
    "\n",
    "# считаем статистику в ст.отклонениях стандартного нормального распределения\n",
    "z_value = difference / mth.sqrt(p_combined * (1 - p_combined) * (1/trials[0] + 1/trials[1]))\n",
    "\n",
    "# задаем стандартное нормальное распределение (среднее 0, ст.отклонение 1)\n",
    "distr = st.norm(0, 1)  \n",
    "\n",
    "p_value = (1 - distr.cdf(abs(z_value))) * 2\n",
    "\n",
    "print('p-значение: ', p_value)\n",
    "\n",
    "if p_value < alpha:\n",
    "    print('Отвергаем нулевую гипотезу: между долями есть значимая разница')\n",
    "else:\n",
    "    print(\n",
    "        'Не получилось отвергнуть нулевую гипотезу, нет оснований считать доли разными'\n",
    "    ) "
   ]
  },
  {
   "cell_type": "markdown",
   "metadata": {},
   "source": [
    "Выберите самое популярное событие. Посчитайте число пользователей, совершивших это событие в каждой из контрольных групп. Посчитайте долю пользователей, совершивших это событие. Проверьте, будет ли отличие между группами статистически достоверным. Проделайте то же самое для всех других событий (удобно обернуть проверку в отдельную функцию). Можно ли сказать, что разбиение на группы работает корректно?"
   ]
  },
  {
   "cell_type": "code",
   "execution_count": 58,
   "metadata": {},
   "outputs": [
    {
     "name": "stdout",
     "output_type": "stream",
     "text": [
      "p-значение:  0.7526703436483038\n",
      "Не получилось отвергнуть нулевую гипотезу, нет оснований считать доли разными\n",
      "p-значение:  0.1791392160319234\n",
      "Не получилось отвергнуть нулевую гипотезу, нет оснований считать доли разными\n",
      "p-значение:  0.2571602924470018\n",
      "Не получилось отвергнуть нулевую гипотезу, нет оснований считать доли разными\n",
      "p-значение:  0.7399516568824782\n",
      "Не получилось отвергнуть нулевую гипотезу, нет оснований считать доли разными\n"
     ]
    }
   ],
   "source": [
    "alpha = .05 # критический уровень статистической значимости\n",
    "\n",
    "def substitute (successes, trials):\n",
    "\n",
    "# пропорция успехов в первой группе:\n",
    "    p1 = successes[0]/trials[0]\n",
    "\n",
    "# пропорция успехов во второй группе:\n",
    "    p2 = successes[1]/trials[1]\n",
    "\n",
    "# пропорция успехов в комбинированном датасете:\n",
    "    p_combined = (successes[0] + successes[1]) / (trials[0] + trials[1])\n",
    "\n",
    "# разница пропорций в датасетах\n",
    "    difference = p1 - p2 \n",
    "\n",
    "# считаем статистику в ст.отклонениях стандартного нормального распределения\n",
    "    z_value = difference / mth.sqrt(p_combined * (1 - p_combined) * (1/trials[0] + 1/trials[1]))\n",
    "\n",
    "# задаем стандартное нормальное распределение (среднее 0, ст.отклонение 1)\n",
    "    distr = st.norm(0, 1)  \n",
    "\n",
    "    p_value = (1 - distr.cdf(abs(z_value))) * 2\n",
    "\n",
    "    print('p-значение: ', p_value)\n",
    "\n",
    "    if p_value < alpha:\n",
    "        print('Отвергаем нулевую гипотезу: между долями есть значимая разница')\n",
    "    else:\n",
    "        print(\n",
    "            'Не получилось отвергнуть нулевую гипотезу, нет оснований считать доли разными'\n",
    "        ) \n",
    "    \n",
    "substitute(successes = np.array([g_246sob_fin.loc[0, 'count'], g_247sob_fin.loc[0, 'count']]), trials = np.array([2483, 2512]))\n",
    "substitute(successes = np.array([g_246sob_fin.loc[1, 'count'], g_247sob_fin.loc[1, 'count']]), trials = np.array([g_246sob_fin.loc[0, 'count'], g_247sob_fin.loc[0, 'count']]))\n",
    "substitute(successes = np.array([g_246sob_fin.loc[2, 'count'], g_247sob_fin.loc[2, 'count']]), trials = np.array([g_246sob_fin.loc[1, 'count'], g_247sob_fin.loc[1, 'count']]))\n",
    "substitute(successes = np.array([g_246sob_fin.loc[3, 'count'], g_247sob_fin.loc[3, 'count']]), trials = np.array([g_246sob_fin.loc[2, 'count'], g_247sob_fin.loc[2, 'count']]))"
   ]
  },
  {
   "cell_type": "markdown",
   "metadata": {},
   "source": [
    "Были проверены все переходы пользователей на следующий этап, нет оснований считать доли в группах разными"
   ]
  },
  {
   "cell_type": "markdown",
   "metadata": {},
   "source": [
    "Аналогично поступите с группой с изменённым шрифтом. Сравните результаты с каждой из контрольных групп в отдельности по каждому событию. Сравните результаты с объединённой контрольной группой. Какие выводы из эксперимента можно сделать?"
   ]
  },
  {
   "cell_type": "code",
   "execution_count": 59,
   "metadata": {},
   "outputs": [
    {
     "name": "stdout",
     "output_type": "stream",
     "text": [
      "сравниваем 246 и 248 группы\n",
      "p-значение:  0.3387114076159288\n",
      "Не получилось отвергнуть нулевую гипотезу, нет оснований считать доли разными\n",
      "p-значение:  0.48049838808343814\n",
      "Не получилось отвергнуть нулевую гипотезу, нет оснований считать доли разными\n",
      "p-значение:  0.9695085280919828\n",
      "Не получилось отвергнуть нулевую гипотезу, нет оснований считать доли разными\n",
      "p-значение:  0.17922330576112433\n",
      "Не получилось отвергнуть нулевую гипотезу, нет оснований считать доли разными\n",
      "-------------------------------------------------------------------\n",
      "сравниваем 247 и 248 группы\n",
      "p-значение:  0.5194964354051703\n",
      "Не получилось отвергнуть нулевую гипотезу, нет оснований считать доли разными\n",
      "p-значение:  0.5208915431808141\n",
      "Не получилось отвергнуть нулевую гипотезу, нет оснований считать доли разными\n",
      "p-значение:  0.24154783250462764\n",
      "Не получилось отвергнуть нулевую гипотезу, нет оснований считать доли разными\n",
      "p-значение:  0.09219350245330471\n",
      "Не получилось отвергнуть нулевую гипотезу, нет оснований считать доли разными\n",
      "-------------------------------------------------------------------\n",
      "сравниваем объединенные 246 и 247 с 248 группой\n",
      "p-значение:  0.3486684291093256\n",
      "Не получилось отвергнуть нулевую гипотезу, нет оснований считать доли разными\n",
      "p-значение:  0.9739544491299794\n",
      "Не получилось отвергнуть нулевую гипотезу, нет оснований считать доли разными\n",
      "p-значение:  0.48772425017293974\n",
      "Не получилось отвергнуть нулевую гипотезу, нет оснований считать доли разными\n",
      "p-значение:  0.07823520976058496\n",
      "Не получилось отвергнуть нулевую гипотезу, нет оснований считать доли разными\n",
      "-------------------------------------------------------------------\n"
     ]
    }
   ],
   "source": [
    "alpha = .05 # критический уровень статистической значимости\n",
    "\n",
    "def substitute (successes, trials):\n",
    "\n",
    "# пропорция успехов в первой группе:\n",
    "    p1 = successes[0]/trials[0]\n",
    "\n",
    "# пропорция успехов во второй группе:\n",
    "    p2 = successes[1]/trials[1]\n",
    "\n",
    "# пропорция успехов в комбинированном датасете:\n",
    "    p_combined = (successes[0] + successes[1]) / (trials[0] + trials[1])\n",
    "\n",
    "# разница пропорций в датасетах\n",
    "    difference = p1 - p2 \n",
    "\n",
    "# считаем статистику в ст.отклонениях стандартного нормального распределения\n",
    "    z_value = difference / mth.sqrt(p_combined * (1 - p_combined) * (1/trials[0] + 1/trials[1]))\n",
    "\n",
    "# задаем стандартное нормальное распределение (среднее 0, ст.отклонение 1)\n",
    "    distr = st.norm(0, 1)  \n",
    "\n",
    "    p_value = (1 - distr.cdf(abs(z_value))) * 2\n",
    "\n",
    "    print('p-значение: ', p_value)\n",
    "\n",
    "    if p_value < alpha:\n",
    "        print('Отвергаем нулевую гипотезу: между долями есть значимая разница')\n",
    "    else:\n",
    "        print(\n",
    "            'Не получилось отвергнуть нулевую гипотезу, нет оснований считать доли разными'\n",
    "        ) \n",
    "print('сравниваем 246 и 248 группы')     \n",
    "substitute(successes = np.array([g_246sob_fin.loc[0, 'count'], g_248sob_fin.loc[0, 'count']]), trials = np.array([2483, 2535]))\n",
    "substitute(successes = np.array([g_246sob_fin.loc[1, 'count'], g_248sob_fin.loc[1, 'count']]), trials = np.array([g_246sob_fin.loc[0, 'count'], g_248sob_fin.loc[0, 'count']]))\n",
    "substitute(successes = np.array([g_246sob_fin.loc[2, 'count'], g_248sob_fin.loc[2, 'count']]), trials = np.array([g_246sob_fin.loc[1, 'count'], g_248sob_fin.loc[1, 'count']]))\n",
    "substitute(successes = np.array([g_246sob_fin.loc[3, 'count'], g_248sob_fin.loc[3, 'count']]), trials = np.array([g_246sob_fin.loc[2, 'count'], g_248sob_fin.loc[2, 'count']]))\n",
    "\n",
    "print('-------------------------------------------------------------------')\n",
    "print('сравниваем 247 и 248 группы') \n",
    "substitute(successes = np.array([g_247sob_fin.loc[0, 'count'], g_248sob_fin.loc[0, 'count']]), trials = np.array([2512, 2535]))\n",
    "substitute(successes = np.array([g_247sob_fin.loc[1, 'count'], g_248sob_fin.loc[1, 'count']]), trials = np.array([g_247sob_fin.loc[0, 'count'], g_248sob_fin.loc[0, 'count']]))\n",
    "substitute(successes = np.array([g_247sob_fin.loc[2, 'count'], g_248sob_fin.loc[2, 'count']]), trials = np.array([g_247sob_fin.loc[1, 'count'], g_248sob_fin.loc[1, 'count']]))\n",
    "substitute(successes = np.array([g_247sob_fin.loc[3, 'count'], g_248sob_fin.loc[3, 'count']]), trials = np.array([g_247sob_fin.loc[2, 'count'], g_248sob_fin.loc[2, 'count']]))\n",
    "\n",
    "print('-------------------------------------------------------------------')\n",
    "print('сравниваем объединенные 246 и 247 с 248 группой') \n",
    "substitute(successes = np.array([g_246sob_fin.loc[0, 'count']+g_247sob_fin.loc[0, 'count'], g_248sob_fin.loc[0, 'count']]), trials = np.array([2483+2512, 2535]))\n",
    "substitute(successes = np.array([g_246sob_fin.loc[1, 'count']+g_247sob_fin.loc[1, 'count'], g_248sob_fin.loc[1, 'count']]), trials = np.array([g_246sob_fin.loc[0, 'count']+g_247sob_fin.loc[0, 'count'], g_248sob_fin.loc[0, 'count']]))\n",
    "substitute(successes = np.array([g_246sob_fin.loc[2, 'count']+g_247sob_fin.loc[2, 'count'], g_248sob_fin.loc[2, 'count']]), trials = np.array([g_246sob_fin.loc[1, 'count']+g_247sob_fin.loc[1, 'count'], g_248sob_fin.loc[1, 'count']]))\n",
    "substitute(successes = np.array([g_246sob_fin.loc[3, 'count']+g_247sob_fin.loc[3, 'count'], g_248sob_fin.loc[3, 'count']]), trials = np.array([g_246sob_fin.loc[2, 'count']+g_247sob_fin.loc[2, 'count'], g_248sob_fin.loc[2, 'count']]))\n",
    "\n",
    "print('-------------------------------------------------------------------')"
   ]
  },
  {
   "cell_type": "markdown",
   "metadata": {},
   "source": [
    "данные можно считать пригодными, и тест в целом успешным, так как по всем соотношениям получены пригодные данные"
   ]
  },
  {
   "cell_type": "markdown",
   "metadata": {},
   "source": [
    "Какой уровень значимости вы выбрали при проверке статистических гипотез выше? Посчитайте, сколько проверок статистических гипотез вы сделали. При уровне значимости 0.1 каждый десятый раз можно получать ложный результат. Какой уровень значимости стоит применить? Если вы хотите изменить его, проделайте предыдущие пункты и проверьте свои выводы."
   ]
  },
  {
   "cell_type": "markdown",
   "metadata": {},
   "source": [
    "При увеличении уровня значимости возрастает возможность получения ошибки, что в принципе и происходит при ее уровне в 0,1 (каждый 4 результат показывает ошибку из 12 тестов), было решено применить уровень значимости 0,05 так как он показал вполне приемлемые показатели и является стандартным\n"
   ]
  },
  {
   "cell_type": "code",
   "execution_count": 60,
   "metadata": {},
   "outputs": [
    {
     "data": {
      "text/plain": [
       "0    2450\n",
       "1    1411\n",
       "2     584\n",
       "3     145\n",
       "Name: count, dtype: int64"
      ]
     },
     "execution_count": 60,
     "metadata": {},
     "output_type": "execute_result"
    }
   ],
   "source": [
    "g_246sob_fin.loc[:, 'count']"
   ]
  },
  {
   "cell_type": "code",
   "execution_count": 61,
   "metadata": {},
   "outputs": [
    {
     "data": {
      "text/plain": [
       "0    2476\n",
       "1    1379\n",
       "2     600\n",
       "3     144\n",
       "Name: count, dtype: int64"
      ]
     },
     "execution_count": 61,
     "metadata": {},
     "output_type": "execute_result"
    }
   ],
   "source": [
    "g_247sob_fin.loc[:, 'count']"
   ]
  },
  {
   "cell_type": "code",
   "execution_count": 62,
   "metadata": {},
   "outputs": [
    {
     "data": {
      "text/plain": [
       "0    2493\n",
       "1    1411\n",
       "2     583\n",
       "3     165\n",
       "Name: count, dtype: int64"
      ]
     },
     "execution_count": 62,
     "metadata": {},
     "output_type": "execute_result"
    }
   ],
   "source": [
    "g_248sob_fin.loc[:, 'count']"
   ]
  },
  {
   "cell_type": "code",
   "execution_count": 63,
   "metadata": {},
   "outputs": [
    {
     "name": "stdout",
     "output_type": "stream",
     "text": [
      "p-значение для сравнения групп А и B:  0.9976065642041096\n",
      "p-значение для сравнения групп B и C:  0.9859897626714496\n",
      "p-значение для сравнения групп А и C:  0.9835629311044438\n",
      "Не получилось отвергнуть нулевую гипотезу для сравнения групп А и B\n",
      "Не получилось отвергнуть нулевую гипотезу для сравнения групп B и C\n",
      "Не получилось отвергнуть нулевую гипотезу для сравнения групп А и C\n"
     ]
    }
   ],
   "source": [
    "#Проверим гипотезу о равенстве среднего количества пользователей в каждой паре датасетов. \n",
    "\n",
    "sample_A = [2450, 1411, 584, 145]\n",
    "sample_B = [2476, 1379, 600, 144]\n",
    "sample_C = [2493, 1411, 583, 165]\n",
    "\n",
    "alpha = 0.05  # критический уровень статистической значимости\n",
    "\n",
    "results_AB = st.ttest_ind(sample_A, sample_B)\n",
    "\n",
    "results_BC = st.ttest_ind(sample_B, sample_C)\n",
    "\n",
    "results_AC = st.ttest_ind(sample_A, sample_C)\n",
    "\n",
    "bonferroni_alpha = 1 - (1 - alpha)**(1/3)  # произведено три сравнения\n",
    "\n",
    "print('p-значение для сравнения групп А и B: ', results_AB.pvalue)\n",
    "print('p-значение для сравнения групп B и C: ', results_BC.pvalue)\n",
    "print('p-значение для сравнения групп А и C: ', results_AC.pvalue)\n",
    "\n",
    "if results_AB.pvalue < bonferroni_alpha:\n",
    "    print('Отвергаем нулевую гипотезу для сравнения групп А и B')\n",
    "else:\n",
    "    print(\n",
    "        'Не получилось отвергнуть нулевую гипотезу для сравнения групп А и B'\n",
    "    )\n",
    "\n",
    "if results_BC.pvalue < bonferroni_alpha:\n",
    "    print('Отвергаем нулевую гипотезу для сравнения групп B и C')\n",
    "else:\n",
    "    print(\n",
    "        'Не получилось отвергнуть нулевую гипотезу для сравнения групп B и C'\n",
    "    )\n",
    "\n",
    "if results_AC.pvalue < bonferroni_alpha:\n",
    "    print('Отвергаем нулевую гипотезу для сравнения групп А и C')\n",
    "else:\n",
    "    print(\n",
    "        'Не получилось отвергнуть нулевую гипотезу для сравнения групп А и C'\n",
    "    )"
   ]
  },
  {
   "cell_type": "markdown",
   "metadata": {},
   "source": [
    "Наблюдаемые данные не подтверждают наличие разницы числа пользователей между группами."
   ]
  },
  {
   "cell_type": "markdown",
   "metadata": {},
   "source": [
    "### Вывод"
   ]
  },
  {
   "cell_type": "markdown",
   "metadata": {},
   "source": [
    "В результате выполненного анализа данных мы приходим к следующим выводам:\n",
    "\n",
    "- При выгузке разделили столбцы, заметим что пропусков нет, однако не очень понятные названия столбцов и не читаемые форматы даты\n",
    "\n",
    "- Были переменованы столбцы на event_name, userId, dt, group, а также добавлен столбец data. Удалили дубликаты и выполнили проверку на пересечение пользователей в группах, пересечений не обнаружено\n",
    "\n",
    "- Всего в данных 5 событий и 7551 уникальных пользователей. В среднем на каждого пользователя приходится по 20 событий, однако после проверки данных на распределение во времени и после обрезания временных рамок количество уникальных пользователей сократилось до 7534 и до 19 событий на одного пользователя\n",
    "\n",
    "- Воронка выглядит следующим образом:\n",
    "\n",
    "1. Появление главного экрана\n",
    "2. Появление экрана предложений\n",
    "3. Появление экрана корзины\n",
    "4. Экран успешно завершенной покупки\n",
    "есть страница \"Руководство\", но, по всей видимости, она не входит в воронку, а используется лишь некоторыми пользователями в качестве помощи, поэтому уберем данный пункт из дальнейшего анализа\n",
    "\n",
    "Заметим что если смотреть по количеству уникальных пользователей на каждом шаге воронке то конверсия показывает довольно хорошие значения, однако если проследить за пользователями которые пошагово переходили от пускта к пункту, то конверсия резко падает.\n",
    "\n",
    "Больше всего пользователей теряется при переходе на второй этап (OffersScreenAppear) в абсолютном выражении, но на последнем этапе теряется больше всего пользователей в процентном выражении (порядка 74%) и всего 6,12% пользоватеоей доходят до оплаты\n",
    "\n",
    "- Были отобраны уникальные пользователи которые попали в обозначенную нами воронку, заметим что в группах А/А различия в количестве участников чуть больше 1%, а разница 247 и 248 групп составляет 2%\n",
    "\n",
    "- Данные можно считать пригодными, и тест в целом успешным, так как по всем соотношениям данные в группах являются равными. \n",
    "\n",
    "\n",
    "\n",
    "В целом по результату теста можно сказать, что дизайнерам стоит поменять все таки шрифт так как конверсия поднялась до 28% в отличии от контрольных групп, где этот показатель находился на уровне 25%"
   ]
  }
 ],
 "metadata": {
  "ExecuteTimeLog": [
   {
    "duration": 1237,
    "start_time": "2023-02-02T19:16:47.312Z"
   },
   {
    "duration": 94,
    "start_time": "2023-02-02T19:47:31.880Z"
   },
   {
    "duration": 3,
    "start_time": "2023-02-02T19:47:44.987Z"
   },
   {
    "duration": 91,
    "start_time": "2023-02-02T19:47:53.218Z"
   },
   {
    "duration": 3,
    "start_time": "2023-02-02T19:47:59.201Z"
   },
   {
    "duration": 7,
    "start_time": "2023-02-02T19:48:00.823Z"
   },
   {
    "duration": 3,
    "start_time": "2023-02-02T20:00:19.924Z"
   },
   {
    "duration": 7,
    "start_time": "2023-02-02T20:00:21.192Z"
   },
   {
    "duration": 3,
    "start_time": "2023-02-02T20:01:36.533Z"
   },
   {
    "duration": 8,
    "start_time": "2023-02-02T20:01:37.474Z"
   },
   {
    "duration": 682,
    "start_time": "2023-02-02T20:05:24.889Z"
   },
   {
    "duration": 18,
    "start_time": "2023-02-02T20:05:31.374Z"
   },
   {
    "duration": 170,
    "start_time": "2023-02-02T20:09:05.093Z"
   },
   {
    "duration": 10,
    "start_time": "2023-02-02T20:09:05.652Z"
   },
   {
    "duration": 1152,
    "start_time": "2023-02-03T19:15:41.046Z"
   },
   {
    "duration": 788,
    "start_time": "2023-02-03T19:15:43.004Z"
   },
   {
    "duration": 15,
    "start_time": "2023-02-03T19:15:44.380Z"
   },
   {
    "duration": 19,
    "start_time": "2023-02-03T19:20:30.368Z"
   },
   {
    "duration": 154,
    "start_time": "2023-02-03T19:48:06.726Z"
   },
   {
    "duration": 9,
    "start_time": "2023-02-03T19:48:10.146Z"
   },
   {
    "duration": 24,
    "start_time": "2023-02-03T19:48:13.594Z"
   },
   {
    "duration": 6,
    "start_time": "2023-02-03T20:00:21.260Z"
   },
   {
    "duration": 18,
    "start_time": "2023-02-03T20:05:09.573Z"
   },
   {
    "duration": 12,
    "start_time": "2023-02-03T20:11:09.110Z"
   },
   {
    "duration": 18,
    "start_time": "2023-02-03T20:11:23.242Z"
   },
   {
    "duration": 114,
    "start_time": "2023-02-03T20:21:04.008Z"
   },
   {
    "duration": 14,
    "start_time": "2023-02-03T20:21:47.796Z"
   },
   {
    "duration": 14,
    "start_time": "2023-02-03T20:21:52.728Z"
   },
   {
    "duration": 72,
    "start_time": "2023-02-03T20:37:07.994Z"
   },
   {
    "duration": 70,
    "start_time": "2023-02-03T20:38:50.431Z"
   },
   {
    "duration": 31,
    "start_time": "2023-02-03T20:39:02.526Z"
   },
   {
    "duration": 29,
    "start_time": "2023-02-03T20:39:53.035Z"
   },
   {
    "duration": 9,
    "start_time": "2023-02-03T20:40:26.766Z"
   },
   {
    "duration": 21,
    "start_time": "2023-02-03T20:40:34.220Z"
   },
   {
    "duration": 12,
    "start_time": "2023-02-03T20:40:45.076Z"
   },
   {
    "duration": 8,
    "start_time": "2023-02-03T20:40:49.982Z"
   },
   {
    "duration": 1404,
    "start_time": "2023-02-04T08:13:47.585Z"
   },
   {
    "duration": 925,
    "start_time": "2023-02-04T08:13:48.996Z"
   },
   {
    "duration": 15,
    "start_time": "2023-02-04T08:13:49.923Z"
   },
   {
    "duration": 22,
    "start_time": "2023-02-04T08:13:49.940Z"
   },
   {
    "duration": 7,
    "start_time": "2023-02-04T08:13:49.964Z"
   },
   {
    "duration": 28,
    "start_time": "2023-02-04T08:13:49.973Z"
   },
   {
    "duration": 14,
    "start_time": "2023-02-04T08:13:50.003Z"
   },
   {
    "duration": 17,
    "start_time": "2023-02-04T08:13:50.020Z"
   },
   {
    "duration": 18,
    "start_time": "2023-02-04T08:13:50.040Z"
   },
   {
    "duration": 81,
    "start_time": "2023-02-04T08:13:50.085Z"
   },
   {
    "duration": 86,
    "start_time": "2023-02-04T08:13:50.168Z"
   },
   {
    "duration": 29,
    "start_time": "2023-02-04T08:13:50.256Z"
   },
   {
    "duration": 28,
    "start_time": "2023-02-04T08:13:50.288Z"
   },
   {
    "duration": 18,
    "start_time": "2023-02-04T08:13:50.318Z"
   },
   {
    "duration": 47,
    "start_time": "2023-02-04T08:13:50.338Z"
   },
   {
    "duration": 10,
    "start_time": "2023-02-04T08:13:50.388Z"
   },
   {
    "duration": 18,
    "start_time": "2023-02-04T08:13:50.401Z"
   },
   {
    "duration": 3,
    "start_time": "2023-02-04T08:13:50.422Z"
   },
   {
    "duration": 38,
    "start_time": "2023-02-04T08:16:22.167Z"
   },
   {
    "duration": 54,
    "start_time": "2023-02-04T08:17:29.340Z"
   },
   {
    "duration": 8,
    "start_time": "2023-02-04T08:17:36.799Z"
   },
   {
    "duration": 9,
    "start_time": "2023-02-04T08:18:03.232Z"
   },
   {
    "duration": 6,
    "start_time": "2023-02-04T08:20:18.576Z"
   },
   {
    "duration": 21,
    "start_time": "2023-02-04T08:24:17.684Z"
   },
   {
    "duration": 4,
    "start_time": "2023-02-04T08:27:56.987Z"
   },
   {
    "duration": 5,
    "start_time": "2023-02-04T08:28:06.601Z"
   },
   {
    "duration": 113,
    "start_time": "2023-02-04T09:02:32.334Z"
   },
   {
    "duration": 95,
    "start_time": "2023-02-04T09:03:22.960Z"
   },
   {
    "duration": 1373,
    "start_time": "2023-02-04T09:08:44.780Z"
   },
   {
    "duration": 871,
    "start_time": "2023-02-04T09:08:46.155Z"
   },
   {
    "duration": 17,
    "start_time": "2023-02-04T09:08:47.028Z"
   },
   {
    "duration": 23,
    "start_time": "2023-02-04T09:08:47.047Z"
   },
   {
    "duration": 24,
    "start_time": "2023-02-04T09:08:47.074Z"
   },
   {
    "duration": 23,
    "start_time": "2023-02-04T09:08:47.101Z"
   },
   {
    "duration": 14,
    "start_time": "2023-02-04T09:08:47.126Z"
   },
   {
    "duration": 18,
    "start_time": "2023-02-04T09:08:47.142Z"
   },
   {
    "duration": 40,
    "start_time": "2023-02-04T09:08:47.161Z"
   },
   {
    "duration": 95,
    "start_time": "2023-02-04T09:08:47.203Z"
   },
   {
    "duration": 102,
    "start_time": "2023-02-04T09:08:47.300Z"
   },
   {
    "duration": 23,
    "start_time": "2023-02-04T09:08:47.403Z"
   },
   {
    "duration": 11,
    "start_time": "2023-02-04T09:08:47.428Z"
   },
   {
    "duration": 46,
    "start_time": "2023-02-04T09:08:47.442Z"
   },
   {
    "duration": 11,
    "start_time": "2023-02-04T09:08:47.490Z"
   },
   {
    "duration": 13,
    "start_time": "2023-02-04T09:08:47.503Z"
   },
   {
    "duration": 26,
    "start_time": "2023-02-04T09:08:47.518Z"
   },
   {
    "duration": 12,
    "start_time": "2023-02-04T09:08:47.546Z"
   },
   {
    "duration": 44,
    "start_time": "2023-02-04T09:08:47.560Z"
   },
   {
    "duration": 47,
    "start_time": "2023-02-04T09:08:47.609Z"
   },
   {
    "duration": 6,
    "start_time": "2023-02-04T09:08:47.658Z"
   },
   {
    "duration": 10,
    "start_time": "2023-02-04T09:08:47.666Z"
   },
   {
    "duration": 64,
    "start_time": "2023-02-04T09:30:31.602Z"
   },
   {
    "duration": 1301,
    "start_time": "2023-02-04T09:31:23.571Z"
   },
   {
    "duration": 757,
    "start_time": "2023-02-04T09:31:24.874Z"
   },
   {
    "duration": 17,
    "start_time": "2023-02-04T09:31:25.633Z"
   },
   {
    "duration": 25,
    "start_time": "2023-02-04T09:31:25.652Z"
   },
   {
    "duration": 8,
    "start_time": "2023-02-04T09:31:25.683Z"
   },
   {
    "duration": 34,
    "start_time": "2023-02-04T09:31:25.693Z"
   },
   {
    "duration": 13,
    "start_time": "2023-02-04T09:31:25.729Z"
   },
   {
    "duration": 17,
    "start_time": "2023-02-04T09:31:25.745Z"
   },
   {
    "duration": 30,
    "start_time": "2023-02-04T09:31:25.783Z"
   },
   {
    "duration": 75,
    "start_time": "2023-02-04T09:31:25.815Z"
   },
   {
    "duration": 84,
    "start_time": "2023-02-04T09:31:25.892Z"
   },
   {
    "duration": 25,
    "start_time": "2023-02-04T09:31:25.978Z"
   },
   {
    "duration": 9,
    "start_time": "2023-02-04T09:31:26.006Z"
   },
   {
    "duration": 27,
    "start_time": "2023-02-04T09:31:26.018Z"
   },
   {
    "duration": 6,
    "start_time": "2023-02-04T09:31:26.047Z"
   },
   {
    "duration": 7,
    "start_time": "2023-02-04T09:31:26.085Z"
   },
   {
    "duration": 25,
    "start_time": "2023-02-04T09:31:26.094Z"
   },
   {
    "duration": 18,
    "start_time": "2023-02-04T09:31:26.121Z"
   },
   {
    "duration": 8,
    "start_time": "2023-02-04T09:31:26.141Z"
   },
   {
    "duration": 49,
    "start_time": "2023-02-04T09:31:26.151Z"
   },
   {
    "duration": 4,
    "start_time": "2023-02-04T09:31:26.202Z"
   },
   {
    "duration": 11,
    "start_time": "2023-02-04T09:31:26.208Z"
   },
   {
    "duration": 60,
    "start_time": "2023-02-04T10:15:17.858Z"
   },
   {
    "duration": 1254,
    "start_time": "2023-02-04T10:15:24.342Z"
   },
   {
    "duration": 759,
    "start_time": "2023-02-04T10:15:25.598Z"
   },
   {
    "duration": 15,
    "start_time": "2023-02-04T10:15:26.358Z"
   },
   {
    "duration": 30,
    "start_time": "2023-02-04T10:15:26.376Z"
   },
   {
    "duration": 8,
    "start_time": "2023-02-04T10:15:26.408Z"
   },
   {
    "duration": 27,
    "start_time": "2023-02-04T10:15:26.418Z"
   },
   {
    "duration": 16,
    "start_time": "2023-02-04T10:15:26.447Z"
   },
   {
    "duration": 35,
    "start_time": "2023-02-04T10:15:26.465Z"
   },
   {
    "duration": 17,
    "start_time": "2023-02-04T10:15:26.502Z"
   },
   {
    "duration": 106,
    "start_time": "2023-02-04T10:15:26.523Z"
   },
   {
    "duration": 102,
    "start_time": "2023-02-04T10:15:26.631Z"
   },
   {
    "duration": 24,
    "start_time": "2023-02-04T10:15:26.735Z"
   },
   {
    "duration": 29,
    "start_time": "2023-02-04T10:15:26.761Z"
   },
   {
    "duration": 25,
    "start_time": "2023-02-04T10:15:26.792Z"
   },
   {
    "duration": 7,
    "start_time": "2023-02-04T10:15:26.819Z"
   },
   {
    "duration": 9,
    "start_time": "2023-02-04T10:15:26.828Z"
   },
   {
    "duration": 57,
    "start_time": "2023-02-04T10:15:26.839Z"
   },
   {
    "duration": 22,
    "start_time": "2023-02-04T10:15:26.897Z"
   },
   {
    "duration": 16,
    "start_time": "2023-02-04T10:15:26.921Z"
   },
   {
    "duration": 34,
    "start_time": "2023-02-04T10:15:26.939Z"
   },
   {
    "duration": 9,
    "start_time": "2023-02-04T10:15:26.975Z"
   },
   {
    "duration": 14,
    "start_time": "2023-02-04T10:15:26.986Z"
   },
   {
    "duration": 411,
    "start_time": "2023-02-04T10:15:27.002Z"
   },
   {
    "duration": 5,
    "start_time": "2023-02-04T10:15:27.414Z"
   },
   {
    "duration": 48,
    "start_time": "2023-02-04T10:15:27.421Z"
   },
   {
    "duration": 0,
    "start_time": "2023-02-04T10:15:27.471Z"
   },
   {
    "duration": 322,
    "start_time": "2023-02-04T10:16:00.818Z"
   },
   {
    "duration": 312,
    "start_time": "2023-02-04T10:16:26.929Z"
   },
   {
    "duration": 407,
    "start_time": "2023-02-04T10:16:40.963Z"
   },
   {
    "duration": 345,
    "start_time": "2023-02-04T10:16:47.463Z"
   },
   {
    "duration": 149,
    "start_time": "2023-02-04T10:30:02.015Z"
   },
   {
    "duration": 41,
    "start_time": "2023-02-04T10:30:05.994Z"
   },
   {
    "duration": 22,
    "start_time": "2023-02-04T10:30:24.165Z"
   },
   {
    "duration": 347,
    "start_time": "2023-02-04T10:30:25.860Z"
   },
   {
    "duration": 22,
    "start_time": "2023-02-04T10:31:00.215Z"
   },
   {
    "duration": 373,
    "start_time": "2023-02-04T10:31:01.076Z"
   },
   {
    "duration": 8,
    "start_time": "2023-02-04T10:47:53.434Z"
   },
   {
    "duration": 44,
    "start_time": "2023-02-04T10:48:37.714Z"
   },
   {
    "duration": 22,
    "start_time": "2023-02-04T10:49:47.079Z"
   },
   {
    "duration": 11,
    "start_time": "2023-02-04T10:49:57.313Z"
   },
   {
    "duration": 34,
    "start_time": "2023-02-04T10:49:58.508Z"
   },
   {
    "duration": 24,
    "start_time": "2023-02-04T10:51:09.724Z"
   },
   {
    "duration": 20,
    "start_time": "2023-02-04T10:51:27.081Z"
   },
   {
    "duration": 1845,
    "start_time": "2023-02-04T17:06:41.153Z"
   },
   {
    "duration": 1963,
    "start_time": "2023-02-04T17:06:43.001Z"
   },
   {
    "duration": 19,
    "start_time": "2023-02-04T17:06:44.970Z"
   },
   {
    "duration": 85,
    "start_time": "2023-02-04T17:06:44.991Z"
   },
   {
    "duration": 66,
    "start_time": "2023-02-04T17:06:45.082Z"
   },
   {
    "duration": 76,
    "start_time": "2023-02-04T17:06:45.149Z"
   },
   {
    "duration": 42,
    "start_time": "2023-02-04T17:06:45.240Z"
   },
   {
    "duration": 29,
    "start_time": "2023-02-04T17:06:45.284Z"
   },
   {
    "duration": 159,
    "start_time": "2023-02-04T17:06:45.315Z"
   },
   {
    "duration": 104,
    "start_time": "2023-02-04T17:06:45.478Z"
   },
   {
    "duration": 103,
    "start_time": "2023-02-04T17:06:45.584Z"
   },
   {
    "duration": 26,
    "start_time": "2023-02-04T17:06:45.689Z"
   },
   {
    "duration": 72,
    "start_time": "2023-02-04T17:06:45.717Z"
   },
   {
    "duration": 49,
    "start_time": "2023-02-04T17:06:45.790Z"
   },
   {
    "duration": 43,
    "start_time": "2023-02-04T17:06:45.841Z"
   },
   {
    "duration": 24,
    "start_time": "2023-02-04T17:06:45.886Z"
   },
   {
    "duration": 5,
    "start_time": "2023-02-04T17:06:45.917Z"
   },
   {
    "duration": 27,
    "start_time": "2023-02-04T17:06:45.923Z"
   },
   {
    "duration": 34,
    "start_time": "2023-02-04T17:06:45.952Z"
   },
   {
    "duration": 506,
    "start_time": "2023-02-04T17:06:45.988Z"
   },
   {
    "duration": 31,
    "start_time": "2023-02-04T17:06:46.496Z"
   },
   {
    "duration": 423,
    "start_time": "2023-02-04T17:06:46.532Z"
   },
   {
    "duration": 27,
    "start_time": "2023-02-04T17:06:46.958Z"
   },
   {
    "duration": 36,
    "start_time": "2023-02-04T17:06:46.987Z"
   },
   {
    "duration": 60,
    "start_time": "2023-02-04T17:06:47.035Z"
   },
   {
    "duration": 135,
    "start_time": "2023-02-04T17:06:47.097Z"
   },
   {
    "duration": 42,
    "start_time": "2023-02-04T17:06:47.234Z"
   },
   {
    "duration": 143,
    "start_time": "2023-02-04T17:06:47.287Z"
   },
   {
    "duration": 0,
    "start_time": "2023-02-04T17:06:47.434Z"
   },
   {
    "duration": 0,
    "start_time": "2023-02-04T17:06:47.442Z"
   },
   {
    "duration": 97,
    "start_time": "2023-02-04T17:18:03.944Z"
   },
   {
    "duration": 84,
    "start_time": "2023-02-04T17:18:24.978Z"
   },
   {
    "duration": 14,
    "start_time": "2023-02-04T17:19:54.071Z"
   },
   {
    "duration": 17,
    "start_time": "2023-02-04T17:31:53.062Z"
   },
   {
    "duration": 68,
    "start_time": "2023-02-04T17:35:30.786Z"
   },
   {
    "duration": 20,
    "start_time": "2023-02-04T17:45:01.157Z"
   },
   {
    "duration": 162,
    "start_time": "2023-02-04T17:45:44.760Z"
   },
   {
    "duration": 20,
    "start_time": "2023-02-04T17:45:53.652Z"
   },
   {
    "duration": 59,
    "start_time": "2023-02-04T17:52:55.252Z"
   },
   {
    "duration": 84,
    "start_time": "2023-02-04T17:53:14.194Z"
   },
   {
    "duration": 68,
    "start_time": "2023-02-04T17:53:30.060Z"
   },
   {
    "duration": 93,
    "start_time": "2023-02-04T17:55:29.745Z"
   },
   {
    "duration": 125,
    "start_time": "2023-02-04T17:55:36.236Z"
   },
   {
    "duration": 111,
    "start_time": "2023-02-04T17:55:50.870Z"
   },
   {
    "duration": 76,
    "start_time": "2023-02-04T17:55:58.867Z"
   },
   {
    "duration": 29,
    "start_time": "2023-02-04T18:10:27.890Z"
   },
   {
    "duration": 13,
    "start_time": "2023-02-04T18:10:47.455Z"
   },
   {
    "duration": 13,
    "start_time": "2023-02-04T18:10:55.541Z"
   },
   {
    "duration": 18,
    "start_time": "2023-02-04T18:11:52.453Z"
   },
   {
    "duration": 16,
    "start_time": "2023-02-04T18:54:28.380Z"
   },
   {
    "duration": 16,
    "start_time": "2023-02-04T18:54:33.960Z"
   },
   {
    "duration": 1716,
    "start_time": "2023-02-04T19:23:13.176Z"
   },
   {
    "duration": 1702,
    "start_time": "2023-02-04T19:23:36.382Z"
   },
   {
    "duration": 1380,
    "start_time": "2023-02-04T19:24:38.194Z"
   },
   {
    "duration": 28,
    "start_time": "2023-02-04T19:32:10.092Z"
   },
   {
    "duration": 8,
    "start_time": "2023-02-04T19:32:23.747Z"
   },
   {
    "duration": 9,
    "start_time": "2023-02-04T19:32:51.458Z"
   },
   {
    "duration": 16,
    "start_time": "2023-02-04T19:35:41.438Z"
   },
   {
    "duration": 14,
    "start_time": "2023-02-04T19:48:38.292Z"
   },
   {
    "duration": 10,
    "start_time": "2023-02-04T19:48:58.684Z"
   },
   {
    "duration": 29,
    "start_time": "2023-02-04T19:49:06.060Z"
   },
   {
    "duration": 15,
    "start_time": "2023-02-04T19:49:23.136Z"
   },
   {
    "duration": 24,
    "start_time": "2023-02-04T19:49:45.291Z"
   },
   {
    "duration": 1119,
    "start_time": "2023-02-04T20:06:17.366Z"
   },
   {
    "duration": 4,
    "start_time": "2023-02-04T20:07:41.678Z"
   },
   {
    "duration": 12,
    "start_time": "2023-02-04T20:07:54.183Z"
   },
   {
    "duration": 10,
    "start_time": "2023-02-04T20:07:59.640Z"
   },
   {
    "duration": 4,
    "start_time": "2023-02-04T20:44:26.184Z"
   },
   {
    "duration": 13,
    "start_time": "2023-02-04T20:44:40.866Z"
   },
   {
    "duration": 13,
    "start_time": "2023-02-04T20:55:17.018Z"
   },
   {
    "duration": 10,
    "start_time": "2023-02-04T20:55:28.161Z"
   },
   {
    "duration": 9,
    "start_time": "2023-02-04T20:55:35.001Z"
   },
   {
    "duration": 10,
    "start_time": "2023-02-04T20:55:43.319Z"
   },
   {
    "duration": 8,
    "start_time": "2023-02-04T20:55:46.925Z"
   },
   {
    "duration": 8,
    "start_time": "2023-02-04T20:55:48.424Z"
   },
   {
    "duration": 16,
    "start_time": "2023-02-04T20:55:55.704Z"
   },
   {
    "duration": 10,
    "start_time": "2023-02-04T20:55:57.288Z"
   },
   {
    "duration": 846,
    "start_time": "2023-02-04T21:00:34.080Z"
   },
   {
    "duration": 803,
    "start_time": "2023-02-04T21:00:53.055Z"
   },
   {
    "duration": 8,
    "start_time": "2023-02-04T21:11:47.232Z"
   },
   {
    "duration": 6,
    "start_time": "2023-02-04T21:11:56.117Z"
   },
   {
    "duration": 4,
    "start_time": "2023-02-04T21:12:02.934Z"
   },
   {
    "duration": 6,
    "start_time": "2023-02-04T21:12:07.519Z"
   },
   {
    "duration": 8,
    "start_time": "2023-02-04T21:12:25.718Z"
   },
   {
    "duration": 5,
    "start_time": "2023-02-04T21:16:43.261Z"
   },
   {
    "duration": 11,
    "start_time": "2023-02-04T21:16:50.536Z"
   },
   {
    "duration": 11,
    "start_time": "2023-02-04T21:19:10.670Z"
   },
   {
    "duration": 9,
    "start_time": "2023-02-04T21:19:15.619Z"
   },
   {
    "duration": 8,
    "start_time": "2023-02-04T21:19:20.677Z"
   },
   {
    "duration": 10,
    "start_time": "2023-02-04T21:19:25.213Z"
   },
   {
    "duration": 9,
    "start_time": "2023-02-04T21:19:34.038Z"
   },
   {
    "duration": 8,
    "start_time": "2023-02-04T21:20:13.139Z"
   },
   {
    "duration": 15,
    "start_time": "2023-02-04T21:20:17.197Z"
   },
   {
    "duration": 9,
    "start_time": "2023-02-04T21:20:25.764Z"
   },
   {
    "duration": 9,
    "start_time": "2023-02-04T21:20:32.172Z"
   },
   {
    "duration": 17,
    "start_time": "2023-02-04T21:20:40.697Z"
   },
   {
    "duration": 9,
    "start_time": "2023-02-04T21:20:46.219Z"
   },
   {
    "duration": 10,
    "start_time": "2023-02-04T21:20:53.733Z"
   },
   {
    "duration": 8,
    "start_time": "2023-02-04T21:21:00.416Z"
   },
   {
    "duration": 8,
    "start_time": "2023-02-04T21:21:14.244Z"
   },
   {
    "duration": 8,
    "start_time": "2023-02-04T21:21:26.319Z"
   },
   {
    "duration": 9,
    "start_time": "2023-02-04T21:23:09.593Z"
   },
   {
    "duration": 10,
    "start_time": "2023-02-04T21:23:16.886Z"
   },
   {
    "duration": 18,
    "start_time": "2023-02-04T21:23:28.100Z"
   },
   {
    "duration": 12,
    "start_time": "2023-02-04T21:25:00.166Z"
   },
   {
    "duration": 6,
    "start_time": "2023-02-04T21:31:31.073Z"
   },
   {
    "duration": 7,
    "start_time": "2023-02-04T21:31:39.405Z"
   },
   {
    "duration": 9,
    "start_time": "2023-02-04T21:33:04.209Z"
   },
   {
    "duration": 5,
    "start_time": "2023-02-04T21:34:39.387Z"
   },
   {
    "duration": 9,
    "start_time": "2023-02-04T21:34:43.892Z"
   },
   {
    "duration": 6,
    "start_time": "2023-02-04T21:34:51.234Z"
   },
   {
    "duration": 53,
    "start_time": "2023-02-04T21:35:00.084Z"
   },
   {
    "duration": 5,
    "start_time": "2023-02-04T21:35:08.149Z"
   },
   {
    "duration": 1427,
    "start_time": "2023-02-05T09:25:17.332Z"
   },
   {
    "duration": 807,
    "start_time": "2023-02-05T09:25:18.761Z"
   },
   {
    "duration": 15,
    "start_time": "2023-02-05T09:25:19.569Z"
   },
   {
    "duration": 21,
    "start_time": "2023-02-05T09:25:19.586Z"
   },
   {
    "duration": 7,
    "start_time": "2023-02-05T09:25:19.609Z"
   },
   {
    "duration": 34,
    "start_time": "2023-02-05T09:25:19.618Z"
   },
   {
    "duration": 13,
    "start_time": "2023-02-05T09:25:19.654Z"
   },
   {
    "duration": 15,
    "start_time": "2023-02-05T09:25:19.669Z"
   },
   {
    "duration": 13,
    "start_time": "2023-02-05T09:25:19.686Z"
   },
   {
    "duration": 116,
    "start_time": "2023-02-05T09:25:19.702Z"
   },
   {
    "duration": 93,
    "start_time": "2023-02-05T09:25:19.819Z"
   },
   {
    "duration": 32,
    "start_time": "2023-02-05T09:25:19.914Z"
   },
   {
    "duration": 41,
    "start_time": "2023-02-05T09:25:19.949Z"
   },
   {
    "duration": 12,
    "start_time": "2023-02-05T09:25:19.993Z"
   },
   {
    "duration": 34,
    "start_time": "2023-02-05T09:25:20.007Z"
   },
   {
    "duration": 22,
    "start_time": "2023-02-05T09:25:20.042Z"
   },
   {
    "duration": 5,
    "start_time": "2023-02-05T09:25:20.066Z"
   },
   {
    "duration": 18,
    "start_time": "2023-02-05T09:25:20.072Z"
   },
   {
    "duration": 13,
    "start_time": "2023-02-05T09:25:20.092Z"
   },
   {
    "duration": 455,
    "start_time": "2023-02-05T09:25:20.107Z"
   },
   {
    "duration": 14,
    "start_time": "2023-02-05T09:25:20.564Z"
   },
   {
    "duration": 336,
    "start_time": "2023-02-05T09:25:20.579Z"
   },
   {
    "duration": 31,
    "start_time": "2023-02-05T09:25:20.916Z"
   },
   {
    "duration": 25,
    "start_time": "2023-02-05T09:25:20.950Z"
   },
   {
    "duration": 8,
    "start_time": "2023-02-05T09:25:20.977Z"
   },
   {
    "duration": 19,
    "start_time": "2023-02-05T09:25:20.986Z"
   },
   {
    "duration": 52,
    "start_time": "2023-02-05T09:25:21.006Z"
   },
   {
    "duration": 54,
    "start_time": "2023-02-05T09:25:21.062Z"
   },
   {
    "duration": 23,
    "start_time": "2023-02-05T09:25:21.118Z"
   },
   {
    "duration": 60,
    "start_time": "2023-02-05T09:25:21.144Z"
   },
   {
    "duration": 0,
    "start_time": "2023-02-05T09:25:21.206Z"
   },
   {
    "duration": 0,
    "start_time": "2023-02-05T09:25:21.207Z"
   },
   {
    "duration": 0,
    "start_time": "2023-02-05T09:25:21.208Z"
   },
   {
    "duration": 1,
    "start_time": "2023-02-05T09:25:21.209Z"
   },
   {
    "duration": 0,
    "start_time": "2023-02-05T09:25:21.211Z"
   },
   {
    "duration": 0,
    "start_time": "2023-02-05T09:25:21.212Z"
   },
   {
    "duration": 0,
    "start_time": "2023-02-05T09:25:21.213Z"
   },
   {
    "duration": 1162,
    "start_time": "2023-02-05T09:25:46.533Z"
   },
   {
    "duration": 167,
    "start_time": "2023-02-05T09:25:47.697Z"
   },
   {
    "duration": 15,
    "start_time": "2023-02-05T09:25:47.866Z"
   },
   {
    "duration": 22,
    "start_time": "2023-02-05T09:25:47.883Z"
   },
   {
    "duration": 36,
    "start_time": "2023-02-05T09:25:47.907Z"
   },
   {
    "duration": 21,
    "start_time": "2023-02-05T09:25:47.945Z"
   },
   {
    "duration": 12,
    "start_time": "2023-02-05T09:25:47.968Z"
   },
   {
    "duration": 17,
    "start_time": "2023-02-05T09:25:47.982Z"
   },
   {
    "duration": 40,
    "start_time": "2023-02-05T09:25:48.001Z"
   },
   {
    "duration": 67,
    "start_time": "2023-02-05T09:25:48.044Z"
   },
   {
    "duration": 98,
    "start_time": "2023-02-05T09:25:48.113Z"
   },
   {
    "duration": 33,
    "start_time": "2023-02-05T09:25:48.213Z"
   },
   {
    "duration": 33,
    "start_time": "2023-02-05T09:25:48.248Z"
   },
   {
    "duration": 15,
    "start_time": "2023-02-05T09:25:48.283Z"
   },
   {
    "duration": 8,
    "start_time": "2023-02-05T09:25:48.300Z"
   },
   {
    "duration": 43,
    "start_time": "2023-02-05T09:25:48.310Z"
   },
   {
    "duration": 4,
    "start_time": "2023-02-05T09:25:48.354Z"
   },
   {
    "duration": 5,
    "start_time": "2023-02-05T09:25:48.360Z"
   },
   {
    "duration": 7,
    "start_time": "2023-02-05T09:25:48.367Z"
   },
   {
    "duration": 417,
    "start_time": "2023-02-05T09:25:48.376Z"
   },
   {
    "duration": 19,
    "start_time": "2023-02-05T09:25:48.795Z"
   },
   {
    "duration": 391,
    "start_time": "2023-02-05T09:25:48.816Z"
   },
   {
    "duration": 32,
    "start_time": "2023-02-05T09:25:49.208Z"
   },
   {
    "duration": 24,
    "start_time": "2023-02-05T09:25:49.242Z"
   },
   {
    "duration": 11,
    "start_time": "2023-02-05T09:25:49.268Z"
   },
   {
    "duration": 19,
    "start_time": "2023-02-05T09:25:49.281Z"
   },
   {
    "duration": 47,
    "start_time": "2023-02-05T09:25:49.301Z"
   },
   {
    "duration": 45,
    "start_time": "2023-02-05T09:25:49.351Z"
   },
   {
    "duration": 11,
    "start_time": "2023-02-05T09:25:49.398Z"
   },
   {
    "duration": 71,
    "start_time": "2023-02-05T09:25:49.411Z"
   },
   {
    "duration": 24,
    "start_time": "2023-02-05T09:25:49.484Z"
   },
   {
    "duration": 71,
    "start_time": "2023-02-05T09:25:49.510Z"
   },
   {
    "duration": 12,
    "start_time": "2023-02-05T09:25:49.582Z"
   },
   {
    "duration": 8,
    "start_time": "2023-02-05T09:25:49.596Z"
   },
   {
    "duration": 36,
    "start_time": "2023-02-05T09:25:49.605Z"
   },
   {
    "duration": 8,
    "start_time": "2023-02-05T09:25:49.642Z"
   },
   {
    "duration": 56,
    "start_time": "2023-02-05T10:38:32.704Z"
   },
   {
    "duration": 65,
    "start_time": "2023-02-05T10:38:41.559Z"
   },
   {
    "duration": 61,
    "start_time": "2023-02-05T10:39:47.000Z"
   },
   {
    "duration": 68,
    "start_time": "2023-02-05T10:39:52.108Z"
   },
   {
    "duration": 104,
    "start_time": "2023-02-05T10:46:35.330Z"
   },
   {
    "duration": 10,
    "start_time": "2023-02-05T10:46:43.748Z"
   },
   {
    "duration": 6,
    "start_time": "2023-02-05T10:46:50.622Z"
   },
   {
    "duration": 5,
    "start_time": "2023-02-05T10:47:16.643Z"
   },
   {
    "duration": 5,
    "start_time": "2023-02-05T10:48:43.519Z"
   },
   {
    "duration": 7,
    "start_time": "2023-02-05T10:48:57.679Z"
   },
   {
    "duration": 6,
    "start_time": "2023-02-05T10:50:32.155Z"
   },
   {
    "duration": 5,
    "start_time": "2023-02-05T10:51:42.107Z"
   },
   {
    "duration": 4,
    "start_time": "2023-02-05T11:08:35.899Z"
   },
   {
    "duration": 9,
    "start_time": "2023-02-05T11:08:40.507Z"
   },
   {
    "duration": 6,
    "start_time": "2023-02-05T11:09:55.300Z"
   },
   {
    "duration": 10,
    "start_time": "2023-02-05T11:10:00.609Z"
   },
   {
    "duration": 7,
    "start_time": "2023-02-05T11:10:54.869Z"
   },
   {
    "duration": 13,
    "start_time": "2023-02-05T11:10:59.424Z"
   },
   {
    "duration": 7,
    "start_time": "2023-02-05T11:16:08.382Z"
   },
   {
    "duration": 8,
    "start_time": "2023-02-05T12:29:13.461Z"
   },
   {
    "duration": 38,
    "start_time": "2023-02-05T12:31:39.161Z"
   },
   {
    "duration": 49,
    "start_time": "2023-02-05T12:37:04.489Z"
   },
   {
    "duration": 46,
    "start_time": "2023-02-05T12:37:53.382Z"
   },
   {
    "duration": 44,
    "start_time": "2023-02-05T12:38:21.590Z"
   },
   {
    "duration": 4,
    "start_time": "2023-02-05T12:38:27.186Z"
   },
   {
    "duration": 67,
    "start_time": "2023-02-05T12:38:56.971Z"
   },
   {
    "duration": 39,
    "start_time": "2023-02-05T12:39:04.067Z"
   },
   {
    "duration": 23,
    "start_time": "2023-02-05T12:41:04.500Z"
   },
   {
    "duration": 27,
    "start_time": "2023-02-05T12:41:33.088Z"
   },
   {
    "duration": 21,
    "start_time": "2023-02-05T12:41:46.279Z"
   },
   {
    "duration": 53,
    "start_time": "2023-02-05T12:42:16.780Z"
   },
   {
    "duration": 5,
    "start_time": "2023-02-05T12:43:28.238Z"
   },
   {
    "duration": 9,
    "start_time": "2023-02-05T14:58:36.409Z"
   },
   {
    "duration": 13,
    "start_time": "2023-02-05T14:58:44.156Z"
   },
   {
    "duration": 20,
    "start_time": "2023-02-05T14:59:04.789Z"
   },
   {
    "duration": 14,
    "start_time": "2023-02-05T14:59:12.313Z"
   },
   {
    "duration": 19,
    "start_time": "2023-02-05T14:59:17.221Z"
   },
   {
    "duration": 13,
    "start_time": "2023-02-05T14:59:28.172Z"
   },
   {
    "duration": 23,
    "start_time": "2023-02-05T15:00:15.456Z"
   },
   {
    "duration": 1364,
    "start_time": "2023-02-05T20:23:34.089Z"
   },
   {
    "duration": 589,
    "start_time": "2023-02-05T20:23:35.455Z"
   },
   {
    "duration": 20,
    "start_time": "2023-02-05T20:23:36.046Z"
   },
   {
    "duration": 28,
    "start_time": "2023-02-05T20:23:36.069Z"
   },
   {
    "duration": 7,
    "start_time": "2023-02-05T20:23:36.099Z"
   },
   {
    "duration": 25,
    "start_time": "2023-02-05T20:23:36.107Z"
   },
   {
    "duration": 14,
    "start_time": "2023-02-05T20:23:36.137Z"
   },
   {
    "duration": 15,
    "start_time": "2023-02-05T20:23:36.152Z"
   },
   {
    "duration": 16,
    "start_time": "2023-02-05T20:23:36.169Z"
   },
   {
    "duration": 78,
    "start_time": "2023-02-05T20:23:36.187Z"
   },
   {
    "duration": 101,
    "start_time": "2023-02-05T20:23:36.267Z"
   },
   {
    "duration": 21,
    "start_time": "2023-02-05T20:23:36.372Z"
   },
   {
    "duration": 36,
    "start_time": "2023-02-05T20:23:36.395Z"
   },
   {
    "duration": 25,
    "start_time": "2023-02-05T20:23:36.436Z"
   },
   {
    "duration": 10,
    "start_time": "2023-02-05T20:23:36.463Z"
   },
   {
    "duration": 20,
    "start_time": "2023-02-05T20:23:36.475Z"
   },
   {
    "duration": 4,
    "start_time": "2023-02-05T20:23:36.497Z"
   },
   {
    "duration": 35,
    "start_time": "2023-02-05T20:23:36.503Z"
   },
   {
    "duration": 9,
    "start_time": "2023-02-05T20:23:36.543Z"
   },
   {
    "duration": 364,
    "start_time": "2023-02-05T20:23:36.553Z"
   },
   {
    "duration": 24,
    "start_time": "2023-02-05T20:23:36.919Z"
   },
   {
    "duration": 334,
    "start_time": "2023-02-05T20:23:36.948Z"
   },
   {
    "duration": 23,
    "start_time": "2023-02-05T20:23:37.284Z"
   },
   {
    "duration": 41,
    "start_time": "2023-02-05T20:23:37.308Z"
   },
   {
    "duration": 17,
    "start_time": "2023-02-05T20:23:37.352Z"
   },
   {
    "duration": 19,
    "start_time": "2023-02-05T20:23:37.371Z"
   },
   {
    "duration": 21,
    "start_time": "2023-02-05T20:23:37.393Z"
   },
   {
    "duration": 60,
    "start_time": "2023-02-05T20:23:37.427Z"
   },
   {
    "duration": 60,
    "start_time": "2023-02-05T20:23:37.489Z"
   },
   {
    "duration": 71,
    "start_time": "2023-02-05T20:23:37.550Z"
   },
   {
    "duration": 32,
    "start_time": "2023-02-05T20:23:37.623Z"
   },
   {
    "duration": 57,
    "start_time": "2023-02-05T20:23:37.657Z"
   },
   {
    "duration": 31,
    "start_time": "2023-02-05T20:23:37.715Z"
   },
   {
    "duration": 9,
    "start_time": "2023-02-05T20:23:37.751Z"
   },
   {
    "duration": 13,
    "start_time": "2023-02-05T20:23:37.762Z"
   },
   {
    "duration": 70,
    "start_time": "2023-02-05T20:23:37.777Z"
   },
   {
    "duration": 5,
    "start_time": "2023-02-05T20:23:37.850Z"
   },
   {
    "duration": 8,
    "start_time": "2023-02-05T20:23:37.857Z"
   },
   {
    "duration": 13,
    "start_time": "2023-02-05T20:23:37.866Z"
   },
   {
    "duration": 12,
    "start_time": "2023-02-05T20:23:37.881Z"
   },
   {
    "duration": 63,
    "start_time": "2023-02-05T20:23:37.894Z"
   },
   {
    "duration": 20,
    "start_time": "2023-02-05T20:23:37.958Z"
   },
   {
    "duration": 71,
    "start_time": "2023-02-05T20:23:37.980Z"
   },
   {
    "duration": 5,
    "start_time": "2023-02-05T20:23:38.053Z"
   },
   {
    "duration": 128,
    "start_time": "2023-02-05T20:23:38.060Z"
   },
   {
    "duration": 3,
    "start_time": "2023-02-05T20:39:19.910Z"
   },
   {
    "duration": 8,
    "start_time": "2023-02-05T20:59:13.281Z"
   },
   {
    "duration": 73,
    "start_time": "2023-02-05T21:07:27.703Z"
   },
   {
    "duration": 56,
    "start_time": "2023-02-05T21:07:42.344Z"
   },
   {
    "duration": 65,
    "start_time": "2023-02-05T21:08:07.049Z"
   },
   {
    "duration": 68,
    "start_time": "2023-02-05T21:08:41.439Z"
   },
   {
    "duration": 7,
    "start_time": "2023-02-05T21:11:56.738Z"
   },
   {
    "duration": 6,
    "start_time": "2023-02-05T21:11:57.789Z"
   },
   {
    "duration": 1488,
    "start_time": "2023-02-05T21:28:51.483Z"
   },
   {
    "duration": 1389,
    "start_time": "2023-02-06T12:33:57.016Z"
   },
   {
    "duration": 1025,
    "start_time": "2023-02-06T12:33:58.407Z"
   },
   {
    "duration": 14,
    "start_time": "2023-02-06T12:33:59.433Z"
   },
   {
    "duration": 22,
    "start_time": "2023-02-06T12:33:59.449Z"
   },
   {
    "duration": 15,
    "start_time": "2023-02-06T12:33:59.473Z"
   },
   {
    "duration": 26,
    "start_time": "2023-02-06T12:33:59.489Z"
   },
   {
    "duration": 12,
    "start_time": "2023-02-06T12:33:59.517Z"
   },
   {
    "duration": 16,
    "start_time": "2023-02-06T12:33:59.531Z"
   },
   {
    "duration": 14,
    "start_time": "2023-02-06T12:33:59.549Z"
   },
   {
    "duration": 91,
    "start_time": "2023-02-06T12:33:59.566Z"
   },
   {
    "duration": 86,
    "start_time": "2023-02-06T12:33:59.658Z"
   },
   {
    "duration": 16,
    "start_time": "2023-02-06T12:33:59.746Z"
   },
   {
    "duration": 19,
    "start_time": "2023-02-06T12:33:59.764Z"
   },
   {
    "duration": 8,
    "start_time": "2023-02-06T12:33:59.799Z"
   },
   {
    "duration": 8,
    "start_time": "2023-02-06T12:33:59.809Z"
   },
   {
    "duration": 28,
    "start_time": "2023-02-06T12:33:59.819Z"
   },
   {
    "duration": 4,
    "start_time": "2023-02-06T12:33:59.849Z"
   },
   {
    "duration": 10,
    "start_time": "2023-02-06T12:33:59.854Z"
   },
   {
    "duration": 9,
    "start_time": "2023-02-06T12:33:59.866Z"
   },
   {
    "duration": 414,
    "start_time": "2023-02-06T12:33:59.877Z"
   },
   {
    "duration": 15,
    "start_time": "2023-02-06T12:34:00.293Z"
   },
   {
    "duration": 330,
    "start_time": "2023-02-06T12:34:00.310Z"
   },
   {
    "duration": 22,
    "start_time": "2023-02-06T12:34:00.641Z"
   },
   {
    "duration": 50,
    "start_time": "2023-02-06T12:34:00.665Z"
   },
   {
    "duration": 42,
    "start_time": "2023-02-06T12:34:00.717Z"
   },
   {
    "duration": 41,
    "start_time": "2023-02-06T12:34:00.761Z"
   },
   {
    "duration": 40,
    "start_time": "2023-02-06T12:34:00.804Z"
   },
   {
    "duration": 78,
    "start_time": "2023-02-06T12:34:00.848Z"
   },
   {
    "duration": 50,
    "start_time": "2023-02-06T12:34:00.928Z"
   },
   {
    "duration": 65,
    "start_time": "2023-02-06T12:34:00.980Z"
   },
   {
    "duration": 23,
    "start_time": "2023-02-06T12:34:01.047Z"
   },
   {
    "duration": 79,
    "start_time": "2023-02-06T12:34:01.073Z"
   },
   {
    "duration": 15,
    "start_time": "2023-02-06T12:34:01.154Z"
   },
   {
    "duration": 64,
    "start_time": "2023-02-06T12:34:01.171Z"
   },
   {
    "duration": 33,
    "start_time": "2023-02-06T12:34:01.237Z"
   },
   {
    "duration": 101,
    "start_time": "2023-02-06T12:34:01.272Z"
   },
   {
    "duration": 5,
    "start_time": "2023-02-06T12:34:01.375Z"
   },
   {
    "duration": 54,
    "start_time": "2023-02-06T12:34:01.382Z"
   },
   {
    "duration": 56,
    "start_time": "2023-02-06T12:34:01.438Z"
   },
   {
    "duration": 50,
    "start_time": "2023-02-06T12:34:01.496Z"
   },
   {
    "duration": 140,
    "start_time": "2023-02-06T12:34:01.548Z"
   },
   {
    "duration": 20,
    "start_time": "2023-02-06T12:34:01.689Z"
   },
   {
    "duration": 53,
    "start_time": "2023-02-06T12:34:01.711Z"
   },
   {
    "duration": 31,
    "start_time": "2023-02-06T12:34:01.766Z"
   },
   {
    "duration": 114,
    "start_time": "2023-02-06T12:34:01.799Z"
   },
   {
    "duration": 0,
    "start_time": "2023-02-06T12:34:01.914Z"
   },
   {
    "duration": 0,
    "start_time": "2023-02-06T12:34:01.915Z"
   },
   {
    "duration": 0,
    "start_time": "2023-02-06T12:34:01.916Z"
   },
   {
    "duration": 0,
    "start_time": "2023-02-06T12:34:01.917Z"
   },
   {
    "duration": 0,
    "start_time": "2023-02-06T12:34:01.918Z"
   },
   {
    "duration": 786,
    "start_time": "2023-02-06T12:34:59.370Z"
   },
   {
    "duration": 809,
    "start_time": "2023-02-06T12:38:16.750Z"
   },
   {
    "duration": 792,
    "start_time": "2023-02-06T12:38:49.054Z"
   },
   {
    "duration": 9,
    "start_time": "2023-02-06T12:47:56.510Z"
   },
   {
    "duration": 11,
    "start_time": "2023-02-06T12:48:18.646Z"
   },
   {
    "duration": 79,
    "start_time": "2023-02-06T12:48:47.652Z"
   },
   {
    "duration": 11,
    "start_time": "2023-02-06T12:51:29.296Z"
   },
   {
    "duration": 11,
    "start_time": "2023-02-06T12:52:13.898Z"
   },
   {
    "duration": 12,
    "start_time": "2023-02-06T13:28:44.241Z"
   },
   {
    "duration": 1447,
    "start_time": "2023-02-06T18:59:12.651Z"
   },
   {
    "duration": 714,
    "start_time": "2023-02-06T18:59:14.100Z"
   },
   {
    "duration": 18,
    "start_time": "2023-02-06T18:59:14.815Z"
   },
   {
    "duration": 31,
    "start_time": "2023-02-06T18:59:14.835Z"
   },
   {
    "duration": 8,
    "start_time": "2023-02-06T18:59:14.867Z"
   },
   {
    "duration": 20,
    "start_time": "2023-02-06T18:59:14.876Z"
   },
   {
    "duration": 14,
    "start_time": "2023-02-06T18:59:14.897Z"
   },
   {
    "duration": 45,
    "start_time": "2023-02-06T18:59:14.913Z"
   },
   {
    "duration": 14,
    "start_time": "2023-02-06T18:59:14.960Z"
   },
   {
    "duration": 87,
    "start_time": "2023-02-06T18:59:14.976Z"
   },
   {
    "duration": 108,
    "start_time": "2023-02-06T18:59:15.065Z"
   },
   {
    "duration": 20,
    "start_time": "2023-02-06T18:59:15.175Z"
   },
   {
    "duration": 45,
    "start_time": "2023-02-06T18:59:15.197Z"
   },
   {
    "duration": 21,
    "start_time": "2023-02-06T18:59:15.243Z"
   },
   {
    "duration": 8,
    "start_time": "2023-02-06T18:59:15.266Z"
   },
   {
    "duration": 31,
    "start_time": "2023-02-06T18:59:15.276Z"
   },
   {
    "duration": 5,
    "start_time": "2023-02-06T18:59:15.308Z"
   },
   {
    "duration": 26,
    "start_time": "2023-02-06T18:59:15.314Z"
   },
   {
    "duration": 12,
    "start_time": "2023-02-06T18:59:15.342Z"
   },
   {
    "duration": 391,
    "start_time": "2023-02-06T18:59:15.356Z"
   },
   {
    "duration": 14,
    "start_time": "2023-02-06T18:59:15.754Z"
   },
   {
    "duration": 308,
    "start_time": "2023-02-06T18:59:15.770Z"
   },
   {
    "duration": 19,
    "start_time": "2023-02-06T18:59:16.080Z"
   },
   {
    "duration": 23,
    "start_time": "2023-02-06T18:59:16.101Z"
   },
   {
    "duration": 29,
    "start_time": "2023-02-06T18:59:16.125Z"
   },
   {
    "duration": 19,
    "start_time": "2023-02-06T18:59:16.156Z"
   },
   {
    "duration": 24,
    "start_time": "2023-02-06T18:59:16.176Z"
   },
   {
    "duration": 70,
    "start_time": "2023-02-06T18:59:16.203Z"
   },
   {
    "duration": 11,
    "start_time": "2023-02-06T18:59:16.275Z"
   },
   {
    "duration": 48,
    "start_time": "2023-02-06T18:59:16.288Z"
   },
   {
    "duration": 24,
    "start_time": "2023-02-06T18:59:16.353Z"
   },
   {
    "duration": 54,
    "start_time": "2023-02-06T18:59:16.379Z"
   },
   {
    "duration": 24,
    "start_time": "2023-02-06T18:59:16.434Z"
   },
   {
    "duration": 7,
    "start_time": "2023-02-06T18:59:16.459Z"
   },
   {
    "duration": 11,
    "start_time": "2023-02-06T18:59:16.468Z"
   },
   {
    "duration": 89,
    "start_time": "2023-02-06T18:59:16.480Z"
   },
   {
    "duration": 5,
    "start_time": "2023-02-06T18:59:16.571Z"
   },
   {
    "duration": 6,
    "start_time": "2023-02-06T18:59:16.577Z"
   },
   {
    "duration": 12,
    "start_time": "2023-02-06T18:59:16.584Z"
   },
   {
    "duration": 7,
    "start_time": "2023-02-06T18:59:16.597Z"
   },
   {
    "duration": 94,
    "start_time": "2023-02-06T18:59:16.606Z"
   },
   {
    "duration": 5,
    "start_time": "2023-02-06T18:59:16.702Z"
   },
   {
    "duration": 12,
    "start_time": "2023-02-06T18:59:16.709Z"
   },
   {
    "duration": 14,
    "start_time": "2023-02-06T18:59:16.723Z"
   },
   {
    "duration": 108,
    "start_time": "2023-02-06T18:59:16.739Z"
   },
   {
    "duration": 0,
    "start_time": "2023-02-06T18:59:16.853Z"
   },
   {
    "duration": 0,
    "start_time": "2023-02-06T18:59:16.855Z"
   },
   {
    "duration": 0,
    "start_time": "2023-02-06T18:59:16.856Z"
   },
   {
    "duration": 0,
    "start_time": "2023-02-06T18:59:16.857Z"
   },
   {
    "duration": 0,
    "start_time": "2023-02-06T18:59:16.858Z"
   },
   {
    "duration": 0,
    "start_time": "2023-02-06T18:59:16.859Z"
   },
   {
    "duration": 0,
    "start_time": "2023-02-06T18:59:16.861Z"
   },
   {
    "duration": 1284,
    "start_time": "2023-02-07T10:45:53.539Z"
   },
   {
    "duration": 178,
    "start_time": "2023-02-07T10:45:54.826Z"
   },
   {
    "duration": 18,
    "start_time": "2023-02-07T10:45:55.006Z"
   },
   {
    "duration": 49,
    "start_time": "2023-02-07T10:45:55.027Z"
   },
   {
    "duration": 7,
    "start_time": "2023-02-07T10:45:55.078Z"
   },
   {
    "duration": 24,
    "start_time": "2023-02-07T10:45:55.088Z"
   },
   {
    "duration": 12,
    "start_time": "2023-02-07T10:45:55.114Z"
   },
   {
    "duration": 15,
    "start_time": "2023-02-07T10:45:55.127Z"
   },
   {
    "duration": 14,
    "start_time": "2023-02-07T10:45:55.167Z"
   },
   {
    "duration": 60,
    "start_time": "2023-02-07T10:45:55.184Z"
   },
   {
    "duration": 84,
    "start_time": "2023-02-07T10:45:55.246Z"
   },
   {
    "duration": 19,
    "start_time": "2023-02-07T10:45:55.332Z"
   },
   {
    "duration": 24,
    "start_time": "2023-02-07T10:45:55.368Z"
   },
   {
    "duration": 9,
    "start_time": "2023-02-07T10:45:55.394Z"
   },
   {
    "duration": 10,
    "start_time": "2023-02-07T10:45:55.405Z"
   },
   {
    "duration": 19,
    "start_time": "2023-02-07T10:45:55.417Z"
   },
   {
    "duration": 31,
    "start_time": "2023-02-07T10:45:55.438Z"
   },
   {
    "duration": 15,
    "start_time": "2023-02-07T10:45:55.471Z"
   },
   {
    "duration": 10,
    "start_time": "2023-02-07T10:45:55.488Z"
   },
   {
    "duration": 357,
    "start_time": "2023-02-07T10:45:55.500Z"
   },
   {
    "duration": 20,
    "start_time": "2023-02-07T10:45:55.859Z"
   },
   {
    "duration": 302,
    "start_time": "2023-02-07T10:45:55.880Z"
   },
   {
    "duration": 20,
    "start_time": "2023-02-07T10:45:56.184Z"
   },
   {
    "duration": 21,
    "start_time": "2023-02-07T10:45:56.206Z"
   },
   {
    "duration": 8,
    "start_time": "2023-02-07T10:45:56.229Z"
   },
   {
    "duration": 41,
    "start_time": "2023-02-07T10:45:56.238Z"
   },
   {
    "duration": 20,
    "start_time": "2023-02-07T10:45:56.281Z"
   },
   {
    "duration": 40,
    "start_time": "2023-02-07T10:45:56.304Z"
   },
   {
    "duration": 9,
    "start_time": "2023-02-07T10:45:56.367Z"
   },
   {
    "duration": 42,
    "start_time": "2023-02-07T10:45:56.378Z"
   },
   {
    "duration": 20,
    "start_time": "2023-02-07T10:45:56.421Z"
   },
   {
    "duration": 66,
    "start_time": "2023-02-07T10:45:56.442Z"
   },
   {
    "duration": 9,
    "start_time": "2023-02-07T10:45:56.510Z"
   },
   {
    "duration": 8,
    "start_time": "2023-02-07T10:45:56.520Z"
   },
   {
    "duration": 11,
    "start_time": "2023-02-07T10:45:56.529Z"
   },
   {
    "duration": 74,
    "start_time": "2023-02-07T10:45:56.541Z"
   },
   {
    "duration": 6,
    "start_time": "2023-02-07T10:45:56.616Z"
   },
   {
    "duration": 13,
    "start_time": "2023-02-07T10:45:56.623Z"
   },
   {
    "duration": 10,
    "start_time": "2023-02-07T10:45:56.638Z"
   },
   {
    "duration": 22,
    "start_time": "2023-02-07T10:45:56.650Z"
   },
   {
    "duration": 78,
    "start_time": "2023-02-07T10:45:56.673Z"
   },
   {
    "duration": 5,
    "start_time": "2023-02-07T10:45:56.753Z"
   },
   {
    "duration": 5,
    "start_time": "2023-02-07T10:45:56.768Z"
   },
   {
    "duration": 45,
    "start_time": "2023-02-07T10:45:56.775Z"
   },
   {
    "duration": 108,
    "start_time": "2023-02-07T10:45:56.822Z"
   },
   {
    "duration": 0,
    "start_time": "2023-02-07T10:45:56.931Z"
   },
   {
    "duration": 0,
    "start_time": "2023-02-07T10:45:56.932Z"
   },
   {
    "duration": 0,
    "start_time": "2023-02-07T10:45:56.933Z"
   },
   {
    "duration": 0,
    "start_time": "2023-02-07T10:45:56.934Z"
   },
   {
    "duration": 0,
    "start_time": "2023-02-07T10:45:56.935Z"
   },
   {
    "duration": 0,
    "start_time": "2023-02-07T10:45:56.936Z"
   },
   {
    "duration": 0,
    "start_time": "2023-02-07T10:45:56.937Z"
   },
   {
    "duration": 10,
    "start_time": "2023-02-07T10:57:47.181Z"
   },
   {
    "duration": 37,
    "start_time": "2023-02-07T10:57:50.287Z"
   },
   {
    "duration": 19,
    "start_time": "2023-02-07T10:57:52.907Z"
   },
   {
    "duration": 50,
    "start_time": "2023-02-07T10:57:55.035Z"
   },
   {
    "duration": 11,
    "start_time": "2023-02-07T10:57:59.308Z"
   },
   {
    "duration": 77,
    "start_time": "2023-02-07T20:07:53.116Z"
   },
   {
    "duration": 1301,
    "start_time": "2023-02-07T20:08:08.298Z"
   },
   {
    "duration": 478,
    "start_time": "2023-02-07T20:08:09.601Z"
   },
   {
    "duration": 13,
    "start_time": "2023-02-07T20:08:10.081Z"
   },
   {
    "duration": 18,
    "start_time": "2023-02-07T20:08:10.095Z"
   },
   {
    "duration": 6,
    "start_time": "2023-02-07T20:08:10.114Z"
   },
   {
    "duration": 17,
    "start_time": "2023-02-07T20:08:10.121Z"
   },
   {
    "duration": 11,
    "start_time": "2023-02-07T20:08:10.139Z"
   },
   {
    "duration": 13,
    "start_time": "2023-02-07T20:08:10.151Z"
   },
   {
    "duration": 13,
    "start_time": "2023-02-07T20:08:10.166Z"
   },
   {
    "duration": 84,
    "start_time": "2023-02-07T20:08:10.181Z"
   },
   {
    "duration": 90,
    "start_time": "2023-02-07T20:08:10.266Z"
   },
   {
    "duration": 20,
    "start_time": "2023-02-07T20:08:10.358Z"
   },
   {
    "duration": 20,
    "start_time": "2023-02-07T20:08:10.380Z"
   },
   {
    "duration": 27,
    "start_time": "2023-02-07T20:08:10.401Z"
   },
   {
    "duration": 7,
    "start_time": "2023-02-07T20:08:10.429Z"
   },
   {
    "duration": 21,
    "start_time": "2023-02-07T20:08:10.438Z"
   },
   {
    "duration": 4,
    "start_time": "2023-02-07T20:08:10.460Z"
   },
   {
    "duration": 7,
    "start_time": "2023-02-07T20:08:10.466Z"
   },
   {
    "duration": 11,
    "start_time": "2023-02-07T20:08:10.475Z"
   },
   {
    "duration": 380,
    "start_time": "2023-02-07T20:08:10.487Z"
   },
   {
    "duration": 12,
    "start_time": "2023-02-07T20:08:10.869Z"
   },
   {
    "duration": 292,
    "start_time": "2023-02-07T20:08:10.883Z"
   },
   {
    "duration": 26,
    "start_time": "2023-02-07T20:08:11.178Z"
   },
   {
    "duration": 31,
    "start_time": "2023-02-07T20:08:11.205Z"
   },
   {
    "duration": 20,
    "start_time": "2023-02-07T20:08:11.238Z"
   },
   {
    "duration": 25,
    "start_time": "2023-02-07T20:08:11.259Z"
   },
   {
    "duration": 18,
    "start_time": "2023-02-07T20:08:11.286Z"
   },
   {
    "duration": 52,
    "start_time": "2023-02-07T20:08:11.308Z"
   },
   {
    "duration": 20,
    "start_time": "2023-02-07T20:08:11.362Z"
   },
   {
    "duration": 55,
    "start_time": "2023-02-07T20:08:11.384Z"
   },
   {
    "duration": 21,
    "start_time": "2023-02-07T20:08:11.441Z"
   },
   {
    "duration": 67,
    "start_time": "2023-02-07T20:08:11.464Z"
   },
   {
    "duration": 11,
    "start_time": "2023-02-07T20:08:11.533Z"
   },
   {
    "duration": 12,
    "start_time": "2023-02-07T20:08:11.546Z"
   },
   {
    "duration": 15,
    "start_time": "2023-02-07T20:08:11.560Z"
   },
   {
    "duration": 71,
    "start_time": "2023-02-07T20:08:11.577Z"
   },
   {
    "duration": 5,
    "start_time": "2023-02-07T20:08:11.650Z"
   },
   {
    "duration": 11,
    "start_time": "2023-02-07T20:08:11.656Z"
   },
   {
    "duration": 18,
    "start_time": "2023-02-07T20:08:11.669Z"
   },
   {
    "duration": 19,
    "start_time": "2023-02-07T20:08:11.689Z"
   },
   {
    "duration": 77,
    "start_time": "2023-02-07T20:08:11.710Z"
   },
   {
    "duration": 6,
    "start_time": "2023-02-07T20:08:11.788Z"
   },
   {
    "duration": 15,
    "start_time": "2023-02-07T20:08:11.795Z"
   },
   {
    "duration": 27,
    "start_time": "2023-02-07T20:08:11.811Z"
   },
   {
    "duration": 99,
    "start_time": "2023-02-07T20:08:11.840Z"
   },
   {
    "duration": 0,
    "start_time": "2023-02-07T20:08:11.941Z"
   },
   {
    "duration": 0,
    "start_time": "2023-02-07T20:08:11.942Z"
   },
   {
    "duration": 0,
    "start_time": "2023-02-07T20:08:11.943Z"
   },
   {
    "duration": 0,
    "start_time": "2023-02-07T20:08:11.944Z"
   },
   {
    "duration": 0,
    "start_time": "2023-02-07T20:08:11.945Z"
   },
   {
    "duration": 0,
    "start_time": "2023-02-07T20:08:11.946Z"
   },
   {
    "duration": 0,
    "start_time": "2023-02-07T20:08:11.947Z"
   },
   {
    "duration": 72,
    "start_time": "2023-02-07T20:17:16.397Z"
   },
   {
    "duration": 6,
    "start_time": "2023-02-07T20:18:40.306Z"
   },
   {
    "duration": 15,
    "start_time": "2023-02-07T20:18:45.570Z"
   },
   {
    "duration": 9,
    "start_time": "2023-02-07T20:19:08.316Z"
   },
   {
    "duration": 10,
    "start_time": "2023-02-07T20:21:40.529Z"
   },
   {
    "duration": 12,
    "start_time": "2023-02-07T20:23:15.333Z"
   },
   {
    "duration": 10,
    "start_time": "2023-02-07T20:23:42.910Z"
   },
   {
    "duration": 11,
    "start_time": "2023-02-07T20:25:03.064Z"
   },
   {
    "duration": 13,
    "start_time": "2023-02-07T20:25:24.108Z"
   },
   {
    "duration": 10,
    "start_time": "2023-02-07T20:26:10.884Z"
   },
   {
    "duration": 10,
    "start_time": "2023-02-07T20:26:51.369Z"
   },
   {
    "duration": 34,
    "start_time": "2023-02-07T20:27:26.779Z"
   },
   {
    "duration": 20,
    "start_time": "2023-02-07T20:27:32.215Z"
   },
   {
    "duration": 48,
    "start_time": "2023-02-07T20:27:36.520Z"
   },
   {
    "duration": 5,
    "start_time": "2023-02-07T20:27:44.170Z"
   },
   {
    "duration": 4,
    "start_time": "2023-02-07T20:38:53.015Z"
   },
   {
    "duration": 11,
    "start_time": "2023-02-07T20:39:40.353Z"
   },
   {
    "duration": 4,
    "start_time": "2023-02-07T20:39:59.261Z"
   },
   {
    "duration": 7,
    "start_time": "2023-02-07T20:40:03.961Z"
   },
   {
    "duration": 1389,
    "start_time": "2023-02-08T14:32:28.322Z"
   },
   {
    "duration": 799,
    "start_time": "2023-02-08T14:32:29.717Z"
   },
   {
    "duration": 15,
    "start_time": "2023-02-08T14:32:30.518Z"
   },
   {
    "duration": 43,
    "start_time": "2023-02-08T14:32:30.535Z"
   },
   {
    "duration": 64,
    "start_time": "2023-02-08T14:32:30.579Z"
   },
   {
    "duration": 45,
    "start_time": "2023-02-08T14:32:30.645Z"
   },
   {
    "duration": 45,
    "start_time": "2023-02-08T14:32:30.692Z"
   },
   {
    "duration": 24,
    "start_time": "2023-02-08T14:32:30.739Z"
   },
   {
    "duration": 67,
    "start_time": "2023-02-08T14:32:30.765Z"
   },
   {
    "duration": 150,
    "start_time": "2023-02-08T14:32:30.836Z"
   },
   {
    "duration": 86,
    "start_time": "2023-02-08T14:32:30.988Z"
   },
   {
    "duration": 26,
    "start_time": "2023-02-08T14:32:31.076Z"
   },
   {
    "duration": 51,
    "start_time": "2023-02-08T14:32:31.105Z"
   },
   {
    "duration": 63,
    "start_time": "2023-02-08T14:32:31.157Z"
   },
   {
    "duration": 24,
    "start_time": "2023-02-08T14:32:31.221Z"
   },
   {
    "duration": 35,
    "start_time": "2023-02-08T14:32:31.247Z"
   },
   {
    "duration": 24,
    "start_time": "2023-02-08T14:32:31.283Z"
   },
   {
    "duration": 19,
    "start_time": "2023-02-08T14:32:31.309Z"
   },
   {
    "duration": 23,
    "start_time": "2023-02-08T14:32:31.329Z"
   },
   {
    "duration": 419,
    "start_time": "2023-02-08T14:32:31.354Z"
   },
   {
    "duration": 33,
    "start_time": "2023-02-08T14:32:31.775Z"
   },
   {
    "duration": 334,
    "start_time": "2023-02-08T14:32:31.810Z"
   },
   {
    "duration": 18,
    "start_time": "2023-02-08T14:32:32.146Z"
   },
   {
    "duration": 43,
    "start_time": "2023-02-08T14:32:32.166Z"
   },
   {
    "duration": 14,
    "start_time": "2023-02-08T14:32:32.210Z"
   },
   {
    "duration": 20,
    "start_time": "2023-02-08T14:32:32.226Z"
   },
   {
    "duration": 17,
    "start_time": "2023-02-08T14:32:32.247Z"
   },
   {
    "duration": 67,
    "start_time": "2023-02-08T14:32:32.269Z"
   },
   {
    "duration": 14,
    "start_time": "2023-02-08T14:32:32.338Z"
   },
   {
    "duration": 80,
    "start_time": "2023-02-08T14:32:32.354Z"
   },
   {
    "duration": 23,
    "start_time": "2023-02-08T14:32:32.436Z"
   },
   {
    "duration": 75,
    "start_time": "2023-02-08T14:32:32.460Z"
   },
   {
    "duration": 12,
    "start_time": "2023-02-08T14:32:32.537Z"
   },
   {
    "duration": 9,
    "start_time": "2023-02-08T14:32:32.550Z"
   },
   {
    "duration": 39,
    "start_time": "2023-02-08T14:32:32.561Z"
   },
   {
    "duration": 79,
    "start_time": "2023-02-08T14:32:32.601Z"
   },
   {
    "duration": 6,
    "start_time": "2023-02-08T14:32:32.682Z"
   },
   {
    "duration": 39,
    "start_time": "2023-02-08T14:32:32.701Z"
   },
   {
    "duration": 40,
    "start_time": "2023-02-08T14:32:32.742Z"
   },
   {
    "duration": 86,
    "start_time": "2023-02-08T14:32:32.784Z"
   },
   {
    "duration": 10,
    "start_time": "2023-02-08T14:32:32.872Z"
   },
   {
    "duration": 25,
    "start_time": "2023-02-08T14:32:32.883Z"
   },
   {
    "duration": 11,
    "start_time": "2023-02-08T14:32:32.910Z"
   },
   {
    "duration": 21,
    "start_time": "2023-02-08T14:32:32.923Z"
   },
   {
    "duration": 16,
    "start_time": "2023-02-08T14:32:32.946Z"
   },
   {
    "duration": 17,
    "start_time": "2023-02-08T14:32:32.963Z"
   },
   {
    "duration": 20,
    "start_time": "2023-02-08T14:32:32.982Z"
   },
   {
    "duration": 61,
    "start_time": "2023-02-08T14:32:33.003Z"
   },
   {
    "duration": 20,
    "start_time": "2023-02-08T14:32:33.065Z"
   },
   {
    "duration": 89,
    "start_time": "2023-02-08T14:32:33.087Z"
   },
   {
    "duration": 3,
    "start_time": "2023-02-08T14:32:33.178Z"
   },
   {
    "duration": 20,
    "start_time": "2023-02-08T14:32:33.183Z"
   },
   {
    "duration": 22,
    "start_time": "2023-02-08T14:32:33.206Z"
   },
   {
    "duration": 50,
    "start_time": "2023-02-08T14:32:33.230Z"
   },
   {
    "duration": 56,
    "start_time": "2023-02-08T15:12:52.846Z"
   },
   {
    "duration": 1256,
    "start_time": "2023-02-08T15:13:05.938Z"
   },
   {
    "duration": 378,
    "start_time": "2023-02-08T15:13:07.198Z"
   },
   {
    "duration": 16,
    "start_time": "2023-02-08T15:13:07.578Z"
   },
   {
    "duration": 42,
    "start_time": "2023-02-08T15:13:07.596Z"
   },
   {
    "duration": 7,
    "start_time": "2023-02-08T15:13:07.640Z"
   },
   {
    "duration": 30,
    "start_time": "2023-02-08T15:13:07.650Z"
   },
   {
    "duration": 30,
    "start_time": "2023-02-08T15:13:07.684Z"
   },
   {
    "duration": 23,
    "start_time": "2023-02-08T15:13:07.716Z"
   },
   {
    "duration": 19,
    "start_time": "2023-02-08T15:13:07.742Z"
   },
   {
    "duration": 93,
    "start_time": "2023-02-08T15:13:07.764Z"
   },
   {
    "duration": 98,
    "start_time": "2023-02-08T15:13:07.860Z"
   },
   {
    "duration": 20,
    "start_time": "2023-02-08T15:13:07.960Z"
   },
   {
    "duration": 51,
    "start_time": "2023-02-08T15:13:07.982Z"
   },
   {
    "duration": 9,
    "start_time": "2023-02-08T15:13:08.036Z"
   },
   {
    "duration": 10,
    "start_time": "2023-02-08T15:13:08.047Z"
   },
   {
    "duration": 58,
    "start_time": "2023-02-08T15:13:08.059Z"
   },
   {
    "duration": 5,
    "start_time": "2023-02-08T15:13:08.120Z"
   },
   {
    "duration": 14,
    "start_time": "2023-02-08T15:13:08.127Z"
   },
   {
    "duration": 11,
    "start_time": "2023-02-08T15:13:08.143Z"
   },
   {
    "duration": 464,
    "start_time": "2023-02-08T15:13:08.156Z"
   },
   {
    "duration": 14,
    "start_time": "2023-02-08T15:13:08.622Z"
   },
   {
    "duration": 328,
    "start_time": "2023-02-08T15:13:08.638Z"
   },
   {
    "duration": 40,
    "start_time": "2023-02-08T15:13:08.968Z"
   },
   {
    "duration": 26,
    "start_time": "2023-02-08T15:13:09.014Z"
   },
   {
    "duration": 13,
    "start_time": "2023-02-08T15:13:09.043Z"
   },
   {
    "duration": 29,
    "start_time": "2023-02-08T15:13:09.058Z"
   },
   {
    "duration": 32,
    "start_time": "2023-02-08T15:13:09.103Z"
   },
   {
    "duration": 44,
    "start_time": "2023-02-08T15:13:09.138Z"
   },
   {
    "duration": 51,
    "start_time": "2023-02-08T15:13:09.184Z"
   },
   {
    "duration": 85,
    "start_time": "2023-02-08T15:13:09.237Z"
   },
   {
    "duration": 34,
    "start_time": "2023-02-08T15:13:09.324Z"
   },
   {
    "duration": 79,
    "start_time": "2023-02-08T15:13:09.361Z"
   },
   {
    "duration": 15,
    "start_time": "2023-02-08T15:13:09.442Z"
   },
   {
    "duration": 19,
    "start_time": "2023-02-08T15:13:09.460Z"
   },
   {
    "duration": 36,
    "start_time": "2023-02-08T15:13:09.482Z"
   },
   {
    "duration": 110,
    "start_time": "2023-02-08T15:13:09.521Z"
   },
   {
    "duration": 9,
    "start_time": "2023-02-08T15:13:09.633Z"
   },
   {
    "duration": 15,
    "start_time": "2023-02-08T15:13:09.644Z"
   },
   {
    "duration": 17,
    "start_time": "2023-02-08T15:13:09.662Z"
   },
   {
    "duration": 83,
    "start_time": "2023-02-08T15:13:09.700Z"
   },
   {
    "duration": 31,
    "start_time": "2023-02-08T15:13:09.785Z"
   },
   {
    "duration": 15,
    "start_time": "2023-02-08T15:13:09.820Z"
   },
   {
    "duration": 12,
    "start_time": "2023-02-08T15:13:09.837Z"
   },
   {
    "duration": 21,
    "start_time": "2023-02-08T15:13:09.852Z"
   },
   {
    "duration": 42,
    "start_time": "2023-02-08T15:13:09.876Z"
   },
   {
    "duration": 36,
    "start_time": "2023-02-08T15:13:09.920Z"
   },
   {
    "duration": 16,
    "start_time": "2023-02-08T15:13:09.958Z"
   },
   {
    "duration": 61,
    "start_time": "2023-02-08T15:13:09.976Z"
   },
   {
    "duration": 23,
    "start_time": "2023-02-08T15:13:10.039Z"
   },
   {
    "duration": 75,
    "start_time": "2023-02-08T15:13:10.064Z"
   },
   {
    "duration": 4,
    "start_time": "2023-02-08T15:13:10.140Z"
   },
   {
    "duration": 10,
    "start_time": "2023-02-08T15:13:10.146Z"
   },
   {
    "duration": 13,
    "start_time": "2023-02-08T15:13:10.158Z"
   },
   {
    "duration": 59,
    "start_time": "2023-02-08T15:13:10.199Z"
   },
   {
    "duration": 14,
    "start_time": "2023-02-08T15:19:33.040Z"
   },
   {
    "duration": 58,
    "start_time": "2023-02-08T15:39:34.667Z"
   },
   {
    "duration": 62,
    "start_time": "2023-02-08T16:15:04.266Z"
   },
   {
    "duration": 34,
    "start_time": "2023-02-08T16:15:12.621Z"
   },
   {
    "duration": 42,
    "start_time": "2023-02-08T16:15:45.486Z"
   },
   {
    "duration": 47,
    "start_time": "2023-02-08T21:18:13.829Z"
   },
   {
    "duration": 1354,
    "start_time": "2023-02-08T21:18:20.468Z"
   },
   {
    "duration": 1220,
    "start_time": "2023-02-08T21:18:21.824Z"
   },
   {
    "duration": 14,
    "start_time": "2023-02-08T21:18:23.045Z"
   },
   {
    "duration": 24,
    "start_time": "2023-02-08T21:18:23.061Z"
   },
   {
    "duration": 7,
    "start_time": "2023-02-08T21:18:23.087Z"
   },
   {
    "duration": 24,
    "start_time": "2023-02-08T21:18:23.096Z"
   },
   {
    "duration": 14,
    "start_time": "2023-02-08T21:18:23.122Z"
   },
   {
    "duration": 16,
    "start_time": "2023-02-08T21:18:23.138Z"
   },
   {
    "duration": 38,
    "start_time": "2023-02-08T21:18:23.156Z"
   },
   {
    "duration": 72,
    "start_time": "2023-02-08T21:18:23.198Z"
   },
   {
    "duration": 91,
    "start_time": "2023-02-08T21:18:23.272Z"
   },
   {
    "duration": 32,
    "start_time": "2023-02-08T21:18:23.365Z"
   },
   {
    "duration": 40,
    "start_time": "2023-02-08T21:18:23.398Z"
   },
   {
    "duration": 23,
    "start_time": "2023-02-08T21:18:23.439Z"
   },
   {
    "duration": 33,
    "start_time": "2023-02-08T21:18:23.463Z"
   },
   {
    "duration": 7,
    "start_time": "2023-02-08T21:18:23.498Z"
   },
   {
    "duration": 17,
    "start_time": "2023-02-08T21:18:23.507Z"
   },
   {
    "duration": 4,
    "start_time": "2023-02-08T21:18:23.526Z"
   },
   {
    "duration": 5,
    "start_time": "2023-02-08T21:18:23.531Z"
   },
   {
    "duration": 8,
    "start_time": "2023-02-08T21:18:23.538Z"
   },
   {
    "duration": 422,
    "start_time": "2023-02-08T21:18:23.548Z"
   },
   {
    "duration": 21,
    "start_time": "2023-02-08T21:18:23.975Z"
   },
   {
    "duration": 392,
    "start_time": "2023-02-08T21:18:23.998Z"
   },
   {
    "duration": 19,
    "start_time": "2023-02-08T21:18:24.393Z"
   },
   {
    "duration": 22,
    "start_time": "2023-02-08T21:18:24.414Z"
   },
   {
    "duration": 9,
    "start_time": "2023-02-08T21:18:24.437Z"
   },
   {
    "duration": 22,
    "start_time": "2023-02-08T21:18:24.448Z"
   },
   {
    "duration": 21,
    "start_time": "2023-02-08T21:18:24.493Z"
   },
   {
    "duration": 41,
    "start_time": "2023-02-08T21:18:24.515Z"
   },
   {
    "duration": 11,
    "start_time": "2023-02-08T21:18:24.557Z"
   },
   {
    "duration": 50,
    "start_time": "2023-02-08T21:18:24.593Z"
   },
   {
    "duration": 26,
    "start_time": "2023-02-08T21:18:24.644Z"
   },
   {
    "duration": 67,
    "start_time": "2023-02-08T21:18:24.671Z"
   },
   {
    "duration": 11,
    "start_time": "2023-02-08T21:18:24.740Z"
   },
   {
    "duration": 7,
    "start_time": "2023-02-08T21:18:24.752Z"
   },
   {
    "duration": 242,
    "start_time": "2023-02-08T21:18:24.760Z"
   },
   {
    "duration": 85,
    "start_time": "2023-02-08T21:18:25.003Z"
   },
   {
    "duration": 5,
    "start_time": "2023-02-08T21:18:25.090Z"
   },
   {
    "duration": 9,
    "start_time": "2023-02-08T21:18:25.096Z"
   },
   {
    "duration": 18,
    "start_time": "2023-02-08T21:18:25.106Z"
   },
   {
    "duration": 87,
    "start_time": "2023-02-08T21:18:25.126Z"
   },
   {
    "duration": 9,
    "start_time": "2023-02-08T21:18:25.214Z"
   },
   {
    "duration": 10,
    "start_time": "2023-02-08T21:18:25.224Z"
   },
   {
    "duration": 11,
    "start_time": "2023-02-08T21:18:25.235Z"
   },
   {
    "duration": 11,
    "start_time": "2023-02-08T21:18:25.248Z"
   },
   {
    "duration": 33,
    "start_time": "2023-02-08T21:18:25.261Z"
   },
   {
    "duration": 14,
    "start_time": "2023-02-08T21:18:25.296Z"
   },
   {
    "duration": 11,
    "start_time": "2023-02-08T21:18:25.311Z"
   },
   {
    "duration": 45,
    "start_time": "2023-02-08T21:18:25.323Z"
   },
   {
    "duration": 31,
    "start_time": "2023-02-08T21:18:25.369Z"
   },
   {
    "duration": 52,
    "start_time": "2023-02-08T21:18:25.402Z"
   },
   {
    "duration": 3,
    "start_time": "2023-02-08T21:18:25.455Z"
   },
   {
    "duration": 11,
    "start_time": "2023-02-08T21:18:25.459Z"
   },
   {
    "duration": 27,
    "start_time": "2023-02-08T21:18:25.472Z"
   },
   {
    "duration": 22,
    "start_time": "2023-02-08T21:18:25.501Z"
   },
   {
    "duration": 30,
    "start_time": "2023-02-08T21:18:25.524Z"
   },
   {
    "duration": 45,
    "start_time": "2023-02-08T21:19:28.950Z"
   },
   {
    "duration": 8472,
    "start_time": "2023-02-08T21:32:59.203Z"
   },
   {
    "duration": 14,
    "start_time": "2023-02-08T21:40:47.959Z"
   },
   {
    "duration": 14,
    "start_time": "2023-02-08T21:43:31.224Z"
   },
   {
    "duration": 15,
    "start_time": "2023-02-08T21:44:03.847Z"
   },
   {
    "duration": 36,
    "start_time": "2023-02-08T21:44:21.432Z"
   },
   {
    "duration": 15,
    "start_time": "2023-02-08T21:44:24.664Z"
   },
   {
    "duration": 8015,
    "start_time": "2023-02-08T21:45:35.232Z"
   },
   {
    "duration": 19,
    "start_time": "2023-02-08T21:50:09.881Z"
   },
   {
    "duration": 18,
    "start_time": "2023-02-08T21:50:39.513Z"
   },
   {
    "duration": 108,
    "start_time": "2023-02-08T21:50:50.280Z"
   },
   {
    "duration": 21,
    "start_time": "2023-02-08T21:50:57.398Z"
   },
   {
    "duration": 22,
    "start_time": "2023-02-08T21:51:15.682Z"
   },
   {
    "duration": 34,
    "start_time": "2023-02-08T21:52:13.566Z"
   },
   {
    "duration": 22,
    "start_time": "2023-02-08T21:58:10.005Z"
   },
   {
    "duration": 20,
    "start_time": "2023-02-08T21:58:42.709Z"
   },
   {
    "duration": 76,
    "start_time": "2023-02-08T21:59:38.309Z"
   },
   {
    "duration": 25,
    "start_time": "2023-02-08T22:00:56.584Z"
   },
   {
    "duration": 290,
    "start_time": "2023-02-08T22:01:28.877Z"
   },
   {
    "duration": 293,
    "start_time": "2023-02-08T22:03:07.334Z"
   },
   {
    "duration": 316,
    "start_time": "2023-02-08T22:04:24.916Z"
   },
   {
    "duration": 374,
    "start_time": "2023-02-08T22:04:46.485Z"
   },
   {
    "duration": 21,
    "start_time": "2023-02-08T22:08:55.693Z"
   },
   {
    "duration": 31,
    "start_time": "2023-02-08T22:09:21.797Z"
   },
   {
    "duration": 31,
    "start_time": "2023-02-08T22:09:38.020Z"
   },
   {
    "duration": 31,
    "start_time": "2023-02-08T22:09:43.171Z"
   },
   {
    "duration": 13,
    "start_time": "2023-02-08T22:10:12.353Z"
   },
   {
    "duration": 14,
    "start_time": "2023-02-08T22:10:21.866Z"
   },
   {
    "duration": 13,
    "start_time": "2023-02-08T22:10:32.408Z"
   },
   {
    "duration": 52,
    "start_time": "2023-02-08T22:12:14.220Z"
   },
   {
    "duration": 55,
    "start_time": "2023-02-08T22:12:29.287Z"
   },
   {
    "duration": 20,
    "start_time": "2023-02-08T22:13:02.921Z"
   },
   {
    "duration": 40,
    "start_time": "2023-02-08T22:13:14.591Z"
   },
   {
    "duration": 41,
    "start_time": "2023-02-08T22:13:29.923Z"
   },
   {
    "duration": 45,
    "start_time": "2023-02-08T22:13:34.545Z"
   },
   {
    "duration": 23,
    "start_time": "2023-02-08T22:14:01.444Z"
   },
   {
    "duration": 28,
    "start_time": "2023-02-08T22:14:31.789Z"
   },
   {
    "duration": 29,
    "start_time": "2023-02-08T22:14:37.801Z"
   },
   {
    "duration": 24,
    "start_time": "2023-02-08T22:14:43.812Z"
   },
   {
    "duration": 15,
    "start_time": "2023-02-08T22:15:19.302Z"
   },
   {
    "duration": 1188,
    "start_time": "2023-02-08T22:38:32.484Z"
   },
   {
    "duration": 177,
    "start_time": "2023-02-08T22:38:33.674Z"
   },
   {
    "duration": 14,
    "start_time": "2023-02-08T22:38:33.853Z"
   },
   {
    "duration": 26,
    "start_time": "2023-02-08T22:38:33.869Z"
   },
   {
    "duration": 8,
    "start_time": "2023-02-08T22:38:33.898Z"
   },
   {
    "duration": 66,
    "start_time": "2023-02-08T22:38:33.908Z"
   },
   {
    "duration": 16,
    "start_time": "2023-02-08T22:38:33.976Z"
   },
   {
    "duration": 21,
    "start_time": "2023-02-08T22:38:33.997Z"
   },
   {
    "duration": 48,
    "start_time": "2023-02-08T22:38:34.020Z"
   },
   {
    "duration": 94,
    "start_time": "2023-02-08T22:38:34.072Z"
   },
   {
    "duration": 127,
    "start_time": "2023-02-08T22:38:34.168Z"
   },
   {
    "duration": 26,
    "start_time": "2023-02-08T22:38:34.298Z"
   },
   {
    "duration": 69,
    "start_time": "2023-02-08T22:38:34.326Z"
   },
   {
    "duration": 28,
    "start_time": "2023-02-08T22:38:34.397Z"
   },
   {
    "duration": 21,
    "start_time": "2023-02-08T22:38:34.427Z"
   },
   {
    "duration": 13,
    "start_time": "2023-02-08T22:38:34.450Z"
   },
   {
    "duration": 52,
    "start_time": "2023-02-08T22:38:34.465Z"
   },
   {
    "duration": 30,
    "start_time": "2023-02-08T22:38:34.519Z"
   },
   {
    "duration": 5,
    "start_time": "2023-02-08T22:38:34.552Z"
   },
   {
    "duration": 9,
    "start_time": "2023-02-08T22:38:34.558Z"
   },
   {
    "duration": 33,
    "start_time": "2023-02-08T22:38:34.569Z"
   },
   {
    "duration": 506,
    "start_time": "2023-02-08T22:38:34.605Z"
   },
   {
    "duration": 21,
    "start_time": "2023-02-08T22:38:35.113Z"
   },
   {
    "duration": 429,
    "start_time": "2023-02-08T22:38:35.136Z"
   },
   {
    "duration": 39,
    "start_time": "2023-02-08T22:38:35.566Z"
   },
   {
    "duration": 36,
    "start_time": "2023-02-08T22:38:35.607Z"
   },
   {
    "duration": 45,
    "start_time": "2023-02-08T22:38:35.645Z"
   },
   {
    "duration": 20,
    "start_time": "2023-02-08T22:38:35.694Z"
   },
   {
    "duration": 31,
    "start_time": "2023-02-08T22:38:35.716Z"
   },
   {
    "duration": 52,
    "start_time": "2023-02-08T22:38:35.749Z"
   },
   {
    "duration": 46,
    "start_time": "2023-02-08T22:38:35.802Z"
   },
   {
    "duration": 16,
    "start_time": "2023-02-08T22:38:35.850Z"
   },
   {
    "duration": 44,
    "start_time": "2023-02-08T22:38:35.867Z"
   },
   {
    "duration": 54,
    "start_time": "2023-02-08T22:38:35.913Z"
   },
   {
    "duration": 38,
    "start_time": "2023-02-08T22:38:35.969Z"
   },
   {
    "duration": 100,
    "start_time": "2023-02-08T22:38:36.009Z"
   },
   {
    "duration": 10,
    "start_time": "2023-02-08T22:38:36.112Z"
   },
   {
    "duration": 7,
    "start_time": "2023-02-08T22:38:36.123Z"
   },
   {
    "duration": 18,
    "start_time": "2023-02-08T22:38:36.131Z"
   },
   {
    "duration": 88,
    "start_time": "2023-02-08T22:38:36.150Z"
   },
   {
    "duration": 7,
    "start_time": "2023-02-08T22:38:36.240Z"
   },
   {
    "duration": 12,
    "start_time": "2023-02-08T22:38:36.249Z"
   },
   {
    "duration": 32,
    "start_time": "2023-02-08T22:38:36.263Z"
   },
   {
    "duration": 108,
    "start_time": "2023-02-08T22:38:36.297Z"
   },
   {
    "duration": 9,
    "start_time": "2023-02-08T22:38:36.407Z"
   },
   {
    "duration": 11,
    "start_time": "2023-02-08T22:38:36.418Z"
   },
   {
    "duration": 9,
    "start_time": "2023-02-08T22:38:36.431Z"
   },
   {
    "duration": 11,
    "start_time": "2023-02-08T22:38:36.442Z"
   },
   {
    "duration": 40,
    "start_time": "2023-02-08T22:38:36.455Z"
   },
   {
    "duration": 17,
    "start_time": "2023-02-08T22:38:36.496Z"
   },
   {
    "duration": 8,
    "start_time": "2023-02-08T22:38:36.515Z"
   },
   {
    "duration": 40,
    "start_time": "2023-02-08T22:38:36.525Z"
   },
   {
    "duration": 27,
    "start_time": "2023-02-08T22:38:36.566Z"
   },
   {
    "duration": 53,
    "start_time": "2023-02-08T22:38:36.595Z"
   },
   {
    "duration": 3,
    "start_time": "2023-02-08T22:38:36.650Z"
   },
   {
    "duration": 7,
    "start_time": "2023-02-08T22:38:36.655Z"
   },
   {
    "duration": 35,
    "start_time": "2023-02-08T22:38:36.663Z"
   },
   {
    "duration": 15,
    "start_time": "2023-02-08T22:38:36.700Z"
   },
   {
    "duration": 93,
    "start_time": "2023-02-08T22:38:36.717Z"
   },
   {
    "duration": 1197,
    "start_time": "2023-02-09T08:54:14.638Z"
   },
   {
    "duration": 170,
    "start_time": "2023-02-09T08:54:15.837Z"
   },
   {
    "duration": 14,
    "start_time": "2023-02-09T08:54:16.008Z"
   },
   {
    "duration": 33,
    "start_time": "2023-02-09T08:54:16.025Z"
   },
   {
    "duration": 6,
    "start_time": "2023-02-09T08:54:16.060Z"
   },
   {
    "duration": 20,
    "start_time": "2023-02-09T08:54:16.068Z"
   },
   {
    "duration": 13,
    "start_time": "2023-02-09T08:54:16.089Z"
   },
   {
    "duration": 48,
    "start_time": "2023-02-09T08:54:16.104Z"
   },
   {
    "duration": 16,
    "start_time": "2023-02-09T08:54:16.154Z"
   },
   {
    "duration": 83,
    "start_time": "2023-02-09T08:54:16.173Z"
   },
   {
    "duration": 88,
    "start_time": "2023-02-09T08:54:16.258Z"
   },
   {
    "duration": 21,
    "start_time": "2023-02-09T08:54:16.347Z"
   },
   {
    "duration": 43,
    "start_time": "2023-02-09T08:54:16.370Z"
   },
   {
    "duration": 43,
    "start_time": "2023-02-09T08:54:16.414Z"
   },
   {
    "duration": 10,
    "start_time": "2023-02-09T08:54:16.459Z"
   },
   {
    "duration": 8,
    "start_time": "2023-02-09T08:54:16.470Z"
   },
   {
    "duration": 27,
    "start_time": "2023-02-09T08:54:16.479Z"
   },
   {
    "duration": 49,
    "start_time": "2023-02-09T08:54:16.508Z"
   },
   {
    "duration": 5,
    "start_time": "2023-02-09T08:54:16.558Z"
   },
   {
    "duration": 9,
    "start_time": "2023-02-09T08:54:16.565Z"
   },
   {
    "duration": 9,
    "start_time": "2023-02-09T08:54:16.576Z"
   },
   {
    "duration": 424,
    "start_time": "2023-02-09T08:54:16.587Z"
   },
   {
    "duration": 14,
    "start_time": "2023-02-09T08:54:17.013Z"
   },
   {
    "duration": 345,
    "start_time": "2023-02-09T08:54:17.028Z"
   },
   {
    "duration": 20,
    "start_time": "2023-02-09T08:54:17.374Z"
   },
   {
    "duration": 23,
    "start_time": "2023-02-09T08:54:17.395Z"
   },
   {
    "duration": 28,
    "start_time": "2023-02-09T08:54:17.419Z"
   },
   {
    "duration": 18,
    "start_time": "2023-02-09T08:54:17.451Z"
   },
   {
    "duration": 21,
    "start_time": "2023-02-09T08:54:17.471Z"
   },
   {
    "duration": 51,
    "start_time": "2023-02-09T08:54:17.493Z"
   },
   {
    "duration": 39,
    "start_time": "2023-02-09T08:54:17.546Z"
   },
   {
    "duration": 12,
    "start_time": "2023-02-09T08:54:17.587Z"
   },
   {
    "duration": 14,
    "start_time": "2023-02-09T08:54:17.600Z"
   },
   {
    "duration": 72,
    "start_time": "2023-02-09T08:54:17.615Z"
   },
   {
    "duration": 22,
    "start_time": "2023-02-09T08:54:17.688Z"
   },
   {
    "duration": 65,
    "start_time": "2023-02-09T08:54:17.711Z"
   },
   {
    "duration": 10,
    "start_time": "2023-02-09T08:54:17.777Z"
   },
   {
    "duration": 7,
    "start_time": "2023-02-09T08:54:17.788Z"
   },
   {
    "duration": 10,
    "start_time": "2023-02-09T08:54:17.796Z"
   },
   {
    "duration": 86,
    "start_time": "2023-02-09T08:54:17.807Z"
   },
   {
    "duration": 5,
    "start_time": "2023-02-09T08:54:17.894Z"
   },
   {
    "duration": 10,
    "start_time": "2023-02-09T08:54:17.901Z"
   },
   {
    "duration": 18,
    "start_time": "2023-02-09T08:54:17.912Z"
   },
   {
    "duration": 85,
    "start_time": "2023-02-09T08:54:17.932Z"
   },
   {
    "duration": 10,
    "start_time": "2023-02-09T08:54:18.019Z"
   },
   {
    "duration": 22,
    "start_time": "2023-02-09T08:54:18.031Z"
   },
   {
    "duration": 10,
    "start_time": "2023-02-09T08:54:18.055Z"
   },
   {
    "duration": 25,
    "start_time": "2023-02-09T08:54:18.067Z"
   },
   {
    "duration": 27,
    "start_time": "2023-02-09T08:54:18.094Z"
   },
   {
    "duration": 21,
    "start_time": "2023-02-09T08:54:18.123Z"
   },
   {
    "duration": 6,
    "start_time": "2023-02-09T08:54:18.145Z"
   },
   {
    "duration": 38,
    "start_time": "2023-02-09T08:54:18.152Z"
   },
   {
    "duration": 20,
    "start_time": "2023-02-09T08:54:18.192Z"
   },
   {
    "duration": 67,
    "start_time": "2023-02-09T08:54:18.213Z"
   },
   {
    "duration": 4,
    "start_time": "2023-02-09T08:54:18.281Z"
   },
   {
    "duration": 5,
    "start_time": "2023-02-09T08:54:18.287Z"
   },
   {
    "duration": 13,
    "start_time": "2023-02-09T08:54:18.294Z"
   },
   {
    "duration": 12,
    "start_time": "2023-02-09T08:54:18.308Z"
   },
   {
    "duration": 29,
    "start_time": "2023-02-09T08:54:18.344Z"
   },
   {
    "duration": 670,
    "start_time": "2023-02-09T19:19:17.671Z"
   },
   {
    "duration": 1382,
    "start_time": "2023-02-09T19:19:28.410Z"
   },
   {
    "duration": 525,
    "start_time": "2023-02-09T19:19:29.793Z"
   },
   {
    "duration": 14,
    "start_time": "2023-02-09T19:19:30.320Z"
   },
   {
    "duration": 24,
    "start_time": "2023-02-09T19:19:30.336Z"
   },
   {
    "duration": 13,
    "start_time": "2023-02-09T19:19:30.362Z"
   },
   {
    "duration": 55,
    "start_time": "2023-02-09T19:19:30.376Z"
   },
   {
    "duration": 23,
    "start_time": "2023-02-09T19:19:30.433Z"
   },
   {
    "duration": 27,
    "start_time": "2023-02-09T19:19:30.458Z"
   },
   {
    "duration": 38,
    "start_time": "2023-02-09T19:19:30.487Z"
   },
   {
    "duration": 78,
    "start_time": "2023-02-09T19:19:30.528Z"
   },
   {
    "duration": 87,
    "start_time": "2023-02-09T19:19:30.607Z"
   },
   {
    "duration": 20,
    "start_time": "2023-02-09T19:19:30.695Z"
   },
   {
    "duration": 59,
    "start_time": "2023-02-09T19:19:30.716Z"
   },
   {
    "duration": 23,
    "start_time": "2023-02-09T19:19:30.776Z"
   },
   {
    "duration": 47,
    "start_time": "2023-02-09T19:19:30.801Z"
   },
   {
    "duration": 29,
    "start_time": "2023-02-09T19:19:30.850Z"
   },
   {
    "duration": 41,
    "start_time": "2023-02-09T19:19:30.881Z"
   },
   {
    "duration": 24,
    "start_time": "2023-02-09T19:19:30.924Z"
   },
   {
    "duration": 4,
    "start_time": "2023-02-09T19:19:30.949Z"
   },
   {
    "duration": 19,
    "start_time": "2023-02-09T19:19:30.955Z"
   },
   {
    "duration": 28,
    "start_time": "2023-02-09T19:19:30.975Z"
   },
   {
    "duration": 402,
    "start_time": "2023-02-09T19:19:31.004Z"
   },
   {
    "duration": 14,
    "start_time": "2023-02-09T19:19:31.408Z"
   },
   {
    "duration": 337,
    "start_time": "2023-02-09T19:19:31.423Z"
   },
   {
    "duration": 20,
    "start_time": "2023-02-09T19:19:31.761Z"
   },
   {
    "duration": 22,
    "start_time": "2023-02-09T19:19:31.783Z"
   },
   {
    "duration": 19,
    "start_time": "2023-02-09T19:19:31.806Z"
   },
   {
    "duration": 36,
    "start_time": "2023-02-09T19:19:31.829Z"
   },
   {
    "duration": 23,
    "start_time": "2023-02-09T19:19:31.866Z"
   },
   {
    "duration": 32,
    "start_time": "2023-02-09T19:19:31.891Z"
   },
   {
    "duration": 42,
    "start_time": "2023-02-09T19:19:31.948Z"
   },
   {
    "duration": 18,
    "start_time": "2023-02-09T19:19:31.992Z"
   },
   {
    "duration": 19,
    "start_time": "2023-02-09T19:19:32.012Z"
   },
   {
    "duration": 55,
    "start_time": "2023-02-09T19:19:32.033Z"
   },
   {
    "duration": 23,
    "start_time": "2023-02-09T19:19:32.090Z"
   },
   {
    "duration": 73,
    "start_time": "2023-02-09T19:19:32.115Z"
   },
   {
    "duration": 9,
    "start_time": "2023-02-09T19:19:32.190Z"
   },
   {
    "duration": 10,
    "start_time": "2023-02-09T19:19:32.200Z"
   },
   {
    "duration": 11,
    "start_time": "2023-02-09T19:19:32.211Z"
   },
   {
    "duration": 98,
    "start_time": "2023-02-09T19:19:32.224Z"
   },
   {
    "duration": 6,
    "start_time": "2023-02-09T19:19:32.324Z"
   },
   {
    "duration": 49,
    "start_time": "2023-02-09T19:19:32.331Z"
   },
   {
    "duration": 49,
    "start_time": "2023-02-09T19:19:32.382Z"
   },
   {
    "duration": 103,
    "start_time": "2023-02-09T19:19:32.432Z"
   },
   {
    "duration": 8,
    "start_time": "2023-02-09T19:19:32.537Z"
   },
   {
    "duration": 17,
    "start_time": "2023-02-09T19:19:32.546Z"
   },
   {
    "duration": 11,
    "start_time": "2023-02-09T19:19:32.564Z"
   },
   {
    "duration": 11,
    "start_time": "2023-02-09T19:19:32.577Z"
   },
   {
    "duration": 26,
    "start_time": "2023-02-09T19:19:32.590Z"
   },
   {
    "duration": 30,
    "start_time": "2023-02-09T19:19:32.617Z"
   },
   {
    "duration": 19,
    "start_time": "2023-02-09T19:19:32.648Z"
   },
   {
    "duration": 52,
    "start_time": "2023-02-09T19:19:32.668Z"
   },
   {
    "duration": 21,
    "start_time": "2023-02-09T19:19:32.722Z"
   },
   {
    "duration": 52,
    "start_time": "2023-02-09T19:19:32.745Z"
   },
   {
    "duration": 3,
    "start_time": "2023-02-09T19:19:32.799Z"
   },
   {
    "duration": 30,
    "start_time": "2023-02-09T19:19:32.804Z"
   },
   {
    "duration": 21,
    "start_time": "2023-02-09T19:19:32.835Z"
   },
   {
    "duration": 34,
    "start_time": "2023-02-09T19:19:32.858Z"
   },
   {
    "duration": 34,
    "start_time": "2023-02-09T19:19:32.893Z"
   },
   {
    "duration": 116,
    "start_time": "2023-02-09T19:19:32.928Z"
   },
   {
    "duration": 20,
    "start_time": "2023-02-09T19:21:28.215Z"
   },
   {
    "duration": 8,
    "start_time": "2023-02-09T19:21:34.755Z"
   },
   {
    "duration": 15,
    "start_time": "2023-02-09T19:22:05.162Z"
   },
   {
    "duration": 5,
    "start_time": "2023-02-09T19:24:51.524Z"
   },
   {
    "duration": 16,
    "start_time": "2023-02-09T19:25:13.478Z"
   },
   {
    "duration": 5,
    "start_time": "2023-02-09T19:25:44.422Z"
   },
   {
    "duration": 4,
    "start_time": "2023-02-09T19:27:37.996Z"
   },
   {
    "duration": 5,
    "start_time": "2023-02-09T19:27:39.036Z"
   },
   {
    "duration": 7,
    "start_time": "2023-02-09T19:28:48.627Z"
   },
   {
    "duration": 8,
    "start_time": "2023-02-09T19:32:34.906Z"
   },
   {
    "duration": 18,
    "start_time": "2023-02-09T19:34:46.971Z"
   },
   {
    "duration": 11,
    "start_time": "2023-02-09T19:35:06.778Z"
   },
   {
    "duration": 8,
    "start_time": "2023-02-09T19:35:35.623Z"
   },
   {
    "duration": 3,
    "start_time": "2023-02-09T19:37:06.182Z"
   },
   {
    "duration": 5,
    "start_time": "2023-02-09T19:37:13.989Z"
   },
   {
    "duration": 10,
    "start_time": "2023-02-09T19:37:33.016Z"
   },
   {
    "duration": 1123,
    "start_time": "2023-02-09T19:37:55.793Z"
   },
   {
    "duration": 154,
    "start_time": "2023-02-09T19:37:56.918Z"
   },
   {
    "duration": 12,
    "start_time": "2023-02-09T19:37:57.074Z"
   },
   {
    "duration": 19,
    "start_time": "2023-02-09T19:37:57.088Z"
   },
   {
    "duration": 39,
    "start_time": "2023-02-09T19:37:57.109Z"
   },
   {
    "duration": 19,
    "start_time": "2023-02-09T19:37:57.150Z"
   },
   {
    "duration": 13,
    "start_time": "2023-02-09T19:37:57.170Z"
   },
   {
    "duration": 17,
    "start_time": "2023-02-09T19:37:57.185Z"
   },
   {
    "duration": 48,
    "start_time": "2023-02-09T19:37:57.205Z"
   },
   {
    "duration": 61,
    "start_time": "2023-02-09T19:37:57.256Z"
   },
   {
    "duration": 92,
    "start_time": "2023-02-09T19:37:57.318Z"
   },
   {
    "duration": 20,
    "start_time": "2023-02-09T19:37:57.411Z"
   },
   {
    "duration": 63,
    "start_time": "2023-02-09T19:37:57.433Z"
   },
   {
    "duration": 34,
    "start_time": "2023-02-09T19:37:57.499Z"
   },
   {
    "duration": 14,
    "start_time": "2023-02-09T19:37:57.550Z"
   },
   {
    "duration": 11,
    "start_time": "2023-02-09T19:37:57.567Z"
   },
   {
    "duration": 26,
    "start_time": "2023-02-09T19:37:57.581Z"
   },
   {
    "duration": 53,
    "start_time": "2023-02-09T19:37:57.609Z"
   },
   {
    "duration": 5,
    "start_time": "2023-02-09T19:37:57.664Z"
   },
   {
    "duration": 6,
    "start_time": "2023-02-09T19:37:57.671Z"
   },
   {
    "duration": 6,
    "start_time": "2023-02-09T19:37:57.679Z"
   },
   {
    "duration": 416,
    "start_time": "2023-02-09T19:37:57.687Z"
   },
   {
    "duration": 17,
    "start_time": "2023-02-09T19:37:58.105Z"
   },
   {
    "duration": 335,
    "start_time": "2023-02-09T19:37:58.123Z"
   },
   {
    "duration": 21,
    "start_time": "2023-02-09T19:37:58.459Z"
   },
   {
    "duration": 33,
    "start_time": "2023-02-09T19:37:58.483Z"
   },
   {
    "duration": 33,
    "start_time": "2023-02-09T19:37:58.518Z"
   },
   {
    "duration": 20,
    "start_time": "2023-02-09T19:37:58.556Z"
   },
   {
    "duration": 23,
    "start_time": "2023-02-09T19:37:58.578Z"
   },
   {
    "duration": 68,
    "start_time": "2023-02-09T19:37:58.604Z"
   },
   {
    "duration": 43,
    "start_time": "2023-02-09T19:37:58.674Z"
   },
   {
    "duration": 36,
    "start_time": "2023-02-09T19:37:58.719Z"
   },
   {
    "duration": 18,
    "start_time": "2023-02-09T19:37:58.757Z"
   },
   {
    "duration": 79,
    "start_time": "2023-02-09T19:37:58.777Z"
   },
   {
    "duration": 21,
    "start_time": "2023-02-09T19:37:58.858Z"
   },
   {
    "duration": 68,
    "start_time": "2023-02-09T19:37:58.881Z"
   },
   {
    "duration": 15,
    "start_time": "2023-02-09T19:37:58.951Z"
   },
   {
    "duration": 8,
    "start_time": "2023-02-09T19:37:58.968Z"
   },
   {
    "duration": 11,
    "start_time": "2023-02-09T19:37:58.978Z"
   },
   {
    "duration": 101,
    "start_time": "2023-02-09T19:37:58.991Z"
   },
   {
    "duration": 7,
    "start_time": "2023-02-09T19:37:59.095Z"
   },
   {
    "duration": 9,
    "start_time": "2023-02-09T19:37:59.103Z"
   },
   {
    "duration": 36,
    "start_time": "2023-02-09T19:37:59.114Z"
   },
   {
    "duration": 99,
    "start_time": "2023-02-09T19:37:59.152Z"
   },
   {
    "duration": 11,
    "start_time": "2023-02-09T19:37:59.254Z"
   },
   {
    "duration": 10,
    "start_time": "2023-02-09T19:37:59.267Z"
   },
   {
    "duration": 10,
    "start_time": "2023-02-09T19:37:59.279Z"
   },
   {
    "duration": 11,
    "start_time": "2023-02-09T19:37:59.291Z"
   },
   {
    "duration": 53,
    "start_time": "2023-02-09T19:37:59.304Z"
   },
   {
    "duration": 15,
    "start_time": "2023-02-09T19:37:59.359Z"
   },
   {
    "duration": 9,
    "start_time": "2023-02-09T19:37:59.376Z"
   },
   {
    "duration": 81,
    "start_time": "2023-02-09T19:37:59.387Z"
   },
   {
    "duration": 23,
    "start_time": "2023-02-09T19:37:59.470Z"
   },
   {
    "duration": 70,
    "start_time": "2023-02-09T19:37:59.495Z"
   },
   {
    "duration": 4,
    "start_time": "2023-02-09T19:37:59.567Z"
   },
   {
    "duration": 7,
    "start_time": "2023-02-09T19:37:59.573Z"
   },
   {
    "duration": 10,
    "start_time": "2023-02-09T19:37:59.582Z"
   },
   {
    "duration": 13,
    "start_time": "2023-02-09T19:37:59.594Z"
   },
   {
    "duration": 64,
    "start_time": "2023-02-09T19:37:59.610Z"
   },
   {
    "duration": 12,
    "start_time": "2023-02-09T19:37:59.676Z"
   },
   {
    "duration": 10,
    "start_time": "2023-02-09T19:37:59.690Z"
   },
   {
    "duration": 7,
    "start_time": "2023-02-09T19:37:59.703Z"
   },
   {
    "duration": 40,
    "start_time": "2023-02-09T19:37:59.712Z"
   },
   {
    "duration": 74,
    "start_time": "2023-02-09T19:38:33.591Z"
   },
   {
    "duration": 1097,
    "start_time": "2023-02-10T09:40:48.262Z"
   },
   {
    "duration": 156,
    "start_time": "2023-02-10T09:40:49.361Z"
   },
   {
    "duration": 12,
    "start_time": "2023-02-10T09:40:49.519Z"
   },
   {
    "duration": 21,
    "start_time": "2023-02-10T09:40:49.532Z"
   },
   {
    "duration": 13,
    "start_time": "2023-02-10T09:40:49.555Z"
   },
   {
    "duration": 18,
    "start_time": "2023-02-10T09:40:49.570Z"
   },
   {
    "duration": 10,
    "start_time": "2023-02-10T09:40:49.590Z"
   },
   {
    "duration": 14,
    "start_time": "2023-02-10T09:40:49.602Z"
   },
   {
    "duration": 18,
    "start_time": "2023-02-10T09:40:49.617Z"
   },
   {
    "duration": 83,
    "start_time": "2023-02-10T09:40:49.637Z"
   },
   {
    "duration": 76,
    "start_time": "2023-02-10T09:40:49.722Z"
   },
   {
    "duration": 18,
    "start_time": "2023-02-10T09:40:49.800Z"
   },
   {
    "duration": 49,
    "start_time": "2023-02-10T09:40:49.819Z"
   },
   {
    "duration": 37,
    "start_time": "2023-02-10T09:40:49.872Z"
   },
   {
    "duration": 11,
    "start_time": "2023-02-10T09:40:49.911Z"
   },
   {
    "duration": 9,
    "start_time": "2023-02-10T09:40:49.923Z"
   },
   {
    "duration": 58,
    "start_time": "2023-02-10T09:40:49.934Z"
   },
   {
    "duration": 20,
    "start_time": "2023-02-10T09:40:49.994Z"
   },
   {
    "duration": 4,
    "start_time": "2023-02-10T09:40:50.015Z"
   },
   {
    "duration": 16,
    "start_time": "2023-02-10T09:40:50.020Z"
   },
   {
    "duration": 15,
    "start_time": "2023-02-10T09:40:50.037Z"
   },
   {
    "duration": 382,
    "start_time": "2023-02-10T09:40:50.054Z"
   },
   {
    "duration": 13,
    "start_time": "2023-02-10T09:40:50.437Z"
   },
   {
    "duration": 322,
    "start_time": "2023-02-10T09:40:50.451Z"
   },
   {
    "duration": 18,
    "start_time": "2023-02-10T09:40:50.775Z"
   },
   {
    "duration": 20,
    "start_time": "2023-02-10T09:40:50.794Z"
   },
   {
    "duration": 10,
    "start_time": "2023-02-10T09:40:50.816Z"
   },
   {
    "duration": 40,
    "start_time": "2023-02-10T09:40:50.828Z"
   },
   {
    "duration": 20,
    "start_time": "2023-02-10T09:40:50.870Z"
   },
   {
    "duration": 30,
    "start_time": "2023-02-10T09:40:50.891Z"
   },
   {
    "duration": 56,
    "start_time": "2023-02-10T09:40:50.922Z"
   },
   {
    "duration": 13,
    "start_time": "2023-02-10T09:40:50.980Z"
   },
   {
    "duration": 16,
    "start_time": "2023-02-10T09:40:50.995Z"
   },
   {
    "duration": 68,
    "start_time": "2023-02-10T09:40:51.012Z"
   },
   {
    "duration": 21,
    "start_time": "2023-02-10T09:40:51.082Z"
   },
   {
    "duration": 69,
    "start_time": "2023-02-10T09:40:51.104Z"
   },
   {
    "duration": 9,
    "start_time": "2023-02-10T09:40:51.174Z"
   },
   {
    "duration": 6,
    "start_time": "2023-02-10T09:40:51.185Z"
   },
   {
    "duration": 15,
    "start_time": "2023-02-10T09:40:51.193Z"
   },
   {
    "duration": 74,
    "start_time": "2023-02-10T09:40:51.210Z"
   },
   {
    "duration": 5,
    "start_time": "2023-02-10T09:40:51.288Z"
   },
   {
    "duration": 12,
    "start_time": "2023-02-10T09:40:51.294Z"
   },
   {
    "duration": 12,
    "start_time": "2023-02-10T09:40:51.308Z"
   },
   {
    "duration": 77,
    "start_time": "2023-02-10T09:40:51.321Z"
   },
   {
    "duration": 8,
    "start_time": "2023-02-10T09:40:51.399Z"
   },
   {
    "duration": 10,
    "start_time": "2023-02-10T09:40:51.408Z"
   },
   {
    "duration": 12,
    "start_time": "2023-02-10T09:40:51.419Z"
   },
   {
    "duration": 11,
    "start_time": "2023-02-10T09:40:51.432Z"
   },
   {
    "duration": 28,
    "start_time": "2023-02-10T09:40:51.445Z"
   },
   {
    "duration": 17,
    "start_time": "2023-02-10T09:40:51.475Z"
   },
   {
    "duration": 11,
    "start_time": "2023-02-10T09:40:51.494Z"
   },
   {
    "duration": 40,
    "start_time": "2023-02-10T09:40:51.507Z"
   },
   {
    "duration": 29,
    "start_time": "2023-02-10T09:40:51.549Z"
   },
   {
    "duration": 49,
    "start_time": "2023-02-10T09:40:51.580Z"
   },
   {
    "duration": 3,
    "start_time": "2023-02-10T09:40:51.630Z"
   },
   {
    "duration": 16,
    "start_time": "2023-02-10T09:40:51.634Z"
   },
   {
    "duration": 20,
    "start_time": "2023-02-10T09:40:51.651Z"
   },
   {
    "duration": 20,
    "start_time": "2023-02-10T09:40:51.672Z"
   },
   {
    "duration": 36,
    "start_time": "2023-02-10T09:40:51.694Z"
   },
   {
    "duration": 6,
    "start_time": "2023-02-10T09:40:51.731Z"
   },
   {
    "duration": 10,
    "start_time": "2023-02-10T09:40:51.738Z"
   },
   {
    "duration": 21,
    "start_time": "2023-02-10T09:40:51.749Z"
   },
   {
    "duration": 11,
    "start_time": "2023-02-10T09:40:51.772Z"
   },
   {
    "duration": 48,
    "start_time": "2023-03-09T23:21:38.805Z"
   },
   {
    "duration": 6,
    "start_time": "2023-03-09T23:22:04.007Z"
   },
   {
    "duration": 4,
    "start_time": "2023-03-09T23:22:27.530Z"
   },
   {
    "duration": 7,
    "start_time": "2023-03-09T23:22:30.332Z"
   },
   {
    "duration": 8,
    "start_time": "2023-03-09T23:22:37.380Z"
   },
   {
    "duration": 1111,
    "start_time": "2023-03-09T23:22:44.768Z"
   },
   {
    "duration": 709,
    "start_time": "2023-03-09T23:22:45.880Z"
   },
   {
    "duration": 14,
    "start_time": "2023-03-09T23:22:46.591Z"
   },
   {
    "duration": 20,
    "start_time": "2023-03-09T23:22:46.607Z"
   },
   {
    "duration": 7,
    "start_time": "2023-03-09T23:22:46.629Z"
   },
   {
    "duration": 30,
    "start_time": "2023-03-09T23:22:46.638Z"
   },
   {
    "duration": 14,
    "start_time": "2023-03-09T23:22:46.670Z"
   },
   {
    "duration": 18,
    "start_time": "2023-03-09T23:22:46.686Z"
   },
   {
    "duration": 16,
    "start_time": "2023-03-09T23:22:46.705Z"
   },
   {
    "duration": 94,
    "start_time": "2023-03-09T23:22:46.723Z"
   },
   {
    "duration": 89,
    "start_time": "2023-03-09T23:22:46.819Z"
   },
   {
    "duration": 17,
    "start_time": "2023-03-09T23:22:46.910Z"
   },
   {
    "duration": 54,
    "start_time": "2023-03-09T23:22:46.929Z"
   },
   {
    "duration": 19,
    "start_time": "2023-03-09T23:22:46.985Z"
   },
   {
    "duration": 17,
    "start_time": "2023-03-09T23:22:47.006Z"
   },
   {
    "duration": 7,
    "start_time": "2023-03-09T23:22:47.025Z"
   },
   {
    "duration": 33,
    "start_time": "2023-03-09T23:22:47.033Z"
   },
   {
    "duration": 18,
    "start_time": "2023-03-09T23:22:47.068Z"
   },
   {
    "duration": 4,
    "start_time": "2023-03-09T23:22:47.087Z"
   },
   {
    "duration": 7,
    "start_time": "2023-03-09T23:22:47.093Z"
   },
   {
    "duration": 11,
    "start_time": "2023-03-09T23:22:47.102Z"
   },
   {
    "duration": 405,
    "start_time": "2023-03-09T23:22:47.115Z"
   },
   {
    "duration": 15,
    "start_time": "2023-03-09T23:22:47.521Z"
   },
   {
    "duration": 339,
    "start_time": "2023-03-09T23:22:47.537Z"
   },
   {
    "duration": 20,
    "start_time": "2023-03-09T23:22:47.877Z"
   },
   {
    "duration": 21,
    "start_time": "2023-03-09T23:22:47.899Z"
   },
   {
    "duration": 9,
    "start_time": "2023-03-09T23:22:47.921Z"
   },
   {
    "duration": 37,
    "start_time": "2023-03-09T23:22:47.933Z"
   },
   {
    "duration": 19,
    "start_time": "2023-03-09T23:22:47.972Z"
   },
   {
    "duration": 27,
    "start_time": "2023-03-09T23:22:47.992Z"
   },
   {
    "duration": 66,
    "start_time": "2023-03-09T23:22:48.020Z"
   },
   {
    "duration": 15,
    "start_time": "2023-03-09T23:22:48.087Z"
   },
   {
    "duration": 16,
    "start_time": "2023-03-09T23:22:48.103Z"
   },
   {
    "duration": 76,
    "start_time": "2023-03-09T23:22:48.120Z"
   },
   {
    "duration": 22,
    "start_time": "2023-03-09T23:22:48.198Z"
   },
   {
    "duration": 73,
    "start_time": "2023-03-09T23:22:48.222Z"
   },
   {
    "duration": 12,
    "start_time": "2023-03-09T23:22:48.297Z"
   },
   {
    "duration": 7,
    "start_time": "2023-03-09T23:22:48.311Z"
   },
   {
    "duration": 34,
    "start_time": "2023-03-09T23:22:48.320Z"
   },
   {
    "duration": 69,
    "start_time": "2023-03-09T23:22:48.355Z"
   },
   {
    "duration": 6,
    "start_time": "2023-03-09T23:22:48.426Z"
   },
   {
    "duration": 22,
    "start_time": "2023-03-09T23:22:48.434Z"
   },
   {
    "duration": 14,
    "start_time": "2023-03-09T23:22:48.457Z"
   },
   {
    "duration": 99,
    "start_time": "2023-03-09T23:22:48.473Z"
   },
   {
    "duration": 10,
    "start_time": "2023-03-09T23:22:48.573Z"
   },
   {
    "duration": 12,
    "start_time": "2023-03-09T23:22:48.585Z"
   },
   {
    "duration": 10,
    "start_time": "2023-03-09T23:22:48.599Z"
   },
   {
    "duration": 13,
    "start_time": "2023-03-09T23:22:48.611Z"
   },
   {
    "duration": 41,
    "start_time": "2023-03-09T23:22:48.625Z"
   },
   {
    "duration": 13,
    "start_time": "2023-03-09T23:22:48.667Z"
   },
   {
    "duration": 7,
    "start_time": "2023-03-09T23:22:48.681Z"
   },
   {
    "duration": 71,
    "start_time": "2023-03-09T23:22:48.689Z"
   },
   {
    "duration": 22,
    "start_time": "2023-03-09T23:22:48.762Z"
   },
   {
    "duration": 69,
    "start_time": "2023-03-09T23:22:48.785Z"
   },
   {
    "duration": 3,
    "start_time": "2023-03-09T23:22:48.856Z"
   },
   {
    "duration": 10,
    "start_time": "2023-03-09T23:22:48.861Z"
   },
   {
    "duration": 9,
    "start_time": "2023-03-09T23:22:48.873Z"
   },
   {
    "duration": 15,
    "start_time": "2023-03-09T23:22:48.884Z"
   },
   {
    "duration": 70,
    "start_time": "2023-03-09T23:22:48.901Z"
   },
   {
    "duration": 5,
    "start_time": "2023-03-09T23:22:48.973Z"
   },
   {
    "duration": 9,
    "start_time": "2023-03-09T23:22:48.979Z"
   },
   {
    "duration": 6,
    "start_time": "2023-03-09T23:22:48.990Z"
   },
   {
    "duration": 10,
    "start_time": "2023-03-09T23:22:48.997Z"
   },
   {
    "duration": 43,
    "start_time": "2023-03-09T23:39:35.388Z"
   }
  ],
  "kernelspec": {
   "display_name": "Python 3 (ipykernel)",
   "language": "python",
   "name": "python3"
  },
  "language_info": {
   "codemirror_mode": {
    "name": "ipython",
    "version": 3
   },
   "file_extension": ".py",
   "mimetype": "text/x-python",
   "name": "python",
   "nbconvert_exporter": "python",
   "pygments_lexer": "ipython3",
   "version": "3.9.5"
  },
  "toc": {
   "base_numbering": 1,
   "nav_menu": {},
   "number_sections": true,
   "sideBar": true,
   "skip_h1_title": true,
   "title_cell": "Table of Contents",
   "title_sidebar": "Contents",
   "toc_cell": false,
   "toc_position": {},
   "toc_section_display": true,
   "toc_window_display": false
  }
 },
 "nbformat": 4,
 "nbformat_minor": 4
}
