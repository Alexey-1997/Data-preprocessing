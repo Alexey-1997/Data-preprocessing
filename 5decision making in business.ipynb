{
 "cells": [
  {
   "cell_type": "markdown",
   "metadata": {},
   "source": [
    "# Анализ гипотез для увеличения выручки\n",
    "\n",
    "В нашем распоряжении данные о гипотезах для увеличения выручки. \n",
    "Задачи - приоритизирывать гипотезы и запустить A/B-тест. Цель - принятие решения по результатам теста. "
   ]
  },
  {
   "cell_type": "markdown",
   "metadata": {},
   "source": [
    "### Загрузим данные и подготовим их к анализу"
   ]
  },
  {
   "cell_type": "code",
   "execution_count": 1,
   "metadata": {},
   "outputs": [],
   "source": [
    "import pandas as pd\n",
    "import scipy.stats as stats\n",
    "import datetime as dt\n",
    "import numpy as np\n",
    "import matplotlib.pyplot as plt\n",
    "from pandas.plotting import register_matplotlib_converters\n",
    "import warnings"
   ]
  },
  {
   "cell_type": "code",
   "execution_count": 2,
   "metadata": {},
   "outputs": [],
   "source": [
    "hypothesis = pd.read_csv('/datasets/hypothesis.csv')\n",
    "orders = pd.read_csv('/datasets/orders.csv')\n",
    "visitors = pd.read_csv('/datasets/visitors.csv')"
   ]
  },
  {
   "cell_type": "code",
   "execution_count": 3,
   "metadata": {},
   "outputs": [
    {
     "data": {
      "text/html": [
       "<div>\n",
       "<style scoped>\n",
       "    .dataframe tbody tr th:only-of-type {\n",
       "        vertical-align: middle;\n",
       "    }\n",
       "\n",
       "    .dataframe tbody tr th {\n",
       "        vertical-align: top;\n",
       "    }\n",
       "\n",
       "    .dataframe thead th {\n",
       "        text-align: right;\n",
       "    }\n",
       "</style>\n",
       "<table border=\"1\" class=\"dataframe\">\n",
       "  <thead>\n",
       "    <tr style=\"text-align: right;\">\n",
       "      <th></th>\n",
       "      <th>Hypothesis</th>\n",
       "      <th>Reach</th>\n",
       "      <th>Impact</th>\n",
       "      <th>Confidence</th>\n",
       "      <th>Efforts</th>\n",
       "    </tr>\n",
       "  </thead>\n",
       "  <tbody>\n",
       "    <tr>\n",
       "      <th>0</th>\n",
       "      <td>Добавить два новых канала привлечения трафика,...</td>\n",
       "      <td>3</td>\n",
       "      <td>10</td>\n",
       "      <td>8</td>\n",
       "      <td>6</td>\n",
       "    </tr>\n",
       "    <tr>\n",
       "      <th>1</th>\n",
       "      <td>Запустить собственную службу доставки, что сок...</td>\n",
       "      <td>2</td>\n",
       "      <td>5</td>\n",
       "      <td>4</td>\n",
       "      <td>10</td>\n",
       "    </tr>\n",
       "    <tr>\n",
       "      <th>2</th>\n",
       "      <td>Добавить блоки рекомендаций товаров на сайт ин...</td>\n",
       "      <td>8</td>\n",
       "      <td>3</td>\n",
       "      <td>7</td>\n",
       "      <td>3</td>\n",
       "    </tr>\n",
       "    <tr>\n",
       "      <th>3</th>\n",
       "      <td>Изменить структура категорий, что увеличит кон...</td>\n",
       "      <td>8</td>\n",
       "      <td>3</td>\n",
       "      <td>3</td>\n",
       "      <td>8</td>\n",
       "    </tr>\n",
       "    <tr>\n",
       "      <th>4</th>\n",
       "      <td>Изменить цвет фона главной страницы, чтобы уве...</td>\n",
       "      <td>3</td>\n",
       "      <td>1</td>\n",
       "      <td>1</td>\n",
       "      <td>1</td>\n",
       "    </tr>\n",
       "    <tr>\n",
       "      <th>5</th>\n",
       "      <td>Добавить страницу отзывов клиентов о магазине,...</td>\n",
       "      <td>3</td>\n",
       "      <td>2</td>\n",
       "      <td>2</td>\n",
       "      <td>3</td>\n",
       "    </tr>\n",
       "    <tr>\n",
       "      <th>6</th>\n",
       "      <td>Показать на главной странице баннеры с актуаль...</td>\n",
       "      <td>5</td>\n",
       "      <td>3</td>\n",
       "      <td>8</td>\n",
       "      <td>3</td>\n",
       "    </tr>\n",
       "    <tr>\n",
       "      <th>7</th>\n",
       "      <td>Добавить форму подписки на все основные страни...</td>\n",
       "      <td>10</td>\n",
       "      <td>7</td>\n",
       "      <td>8</td>\n",
       "      <td>5</td>\n",
       "    </tr>\n",
       "    <tr>\n",
       "      <th>8</th>\n",
       "      <td>Запустить акцию, дающую скидку на товар в день...</td>\n",
       "      <td>1</td>\n",
       "      <td>9</td>\n",
       "      <td>9</td>\n",
       "      <td>5</td>\n",
       "    </tr>\n",
       "  </tbody>\n",
       "</table>\n",
       "</div>"
      ],
      "text/plain": [
       "                                          Hypothesis  Reach  Impact  \\\n",
       "0  Добавить два новых канала привлечения трафика,...      3      10   \n",
       "1  Запустить собственную службу доставки, что сок...      2       5   \n",
       "2  Добавить блоки рекомендаций товаров на сайт ин...      8       3   \n",
       "3  Изменить структура категорий, что увеличит кон...      8       3   \n",
       "4  Изменить цвет фона главной страницы, чтобы уве...      3       1   \n",
       "5  Добавить страницу отзывов клиентов о магазине,...      3       2   \n",
       "6  Показать на главной странице баннеры с актуаль...      5       3   \n",
       "7  Добавить форму подписки на все основные страни...     10       7   \n",
       "8  Запустить акцию, дающую скидку на товар в день...      1       9   \n",
       "\n",
       "   Confidence  Efforts  \n",
       "0           8        6  \n",
       "1           4       10  \n",
       "2           7        3  \n",
       "3           3        8  \n",
       "4           1        1  \n",
       "5           2        3  \n",
       "6           8        3  \n",
       "7           8        5  \n",
       "8           9        5  "
      ]
     },
     "execution_count": 3,
     "metadata": {},
     "output_type": "execute_result"
    }
   ],
   "source": [
    "hypothesis"
   ]
  },
  {
   "cell_type": "code",
   "execution_count": 4,
   "metadata": {},
   "outputs": [
    {
     "name": "stdout",
     "output_type": "stream",
     "text": [
      "<class 'pandas.core.frame.DataFrame'>\n",
      "RangeIndex: 9 entries, 0 to 8\n",
      "Data columns (total 5 columns):\n",
      " #   Column      Non-Null Count  Dtype \n",
      "---  ------      --------------  ----- \n",
      " 0   Hypothesis  9 non-null      object\n",
      " 1   Reach       9 non-null      int64 \n",
      " 2   Impact      9 non-null      int64 \n",
      " 3   Confidence  9 non-null      int64 \n",
      " 4   Efforts     9 non-null      int64 \n",
      "dtypes: int64(4), object(1)\n",
      "memory usage: 488.0+ bytes\n"
     ]
    }
   ],
   "source": [
    "hypothesis.info()"
   ]
  },
  {
   "cell_type": "code",
   "execution_count": 5,
   "metadata": {},
   "outputs": [
    {
     "data": {
      "text/html": [
       "<div>\n",
       "<style scoped>\n",
       "    .dataframe tbody tr th:only-of-type {\n",
       "        vertical-align: middle;\n",
       "    }\n",
       "\n",
       "    .dataframe tbody tr th {\n",
       "        vertical-align: top;\n",
       "    }\n",
       "\n",
       "    .dataframe thead th {\n",
       "        text-align: right;\n",
       "    }\n",
       "</style>\n",
       "<table border=\"1\" class=\"dataframe\">\n",
       "  <thead>\n",
       "    <tr style=\"text-align: right;\">\n",
       "      <th></th>\n",
       "      <th>transactionId</th>\n",
       "      <th>visitorId</th>\n",
       "      <th>date</th>\n",
       "      <th>revenue</th>\n",
       "      <th>group</th>\n",
       "    </tr>\n",
       "  </thead>\n",
       "  <tbody>\n",
       "    <tr>\n",
       "      <th>0</th>\n",
       "      <td>3667963787</td>\n",
       "      <td>3312258926</td>\n",
       "      <td>2019-08-15</td>\n",
       "      <td>1650</td>\n",
       "      <td>B</td>\n",
       "    </tr>\n",
       "    <tr>\n",
       "      <th>1</th>\n",
       "      <td>2804400009</td>\n",
       "      <td>3642806036</td>\n",
       "      <td>2019-08-15</td>\n",
       "      <td>730</td>\n",
       "      <td>B</td>\n",
       "    </tr>\n",
       "    <tr>\n",
       "      <th>2</th>\n",
       "      <td>2961555356</td>\n",
       "      <td>4069496402</td>\n",
       "      <td>2019-08-15</td>\n",
       "      <td>400</td>\n",
       "      <td>A</td>\n",
       "    </tr>\n",
       "    <tr>\n",
       "      <th>3</th>\n",
       "      <td>3797467345</td>\n",
       "      <td>1196621759</td>\n",
       "      <td>2019-08-15</td>\n",
       "      <td>9759</td>\n",
       "      <td>B</td>\n",
       "    </tr>\n",
       "    <tr>\n",
       "      <th>4</th>\n",
       "      <td>2282983706</td>\n",
       "      <td>2322279887</td>\n",
       "      <td>2019-08-15</td>\n",
       "      <td>2308</td>\n",
       "      <td>B</td>\n",
       "    </tr>\n",
       "    <tr>\n",
       "      <th>...</th>\n",
       "      <td>...</td>\n",
       "      <td>...</td>\n",
       "      <td>...</td>\n",
       "      <td>...</td>\n",
       "      <td>...</td>\n",
       "    </tr>\n",
       "    <tr>\n",
       "      <th>1192</th>\n",
       "      <td>2662137336</td>\n",
       "      <td>3733762160</td>\n",
       "      <td>2019-08-14</td>\n",
       "      <td>6490</td>\n",
       "      <td>B</td>\n",
       "    </tr>\n",
       "    <tr>\n",
       "      <th>1193</th>\n",
       "      <td>2203539145</td>\n",
       "      <td>370388673</td>\n",
       "      <td>2019-08-14</td>\n",
       "      <td>3190</td>\n",
       "      <td>A</td>\n",
       "    </tr>\n",
       "    <tr>\n",
       "      <th>1194</th>\n",
       "      <td>1807773912</td>\n",
       "      <td>573423106</td>\n",
       "      <td>2019-08-14</td>\n",
       "      <td>10550</td>\n",
       "      <td>A</td>\n",
       "    </tr>\n",
       "    <tr>\n",
       "      <th>1195</th>\n",
       "      <td>1947021204</td>\n",
       "      <td>1614305549</td>\n",
       "      <td>2019-08-14</td>\n",
       "      <td>100</td>\n",
       "      <td>A</td>\n",
       "    </tr>\n",
       "    <tr>\n",
       "      <th>1196</th>\n",
       "      <td>3936777065</td>\n",
       "      <td>2108080724</td>\n",
       "      <td>2019-08-15</td>\n",
       "      <td>202740</td>\n",
       "      <td>B</td>\n",
       "    </tr>\n",
       "  </tbody>\n",
       "</table>\n",
       "<p>1197 rows × 5 columns</p>\n",
       "</div>"
      ],
      "text/plain": [
       "      transactionId   visitorId        date  revenue group\n",
       "0        3667963787  3312258926  2019-08-15     1650     B\n",
       "1        2804400009  3642806036  2019-08-15      730     B\n",
       "2        2961555356  4069496402  2019-08-15      400     A\n",
       "3        3797467345  1196621759  2019-08-15     9759     B\n",
       "4        2282983706  2322279887  2019-08-15     2308     B\n",
       "...             ...         ...         ...      ...   ...\n",
       "1192     2662137336  3733762160  2019-08-14     6490     B\n",
       "1193     2203539145   370388673  2019-08-14     3190     A\n",
       "1194     1807773912   573423106  2019-08-14    10550     A\n",
       "1195     1947021204  1614305549  2019-08-14      100     A\n",
       "1196     3936777065  2108080724  2019-08-15   202740     B\n",
       "\n",
       "[1197 rows x 5 columns]"
      ]
     },
     "execution_count": 5,
     "metadata": {},
     "output_type": "execute_result"
    }
   ],
   "source": [
    "orders"
   ]
  },
  {
   "cell_type": "code",
   "execution_count": 6,
   "metadata": {},
   "outputs": [
    {
     "name": "stdout",
     "output_type": "stream",
     "text": [
      "<class 'pandas.core.frame.DataFrame'>\n",
      "RangeIndex: 1197 entries, 0 to 1196\n",
      "Data columns (total 5 columns):\n",
      " #   Column         Non-Null Count  Dtype \n",
      "---  ------         --------------  ----- \n",
      " 0   transactionId  1197 non-null   int64 \n",
      " 1   visitorId      1197 non-null   int64 \n",
      " 2   date           1197 non-null   object\n",
      " 3   revenue        1197 non-null   int64 \n",
      " 4   group          1197 non-null   object\n",
      "dtypes: int64(3), object(2)\n",
      "memory usage: 46.9+ KB\n"
     ]
    }
   ],
   "source": [
    "orders.info()"
   ]
  },
  {
   "cell_type": "code",
   "execution_count": 7,
   "metadata": {},
   "outputs": [],
   "source": [
    "orders['date'] = orders['date'].map(lambda x: dt.datetime.strptime(x, '%Y-%m-%d'))"
   ]
  },
  {
   "cell_type": "code",
   "execution_count": 8,
   "metadata": {},
   "outputs": [
    {
     "data": {
      "text/plain": [
       "0"
      ]
     },
     "execution_count": 8,
     "metadata": {},
     "output_type": "execute_result"
    }
   ],
   "source": [
    "orders.duplicated().sum()"
   ]
  },
  {
   "cell_type": "code",
   "execution_count": 9,
   "metadata": {},
   "outputs": [
    {
     "data": {
      "text/plain": [
       "1658608862    1\n",
       "2211880073    1\n",
       "3913205113    1\n",
       "437656952     1\n",
       "3592105335    1\n",
       "             ..\n",
       "2872509092    1\n",
       "2013919907    1\n",
       "3154167297    1\n",
       "2960804513    1\n",
       "4281129020    1\n",
       "Name: transactionId, Length: 1197, dtype: int64"
      ]
     },
     "execution_count": 9,
     "metadata": {},
     "output_type": "execute_result"
    }
   ],
   "source": [
    "orders['transactionId'].value_counts()"
   ]
  },
  {
   "cell_type": "code",
   "execution_count": 10,
   "metadata": {},
   "outputs": [
    {
     "data": {
      "text/plain": [
       "4256040402    11\n",
       "2458001652    11\n",
       "2378935119     9\n",
       "2038680547     8\n",
       "199603092      5\n",
       "              ..\n",
       "2406916810     1\n",
       "1255412427     1\n",
       "3866069709     1\n",
       "54447517       1\n",
       "3013339133     1\n",
       "Name: visitorId, Length: 1031, dtype: int64"
      ]
     },
     "execution_count": 10,
     "metadata": {},
     "output_type": "execute_result"
    }
   ],
   "source": [
    "orders['visitorId'].value_counts()"
   ]
  },
  {
   "cell_type": "code",
   "execution_count": 11,
   "metadata": {},
   "outputs": [
    {
     "data": {
      "text/plain": [
       "2019-08-05    48\n",
       "2019-08-12    47\n",
       "2019-08-14    47\n",
       "2019-08-15    46\n",
       "2019-08-06    46\n",
       "2019-08-01    45\n",
       "2019-08-28    45\n",
       "2019-08-02    44\n",
       "2019-08-27    44\n",
       "2019-08-08    43\n",
       "2019-08-19    43\n",
       "2019-08-29    42\n",
       "2019-08-07    42\n",
       "2019-08-26    41\n",
       "2019-08-22    41\n",
       "2019-08-09    41\n",
       "2019-08-03    40\n",
       "2019-08-23    40\n",
       "2019-08-10    39\n",
       "2019-08-16    38\n",
       "2019-08-21    37\n",
       "2019-08-30    35\n",
       "2019-08-13    35\n",
       "2019-08-04    33\n",
       "2019-08-20    32\n",
       "2019-08-31    32\n",
       "2019-08-24    31\n",
       "2019-08-18    26\n",
       "2019-08-11    26\n",
       "2019-08-17    24\n",
       "2019-08-25    24\n",
       "Name: date, dtype: int64"
      ]
     },
     "execution_count": 11,
     "metadata": {},
     "output_type": "execute_result"
    }
   ],
   "source": [
    "orders['date'].value_counts()"
   ]
  },
  {
   "cell_type": "code",
   "execution_count": 12,
   "metadata": {},
   "outputs": [
    {
     "name": "stdout",
     "output_type": "stream",
     "text": [
      "2019-08-01 00:00:00\n"
     ]
    }
   ],
   "source": [
    "print(orders['date'].min())"
   ]
  },
  {
   "cell_type": "code",
   "execution_count": 13,
   "metadata": {},
   "outputs": [
    {
     "name": "stdout",
     "output_type": "stream",
     "text": [
      "2019-08-31 00:00:00\n"
     ]
    }
   ],
   "source": [
    "print(orders['date'].max())"
   ]
  },
  {
   "cell_type": "code",
   "execution_count": 14,
   "metadata": {},
   "outputs": [
    {
     "data": {
      "text/plain": [
       "990       17\n",
       "890       13\n",
       "390       13\n",
       "1190      10\n",
       "400       10\n",
       "          ..\n",
       "6440       1\n",
       "45780      1\n",
       "725        1\n",
       "9800       1\n",
       "202740     1\n",
       "Name: revenue, Length: 713, dtype: int64"
      ]
     },
     "execution_count": 14,
     "metadata": {},
     "output_type": "execute_result"
    }
   ],
   "source": [
    "orders['revenue'].value_counts()"
   ]
  },
  {
   "cell_type": "code",
   "execution_count": 15,
   "metadata": {},
   "outputs": [
    {
     "data": {
      "text/plain": [
       "B    640\n",
       "A    557\n",
       "Name: group, dtype: int64"
      ]
     },
     "execution_count": 15,
     "metadata": {},
     "output_type": "execute_result"
    }
   ],
   "source": [
    "orders['group'].value_counts()"
   ]
  },
  {
   "cell_type": "code",
   "execution_count": 16,
   "metadata": {},
   "outputs": [
    {
     "data": {
      "text/html": [
       "<div>\n",
       "<style scoped>\n",
       "    .dataframe tbody tr th:only-of-type {\n",
       "        vertical-align: middle;\n",
       "    }\n",
       "\n",
       "    .dataframe tbody tr th {\n",
       "        vertical-align: top;\n",
       "    }\n",
       "\n",
       "    .dataframe thead th {\n",
       "        text-align: right;\n",
       "    }\n",
       "</style>\n",
       "<table border=\"1\" class=\"dataframe\">\n",
       "  <thead>\n",
       "    <tr style=\"text-align: right;\">\n",
       "      <th></th>\n",
       "      <th>date</th>\n",
       "      <th>group</th>\n",
       "      <th>visitors</th>\n",
       "    </tr>\n",
       "  </thead>\n",
       "  <tbody>\n",
       "    <tr>\n",
       "      <th>0</th>\n",
       "      <td>2019-08-01</td>\n",
       "      <td>A</td>\n",
       "      <td>719</td>\n",
       "    </tr>\n",
       "    <tr>\n",
       "      <th>1</th>\n",
       "      <td>2019-08-02</td>\n",
       "      <td>A</td>\n",
       "      <td>619</td>\n",
       "    </tr>\n",
       "    <tr>\n",
       "      <th>2</th>\n",
       "      <td>2019-08-03</td>\n",
       "      <td>A</td>\n",
       "      <td>507</td>\n",
       "    </tr>\n",
       "    <tr>\n",
       "      <th>3</th>\n",
       "      <td>2019-08-04</td>\n",
       "      <td>A</td>\n",
       "      <td>717</td>\n",
       "    </tr>\n",
       "    <tr>\n",
       "      <th>4</th>\n",
       "      <td>2019-08-05</td>\n",
       "      <td>A</td>\n",
       "      <td>756</td>\n",
       "    </tr>\n",
       "    <tr>\n",
       "      <th>...</th>\n",
       "      <td>...</td>\n",
       "      <td>...</td>\n",
       "      <td>...</td>\n",
       "    </tr>\n",
       "    <tr>\n",
       "      <th>57</th>\n",
       "      <td>2019-08-27</td>\n",
       "      <td>B</td>\n",
       "      <td>720</td>\n",
       "    </tr>\n",
       "    <tr>\n",
       "      <th>58</th>\n",
       "      <td>2019-08-28</td>\n",
       "      <td>B</td>\n",
       "      <td>654</td>\n",
       "    </tr>\n",
       "    <tr>\n",
       "      <th>59</th>\n",
       "      <td>2019-08-29</td>\n",
       "      <td>B</td>\n",
       "      <td>531</td>\n",
       "    </tr>\n",
       "    <tr>\n",
       "      <th>60</th>\n",
       "      <td>2019-08-30</td>\n",
       "      <td>B</td>\n",
       "      <td>490</td>\n",
       "    </tr>\n",
       "    <tr>\n",
       "      <th>61</th>\n",
       "      <td>2019-08-31</td>\n",
       "      <td>B</td>\n",
       "      <td>718</td>\n",
       "    </tr>\n",
       "  </tbody>\n",
       "</table>\n",
       "<p>62 rows × 3 columns</p>\n",
       "</div>"
      ],
      "text/plain": [
       "          date group  visitors\n",
       "0   2019-08-01     A       719\n",
       "1   2019-08-02     A       619\n",
       "2   2019-08-03     A       507\n",
       "3   2019-08-04     A       717\n",
       "4   2019-08-05     A       756\n",
       "..         ...   ...       ...\n",
       "57  2019-08-27     B       720\n",
       "58  2019-08-28     B       654\n",
       "59  2019-08-29     B       531\n",
       "60  2019-08-30     B       490\n",
       "61  2019-08-31     B       718\n",
       "\n",
       "[62 rows x 3 columns]"
      ]
     },
     "execution_count": 16,
     "metadata": {},
     "output_type": "execute_result"
    }
   ],
   "source": [
    "visitors"
   ]
  },
  {
   "cell_type": "code",
   "execution_count": 17,
   "metadata": {},
   "outputs": [
    {
     "name": "stdout",
     "output_type": "stream",
     "text": [
      "<class 'pandas.core.frame.DataFrame'>\n",
      "RangeIndex: 62 entries, 0 to 61\n",
      "Data columns (total 3 columns):\n",
      " #   Column    Non-Null Count  Dtype \n",
      "---  ------    --------------  ----- \n",
      " 0   date      62 non-null     object\n",
      " 1   group     62 non-null     object\n",
      " 2   visitors  62 non-null     int64 \n",
      "dtypes: int64(1), object(2)\n",
      "memory usage: 1.6+ KB\n"
     ]
    }
   ],
   "source": [
    "visitors.info()"
   ]
  },
  {
   "cell_type": "code",
   "execution_count": 18,
   "metadata": {},
   "outputs": [
    {
     "data": {
      "text/plain": [
       "2019-08-02    2\n",
       "2019-08-10    2\n",
       "2019-08-22    2\n",
       "2019-08-12    2\n",
       "2019-08-03    2\n",
       "2019-08-05    2\n",
       "2019-08-17    2\n",
       "2019-08-31    2\n",
       "2019-08-15    2\n",
       "2019-08-07    2\n",
       "2019-08-11    2\n",
       "2019-08-01    2\n",
       "2019-08-20    2\n",
       "2019-08-06    2\n",
       "2019-08-14    2\n",
       "2019-08-21    2\n",
       "2019-08-29    2\n",
       "2019-08-23    2\n",
       "2019-08-27    2\n",
       "2019-08-16    2\n",
       "2019-08-18    2\n",
       "2019-08-13    2\n",
       "2019-08-24    2\n",
       "2019-08-26    2\n",
       "2019-08-19    2\n",
       "2019-08-08    2\n",
       "2019-08-28    2\n",
       "2019-08-30    2\n",
       "2019-08-25    2\n",
       "2019-08-04    2\n",
       "2019-08-09    2\n",
       "Name: date, dtype: int64"
      ]
     },
     "execution_count": 18,
     "metadata": {},
     "output_type": "execute_result"
    }
   ],
   "source": [
    "visitors['date'].value_counts()"
   ]
  },
  {
   "cell_type": "code",
   "execution_count": 19,
   "metadata": {},
   "outputs": [
    {
     "name": "stdout",
     "output_type": "stream",
     "text": [
      "2019-08-01\n"
     ]
    }
   ],
   "source": [
    "print(visitors['date'].min())"
   ]
  },
  {
   "cell_type": "code",
   "execution_count": 20,
   "metadata": {},
   "outputs": [
    {
     "name": "stdout",
     "output_type": "stream",
     "text": [
      "2019-08-31\n"
     ]
    }
   ],
   "source": [
    "print(visitors['date'].max())"
   ]
  },
  {
   "cell_type": "code",
   "execution_count": 21,
   "metadata": {},
   "outputs": [],
   "source": [
    "visitors['date'] = visitors['date'].map(lambda x: dt.datetime.strptime(x, '%Y-%m-%d'))"
   ]
  },
  {
   "cell_type": "code",
   "execution_count": 22,
   "metadata": {},
   "outputs": [
    {
     "data": {
      "text/plain": [
       "A    31\n",
       "B    31\n",
       "Name: group, dtype: int64"
      ]
     },
     "execution_count": 22,
     "metadata": {},
     "output_type": "execute_result"
    }
   ],
   "source": [
    "visitors['group'].value_counts()"
   ]
  },
  {
   "cell_type": "code",
   "execution_count": 23,
   "metadata": {},
   "outputs": [
    {
     "data": {
      "text/plain": [
       "610    2\n",
       "718    2\n",
       "654    2\n",
       "490    2\n",
       "609    1\n",
       "717    1\n",
       "719    1\n",
       "720    1\n",
       "721    1\n",
       "594    1\n",
       "722    1\n",
       "468    1\n",
       "595    1\n",
       "756    1\n",
       "735    1\n",
       "769    1\n",
       "711    1\n",
       "668    1\n",
       "487    1\n",
       "361    1\n",
       "746    1\n",
       "619    1\n",
       "748    1\n",
       "621    1\n",
       "369    1\n",
       "628    1\n",
       "709    1\n",
       "378    1\n",
       "507    1\n",
       "713    1\n",
       "581    1\n",
       "770    1\n",
       "413    1\n",
       "644    1\n",
       "646    1\n",
       "650    1\n",
       "395    1\n",
       "655    1\n",
       "737    1\n",
       "531    1\n",
       "502    1\n",
       "406    1\n",
       "667    1\n",
       "412    1\n",
       "543    1\n",
       "707    1\n",
       "544    1\n",
       "546    1\n",
       "676    1\n",
       "421    1\n",
       "617    1\n",
       "679    1\n",
       "560    1\n",
       "656    1\n",
       "699    1\n",
       "575    1\n",
       "577    1\n",
       "509    1\n",
       "Name: visitors, dtype: int64"
      ]
     },
     "execution_count": 23,
     "metadata": {},
     "output_type": "execute_result"
    }
   ],
   "source": [
    "visitors['visitors'].value_counts()"
   ]
  },
  {
   "cell_type": "markdown",
   "metadata": {},
   "source": [
    "Проведена проверка данных в 3 таблицах, были изменены типы данных в некоторых столбцах, дубликатов в значениях не обнаружено"
   ]
  },
  {
   "cell_type": "code",
   "execution_count": 24,
   "metadata": {},
   "outputs": [
    {
     "data": {
      "text/plain": [
       "group    58\n",
       "dtype: int64"
      ]
     },
     "execution_count": 24,
     "metadata": {},
     "output_type": "execute_result"
    }
   ],
   "source": [
    "orders.groupby('visitorId').agg({'group' : 'nunique'}).query('group>1').count()"
   ]
  },
  {
   "cell_type": "code",
   "execution_count": 25,
   "metadata": {},
   "outputs": [
    {
     "data": {
      "text/plain": [
       "1031"
      ]
     },
     "execution_count": 25,
     "metadata": {},
     "output_type": "execute_result"
    }
   ],
   "source": [
    "orders['visitorId'].nunique()"
   ]
  },
  {
   "cell_type": "markdown",
   "metadata": {},
   "source": [
    "<div class=\"alert alert-info\"> <b>\n",
    "В таблице orders 58 пользователей попавших в обе группы, то есть 5,6% от общего числа пользователей. Стоило бы исключить этих пользователей из анализа, но в таблице visitors данные обезличины, поэтому исключить данные не получится"
   ]
  },
  {
   "cell_type": "markdown",
   "metadata": {},
   "source": [
    "### Часть 1. Приоритизация гипотез"
   ]
  },
  {
   "cell_type": "code",
   "execution_count": 26,
   "metadata": {},
   "outputs": [
    {
     "data": {
      "text/html": [
       "<div>\n",
       "<style scoped>\n",
       "    .dataframe tbody tr th:only-of-type {\n",
       "        vertical-align: middle;\n",
       "    }\n",
       "\n",
       "    .dataframe tbody tr th {\n",
       "        vertical-align: top;\n",
       "    }\n",
       "\n",
       "    .dataframe thead th {\n",
       "        text-align: right;\n",
       "    }\n",
       "</style>\n",
       "<table border=\"1\" class=\"dataframe\">\n",
       "  <thead>\n",
       "    <tr style=\"text-align: right;\">\n",
       "      <th></th>\n",
       "      <th>Hypothesis</th>\n",
       "      <th>Reach</th>\n",
       "      <th>Impact</th>\n",
       "      <th>Confidence</th>\n",
       "      <th>Efforts</th>\n",
       "    </tr>\n",
       "  </thead>\n",
       "  <tbody>\n",
       "    <tr>\n",
       "      <th>0</th>\n",
       "      <td>Добавить два новых канала привлечения трафика,...</td>\n",
       "      <td>3</td>\n",
       "      <td>10</td>\n",
       "      <td>8</td>\n",
       "      <td>6</td>\n",
       "    </tr>\n",
       "    <tr>\n",
       "      <th>1</th>\n",
       "      <td>Запустить собственную службу доставки, что сок...</td>\n",
       "      <td>2</td>\n",
       "      <td>5</td>\n",
       "      <td>4</td>\n",
       "      <td>10</td>\n",
       "    </tr>\n",
       "    <tr>\n",
       "      <th>2</th>\n",
       "      <td>Добавить блоки рекомендаций товаров на сайт ин...</td>\n",
       "      <td>8</td>\n",
       "      <td>3</td>\n",
       "      <td>7</td>\n",
       "      <td>3</td>\n",
       "    </tr>\n",
       "    <tr>\n",
       "      <th>3</th>\n",
       "      <td>Изменить структура категорий, что увеличит кон...</td>\n",
       "      <td>8</td>\n",
       "      <td>3</td>\n",
       "      <td>3</td>\n",
       "      <td>8</td>\n",
       "    </tr>\n",
       "    <tr>\n",
       "      <th>4</th>\n",
       "      <td>Изменить цвет фона главной страницы, чтобы уве...</td>\n",
       "      <td>3</td>\n",
       "      <td>1</td>\n",
       "      <td>1</td>\n",
       "      <td>1</td>\n",
       "    </tr>\n",
       "    <tr>\n",
       "      <th>5</th>\n",
       "      <td>Добавить страницу отзывов клиентов о магазине,...</td>\n",
       "      <td>3</td>\n",
       "      <td>2</td>\n",
       "      <td>2</td>\n",
       "      <td>3</td>\n",
       "    </tr>\n",
       "    <tr>\n",
       "      <th>6</th>\n",
       "      <td>Показать на главной странице баннеры с актуаль...</td>\n",
       "      <td>5</td>\n",
       "      <td>3</td>\n",
       "      <td>8</td>\n",
       "      <td>3</td>\n",
       "    </tr>\n",
       "    <tr>\n",
       "      <th>7</th>\n",
       "      <td>Добавить форму подписки на все основные страни...</td>\n",
       "      <td>10</td>\n",
       "      <td>7</td>\n",
       "      <td>8</td>\n",
       "      <td>5</td>\n",
       "    </tr>\n",
       "    <tr>\n",
       "      <th>8</th>\n",
       "      <td>Запустить акцию, дающую скидку на товар в день...</td>\n",
       "      <td>1</td>\n",
       "      <td>9</td>\n",
       "      <td>9</td>\n",
       "      <td>5</td>\n",
       "    </tr>\n",
       "  </tbody>\n",
       "</table>\n",
       "</div>"
      ],
      "text/plain": [
       "                                          Hypothesis  Reach  Impact  \\\n",
       "0  Добавить два новых канала привлечения трафика,...      3      10   \n",
       "1  Запустить собственную службу доставки, что сок...      2       5   \n",
       "2  Добавить блоки рекомендаций товаров на сайт ин...      8       3   \n",
       "3  Изменить структура категорий, что увеличит кон...      8       3   \n",
       "4  Изменить цвет фона главной страницы, чтобы уве...      3       1   \n",
       "5  Добавить страницу отзывов клиентов о магазине,...      3       2   \n",
       "6  Показать на главной странице баннеры с актуаль...      5       3   \n",
       "7  Добавить форму подписки на все основные страни...     10       7   \n",
       "8  Запустить акцию, дающую скидку на товар в день...      1       9   \n",
       "\n",
       "   Confidence  Efforts  \n",
       "0           8        6  \n",
       "1           4       10  \n",
       "2           7        3  \n",
       "3           3        8  \n",
       "4           1        1  \n",
       "5           2        3  \n",
       "6           8        3  \n",
       "7           8        5  \n",
       "8           9        5  "
      ]
     },
     "execution_count": 26,
     "metadata": {},
     "output_type": "execute_result"
    }
   ],
   "source": [
    "hypothesis"
   ]
  },
  {
   "cell_type": "code",
   "execution_count": 27,
   "metadata": {},
   "outputs": [],
   "source": [
    "hypothesis['ICE']= hypothesis['Impact']*hypothesis['Confidence']/hypothesis['Efforts']"
   ]
  },
  {
   "cell_type": "code",
   "execution_count": 28,
   "metadata": {},
   "outputs": [
    {
     "data": {
      "text/html": [
       "<div>\n",
       "<style scoped>\n",
       "    .dataframe tbody tr th:only-of-type {\n",
       "        vertical-align: middle;\n",
       "    }\n",
       "\n",
       "    .dataframe tbody tr th {\n",
       "        vertical-align: top;\n",
       "    }\n",
       "\n",
       "    .dataframe thead th {\n",
       "        text-align: right;\n",
       "    }\n",
       "</style>\n",
       "<table border=\"1\" class=\"dataframe\">\n",
       "  <thead>\n",
       "    <tr style=\"text-align: right;\">\n",
       "      <th></th>\n",
       "      <th>Hypothesis</th>\n",
       "      <th>Reach</th>\n",
       "      <th>Impact</th>\n",
       "      <th>Confidence</th>\n",
       "      <th>Efforts</th>\n",
       "      <th>ICE</th>\n",
       "    </tr>\n",
       "  </thead>\n",
       "  <tbody>\n",
       "    <tr>\n",
       "      <th>8</th>\n",
       "      <td>Запустить акцию, дающую скидку на товар в день...</td>\n",
       "      <td>1</td>\n",
       "      <td>9</td>\n",
       "      <td>9</td>\n",
       "      <td>5</td>\n",
       "      <td>16.200000</td>\n",
       "    </tr>\n",
       "    <tr>\n",
       "      <th>0</th>\n",
       "      <td>Добавить два новых канала привлечения трафика,...</td>\n",
       "      <td>3</td>\n",
       "      <td>10</td>\n",
       "      <td>8</td>\n",
       "      <td>6</td>\n",
       "      <td>13.333333</td>\n",
       "    </tr>\n",
       "    <tr>\n",
       "      <th>7</th>\n",
       "      <td>Добавить форму подписки на все основные страни...</td>\n",
       "      <td>10</td>\n",
       "      <td>7</td>\n",
       "      <td>8</td>\n",
       "      <td>5</td>\n",
       "      <td>11.200000</td>\n",
       "    </tr>\n",
       "    <tr>\n",
       "      <th>6</th>\n",
       "      <td>Показать на главной странице баннеры с актуаль...</td>\n",
       "      <td>5</td>\n",
       "      <td>3</td>\n",
       "      <td>8</td>\n",
       "      <td>3</td>\n",
       "      <td>8.000000</td>\n",
       "    </tr>\n",
       "    <tr>\n",
       "      <th>2</th>\n",
       "      <td>Добавить блоки рекомендаций товаров на сайт ин...</td>\n",
       "      <td>8</td>\n",
       "      <td>3</td>\n",
       "      <td>7</td>\n",
       "      <td>3</td>\n",
       "      <td>7.000000</td>\n",
       "    </tr>\n",
       "    <tr>\n",
       "      <th>1</th>\n",
       "      <td>Запустить собственную службу доставки, что сок...</td>\n",
       "      <td>2</td>\n",
       "      <td>5</td>\n",
       "      <td>4</td>\n",
       "      <td>10</td>\n",
       "      <td>2.000000</td>\n",
       "    </tr>\n",
       "    <tr>\n",
       "      <th>5</th>\n",
       "      <td>Добавить страницу отзывов клиентов о магазине,...</td>\n",
       "      <td>3</td>\n",
       "      <td>2</td>\n",
       "      <td>2</td>\n",
       "      <td>3</td>\n",
       "      <td>1.333333</td>\n",
       "    </tr>\n",
       "    <tr>\n",
       "      <th>3</th>\n",
       "      <td>Изменить структура категорий, что увеличит кон...</td>\n",
       "      <td>8</td>\n",
       "      <td>3</td>\n",
       "      <td>3</td>\n",
       "      <td>8</td>\n",
       "      <td>1.125000</td>\n",
       "    </tr>\n",
       "    <tr>\n",
       "      <th>4</th>\n",
       "      <td>Изменить цвет фона главной страницы, чтобы уве...</td>\n",
       "      <td>3</td>\n",
       "      <td>1</td>\n",
       "      <td>1</td>\n",
       "      <td>1</td>\n",
       "      <td>1.000000</td>\n",
       "    </tr>\n",
       "  </tbody>\n",
       "</table>\n",
       "</div>"
      ],
      "text/plain": [
       "                                          Hypothesis  Reach  Impact  \\\n",
       "8  Запустить акцию, дающую скидку на товар в день...      1       9   \n",
       "0  Добавить два новых канала привлечения трафика,...      3      10   \n",
       "7  Добавить форму подписки на все основные страни...     10       7   \n",
       "6  Показать на главной странице баннеры с актуаль...      5       3   \n",
       "2  Добавить блоки рекомендаций товаров на сайт ин...      8       3   \n",
       "1  Запустить собственную службу доставки, что сок...      2       5   \n",
       "5  Добавить страницу отзывов клиентов о магазине,...      3       2   \n",
       "3  Изменить структура категорий, что увеличит кон...      8       3   \n",
       "4  Изменить цвет фона главной страницы, чтобы уве...      3       1   \n",
       "\n",
       "   Confidence  Efforts        ICE  \n",
       "8           9        5  16.200000  \n",
       "0           8        6  13.333333  \n",
       "7           8        5  11.200000  \n",
       "6           8        3   8.000000  \n",
       "2           7        3   7.000000  \n",
       "1           4       10   2.000000  \n",
       "5           2        3   1.333333  \n",
       "3           3        8   1.125000  \n",
       "4           1        1   1.000000  "
      ]
     },
     "execution_count": 28,
     "metadata": {},
     "output_type": "execute_result"
    }
   ],
   "source": [
    "hypothesis.sort_values(by='ICE', ascending=False)"
   ]
  },
  {
   "cell_type": "code",
   "execution_count": 29,
   "metadata": {},
   "outputs": [],
   "source": [
    "hypothesis['RICE']= hypothesis['Reach']*hypothesis['Impact']*hypothesis['Confidence']/hypothesis['Efforts']"
   ]
  },
  {
   "cell_type": "code",
   "execution_count": 30,
   "metadata": {},
   "outputs": [
    {
     "data": {
      "text/html": [
       "<div>\n",
       "<style scoped>\n",
       "    .dataframe tbody tr th:only-of-type {\n",
       "        vertical-align: middle;\n",
       "    }\n",
       "\n",
       "    .dataframe tbody tr th {\n",
       "        vertical-align: top;\n",
       "    }\n",
       "\n",
       "    .dataframe thead th {\n",
       "        text-align: right;\n",
       "    }\n",
       "</style>\n",
       "<table border=\"1\" class=\"dataframe\">\n",
       "  <thead>\n",
       "    <tr style=\"text-align: right;\">\n",
       "      <th></th>\n",
       "      <th>Hypothesis</th>\n",
       "      <th>Reach</th>\n",
       "      <th>Impact</th>\n",
       "      <th>Confidence</th>\n",
       "      <th>Efforts</th>\n",
       "      <th>ICE</th>\n",
       "      <th>RICE</th>\n",
       "    </tr>\n",
       "  </thead>\n",
       "  <tbody>\n",
       "    <tr>\n",
       "      <th>7</th>\n",
       "      <td>Добавить форму подписки на все основные страни...</td>\n",
       "      <td>10</td>\n",
       "      <td>7</td>\n",
       "      <td>8</td>\n",
       "      <td>5</td>\n",
       "      <td>11.200000</td>\n",
       "      <td>112.0</td>\n",
       "    </tr>\n",
       "    <tr>\n",
       "      <th>2</th>\n",
       "      <td>Добавить блоки рекомендаций товаров на сайт ин...</td>\n",
       "      <td>8</td>\n",
       "      <td>3</td>\n",
       "      <td>7</td>\n",
       "      <td>3</td>\n",
       "      <td>7.000000</td>\n",
       "      <td>56.0</td>\n",
       "    </tr>\n",
       "    <tr>\n",
       "      <th>0</th>\n",
       "      <td>Добавить два новых канала привлечения трафика,...</td>\n",
       "      <td>3</td>\n",
       "      <td>10</td>\n",
       "      <td>8</td>\n",
       "      <td>6</td>\n",
       "      <td>13.333333</td>\n",
       "      <td>40.0</td>\n",
       "    </tr>\n",
       "    <tr>\n",
       "      <th>6</th>\n",
       "      <td>Показать на главной странице баннеры с актуаль...</td>\n",
       "      <td>5</td>\n",
       "      <td>3</td>\n",
       "      <td>8</td>\n",
       "      <td>3</td>\n",
       "      <td>8.000000</td>\n",
       "      <td>40.0</td>\n",
       "    </tr>\n",
       "    <tr>\n",
       "      <th>8</th>\n",
       "      <td>Запустить акцию, дающую скидку на товар в день...</td>\n",
       "      <td>1</td>\n",
       "      <td>9</td>\n",
       "      <td>9</td>\n",
       "      <td>5</td>\n",
       "      <td>16.200000</td>\n",
       "      <td>16.2</td>\n",
       "    </tr>\n",
       "    <tr>\n",
       "      <th>3</th>\n",
       "      <td>Изменить структура категорий, что увеличит кон...</td>\n",
       "      <td>8</td>\n",
       "      <td>3</td>\n",
       "      <td>3</td>\n",
       "      <td>8</td>\n",
       "      <td>1.125000</td>\n",
       "      <td>9.0</td>\n",
       "    </tr>\n",
       "    <tr>\n",
       "      <th>1</th>\n",
       "      <td>Запустить собственную службу доставки, что сок...</td>\n",
       "      <td>2</td>\n",
       "      <td>5</td>\n",
       "      <td>4</td>\n",
       "      <td>10</td>\n",
       "      <td>2.000000</td>\n",
       "      <td>4.0</td>\n",
       "    </tr>\n",
       "    <tr>\n",
       "      <th>5</th>\n",
       "      <td>Добавить страницу отзывов клиентов о магазине,...</td>\n",
       "      <td>3</td>\n",
       "      <td>2</td>\n",
       "      <td>2</td>\n",
       "      <td>3</td>\n",
       "      <td>1.333333</td>\n",
       "      <td>4.0</td>\n",
       "    </tr>\n",
       "    <tr>\n",
       "      <th>4</th>\n",
       "      <td>Изменить цвет фона главной страницы, чтобы уве...</td>\n",
       "      <td>3</td>\n",
       "      <td>1</td>\n",
       "      <td>1</td>\n",
       "      <td>1</td>\n",
       "      <td>1.000000</td>\n",
       "      <td>3.0</td>\n",
       "    </tr>\n",
       "  </tbody>\n",
       "</table>\n",
       "</div>"
      ],
      "text/plain": [
       "                                          Hypothesis  Reach  Impact  \\\n",
       "7  Добавить форму подписки на все основные страни...     10       7   \n",
       "2  Добавить блоки рекомендаций товаров на сайт ин...      8       3   \n",
       "0  Добавить два новых канала привлечения трафика,...      3      10   \n",
       "6  Показать на главной странице баннеры с актуаль...      5       3   \n",
       "8  Запустить акцию, дающую скидку на товар в день...      1       9   \n",
       "3  Изменить структура категорий, что увеличит кон...      8       3   \n",
       "1  Запустить собственную службу доставки, что сок...      2       5   \n",
       "5  Добавить страницу отзывов клиентов о магазине,...      3       2   \n",
       "4  Изменить цвет фона главной страницы, чтобы уве...      3       1   \n",
       "\n",
       "   Confidence  Efforts        ICE   RICE  \n",
       "7           8        5  11.200000  112.0  \n",
       "2           7        3   7.000000   56.0  \n",
       "0           8        6  13.333333   40.0  \n",
       "6           8        3   8.000000   40.0  \n",
       "8           9        5  16.200000   16.2  \n",
       "3           3        8   1.125000    9.0  \n",
       "1           4       10   2.000000    4.0  \n",
       "5           2        3   1.333333    4.0  \n",
       "4           1        1   1.000000    3.0  "
      ]
     },
     "execution_count": 30,
     "metadata": {},
     "output_type": "execute_result"
    }
   ],
   "source": [
    "hypothesis.sort_values(by='RICE', ascending=False)"
   ]
  },
  {
   "cell_type": "markdown",
   "metadata": {},
   "source": [
    "Лидеры таблицы ICE 8, 0, 7\n",
    "а таблицы RICE 7, 2, 0\n",
    "Изменение произошло потому, что в таблице RICE мы учитывали то, насколько изменение затронет текущих пользователей, а в 7 гипотезе Reach максимальный."
   ]
  },
  {
   "cell_type": "markdown",
   "metadata": {},
   "source": [
    "### Часть 2. Анализ A/B-теста"
   ]
  },
  {
   "cell_type": "markdown",
   "metadata": {},
   "source": [
    "#### Построим график кумулятивной выручки по группам"
   ]
  },
  {
   "cell_type": "code",
   "execution_count": 31,
   "metadata": {},
   "outputs": [
    {
     "data": {
      "text/html": [
       "<div>\n",
       "<style scoped>\n",
       "    .dataframe tbody tr th:only-of-type {\n",
       "        vertical-align: middle;\n",
       "    }\n",
       "\n",
       "    .dataframe tbody tr th {\n",
       "        vertical-align: top;\n",
       "    }\n",
       "\n",
       "    .dataframe thead th {\n",
       "        text-align: right;\n",
       "    }\n",
       "</style>\n",
       "<table border=\"1\" class=\"dataframe\">\n",
       "  <thead>\n",
       "    <tr style=\"text-align: right;\">\n",
       "      <th></th>\n",
       "      <th>transactionId</th>\n",
       "      <th>visitorId</th>\n",
       "      <th>date</th>\n",
       "      <th>revenue</th>\n",
       "      <th>group</th>\n",
       "    </tr>\n",
       "  </thead>\n",
       "  <tbody>\n",
       "    <tr>\n",
       "      <th>0</th>\n",
       "      <td>3667963787</td>\n",
       "      <td>3312258926</td>\n",
       "      <td>2019-08-15</td>\n",
       "      <td>1650</td>\n",
       "      <td>B</td>\n",
       "    </tr>\n",
       "    <tr>\n",
       "      <th>1</th>\n",
       "      <td>2804400009</td>\n",
       "      <td>3642806036</td>\n",
       "      <td>2019-08-15</td>\n",
       "      <td>730</td>\n",
       "      <td>B</td>\n",
       "    </tr>\n",
       "    <tr>\n",
       "      <th>2</th>\n",
       "      <td>2961555356</td>\n",
       "      <td>4069496402</td>\n",
       "      <td>2019-08-15</td>\n",
       "      <td>400</td>\n",
       "      <td>A</td>\n",
       "    </tr>\n",
       "    <tr>\n",
       "      <th>3</th>\n",
       "      <td>3797467345</td>\n",
       "      <td>1196621759</td>\n",
       "      <td>2019-08-15</td>\n",
       "      <td>9759</td>\n",
       "      <td>B</td>\n",
       "    </tr>\n",
       "    <tr>\n",
       "      <th>4</th>\n",
       "      <td>2282983706</td>\n",
       "      <td>2322279887</td>\n",
       "      <td>2019-08-15</td>\n",
       "      <td>2308</td>\n",
       "      <td>B</td>\n",
       "    </tr>\n",
       "    <tr>\n",
       "      <th>...</th>\n",
       "      <td>...</td>\n",
       "      <td>...</td>\n",
       "      <td>...</td>\n",
       "      <td>...</td>\n",
       "      <td>...</td>\n",
       "    </tr>\n",
       "    <tr>\n",
       "      <th>1192</th>\n",
       "      <td>2662137336</td>\n",
       "      <td>3733762160</td>\n",
       "      <td>2019-08-14</td>\n",
       "      <td>6490</td>\n",
       "      <td>B</td>\n",
       "    </tr>\n",
       "    <tr>\n",
       "      <th>1193</th>\n",
       "      <td>2203539145</td>\n",
       "      <td>370388673</td>\n",
       "      <td>2019-08-14</td>\n",
       "      <td>3190</td>\n",
       "      <td>A</td>\n",
       "    </tr>\n",
       "    <tr>\n",
       "      <th>1194</th>\n",
       "      <td>1807773912</td>\n",
       "      <td>573423106</td>\n",
       "      <td>2019-08-14</td>\n",
       "      <td>10550</td>\n",
       "      <td>A</td>\n",
       "    </tr>\n",
       "    <tr>\n",
       "      <th>1195</th>\n",
       "      <td>1947021204</td>\n",
       "      <td>1614305549</td>\n",
       "      <td>2019-08-14</td>\n",
       "      <td>100</td>\n",
       "      <td>A</td>\n",
       "    </tr>\n",
       "    <tr>\n",
       "      <th>1196</th>\n",
       "      <td>3936777065</td>\n",
       "      <td>2108080724</td>\n",
       "      <td>2019-08-15</td>\n",
       "      <td>202740</td>\n",
       "      <td>B</td>\n",
       "    </tr>\n",
       "  </tbody>\n",
       "</table>\n",
       "<p>1197 rows × 5 columns</p>\n",
       "</div>"
      ],
      "text/plain": [
       "      transactionId   visitorId       date  revenue group\n",
       "0        3667963787  3312258926 2019-08-15     1650     B\n",
       "1        2804400009  3642806036 2019-08-15      730     B\n",
       "2        2961555356  4069496402 2019-08-15      400     A\n",
       "3        3797467345  1196621759 2019-08-15     9759     B\n",
       "4        2282983706  2322279887 2019-08-15     2308     B\n",
       "...             ...         ...        ...      ...   ...\n",
       "1192     2662137336  3733762160 2019-08-14     6490     B\n",
       "1193     2203539145   370388673 2019-08-14     3190     A\n",
       "1194     1807773912   573423106 2019-08-14    10550     A\n",
       "1195     1947021204  1614305549 2019-08-14      100     A\n",
       "1196     3936777065  2108080724 2019-08-15   202740     B\n",
       "\n",
       "[1197 rows x 5 columns]"
      ]
     },
     "execution_count": 31,
     "metadata": {},
     "output_type": "execute_result"
    }
   ],
   "source": [
    "orders"
   ]
  },
  {
   "cell_type": "code",
   "execution_count": 32,
   "metadata": {},
   "outputs": [
    {
     "name": "stdout",
     "output_type": "stream",
     "text": [
      "        date group  orders  buyers  revenue  visitors\n",
      "0 2019-08-01     A      24      20   148579       719\n",
      "1 2019-08-01     B      21      20   101217       713\n",
      "2 2019-08-02     A      44      38   242401      1338\n",
      "3 2019-08-02     B      45      43   266748      1294\n",
      "4 2019-08-03     A      68      62   354874      1845\n"
     ]
    }
   ],
   "source": [
    "# создаем массив уникальных пар значений дат и групп теста\n",
    "datesGroups = orders[['date','group']].drop_duplicates()\n",
    "\n",
    "# получаем агрегированные кумулятивные по дням данные о заказах \n",
    "ordersAggregated = datesGroups.apply(lambda x: orders[np.logical_and(orders['date'] <= x['date'], orders['group'] == x['group'])].agg({'date' : 'max', 'group' : 'max', 'transactionId' : 'nunique', 'visitorId' : 'nunique', 'revenue' : 'sum'}), axis=1).sort_values(by=['date','group'])\n",
    "\n",
    "# получаем агрегированные кумулятивные по дням данные о посетителях интернет-магазина \n",
    "visitorsAggregated = datesGroups.apply(lambda x: visitors[np.logical_and(visitors['date'] <= x['date'], visitors['group'] == x['group'])].agg({'date' : 'max', 'group' : 'max', 'visitors' : 'sum'}), axis=1).sort_values(by=['date','group'])\n",
    "\n",
    "# объединяем кумулятивные данные в одной таблице и присваиваем ее столбцам понятные названия\n",
    "cumulativeData = ordersAggregated.merge(visitorsAggregated, left_on=['date', 'group'], right_on=['date', 'group'])\n",
    "cumulativeData.columns = ['date', 'group', 'orders', 'buyers', 'revenue', 'visitors']\n",
    "\n",
    "print(cumulativeData.head(5))"
   ]
  },
  {
   "cell_type": "code",
   "execution_count": 33,
   "metadata": {},
   "outputs": [
    {
     "data": {
      "image/png": "[encoded data removed]",
      "text/plain": [
       "<Figure size 1080x360 with 1 Axes>"
      ]
     },
     "metadata": {
      "needs_background": "light"
     },
     "output_type": "display_data"
    }
   ],
   "source": [
    "plt.figure(figsize=(15,5))\n",
    "# датафрейм с кумулятивным количеством заказов и кумулятивной выручкой по дням в группе А\n",
    "cumulativeRevenueA = cumulativeData[cumulativeData['group']=='A'][['date','revenue', 'orders']]\n",
    "\n",
    "# датафрейм с кумулятивным количеством заказов и кумулятивной выручкой по дням в группе B\n",
    "cumulativeRevenueB = cumulativeData[cumulativeData['group']=='B'][['date','revenue', 'orders']]\n",
    "\n",
    "# Строим график выручки группы А\n",
    "plt.plot(cumulativeRevenueA['date'], cumulativeRevenueA['revenue'], label='A')\n",
    "\n",
    "# Строим график выручки группы B\n",
    "plt.plot(cumulativeRevenueB['date'], cumulativeRevenueB['revenue'], label='B')\n",
    "\n",
    "plt.legend() \n",
    "plt.title('Кумулятивная выручка')\n",
    "plt.show()"
   ]
  },
  {
   "cell_type": "markdown",
   "metadata": {},
   "source": [
    "Выручка почти равномерно увеличивается в течение всего теста, однако видно, что в группе В она значительно выше"
   ]
  },
  {
   "cell_type": "markdown",
   "metadata": {},
   "source": [
    "#### Построим график кумулятивного среднего чека по группам"
   ]
  },
  {
   "cell_type": "code",
   "execution_count": 34,
   "metadata": {},
   "outputs": [
    {
     "data": {
      "image/png": "[encoded data removed]",
      "text/plain": [
       "<Figure size 1080x360 with 1 Axes>"
      ]
     },
     "metadata": {
      "needs_background": "light"
     },
     "output_type": "display_data"
    }
   ],
   "source": [
    "plt.figure(figsize=(15,5))\n",
    "plt.plot(cumulativeRevenueA['date'], cumulativeRevenueA['revenue']/cumulativeRevenueA['orders'], label='A')\n",
    "plt.plot(cumulativeRevenueB['date'], cumulativeRevenueB['revenue']/cumulativeRevenueB['orders'], label='B')\n",
    "plt.legend()\n",
    "plt.title('Кумулятивный средний чек')\n",
    "plt.show()"
   ]
  },
  {
   "cell_type": "markdown",
   "metadata": {},
   "source": [
    "Заметно, что с самого начала средний чек в группе В растет быстрее чем в группе А, также заметен резкий всплеск на графике значения группы В 19 числа, что может быть связано с анамально крупными заказами"
   ]
  },
  {
   "cell_type": "markdown",
   "metadata": {},
   "source": [
    "#### Построим график относительного изменения кумулятивного среднего чека группы B к группе A"
   ]
  },
  {
   "cell_type": "code",
   "execution_count": 35,
   "metadata": {},
   "outputs": [
    {
     "data": {
      "image/png": "[encoded data removed]",
      "text/plain": [
       "<Figure size 1080x360 with 1 Axes>"
      ]
     },
     "metadata": {
      "needs_background": "light"
     },
     "output_type": "display_data"
    }
   ],
   "source": [
    "plt.figure(figsize=(15,5))\n",
    "# собираем данные в одном датафрейме\n",
    "mergedCumulativeRevenue = cumulativeRevenueA.merge(cumulativeRevenueB, left_on='date', right_on='date', how='left', suffixes=['A', 'B'])\n",
    "\n",
    "# cтроим отношение средних чеков\n",
    "plt.plot(mergedCumulativeRevenue['date'], (mergedCumulativeRevenue['revenueB']/mergedCumulativeRevenue['ordersB'])/(mergedCumulativeRevenue['revenueA']/mergedCumulativeRevenue['ordersA'])-1)\n",
    "\n",
    "# добавляем ось X\n",
    "plt.axhline(y=0, color='black', linestyle='--')\n",
    "\n",
    "plt.title('Относительное изменение кумулятивного среднего чека группы B к группе A')\n",
    "plt.show()"
   ]
  },
  {
   "cell_type": "markdown",
   "metadata": {},
   "source": [
    "В нескольких точках график различия между сегментами резко «скачет». Это означает что в группы попали крупные заказы и выбросы!"
   ]
  },
  {
   "cell_type": "markdown",
   "metadata": {},
   "source": [
    "#### Построим график кумулятивного среднего количества заказов на посетителя по группам"
   ]
  },
  {
   "cell_type": "code",
   "execution_count": 37,
   "metadata": {},
   "outputs": [
    {
     "data": {
      "image/png": "[encoded data removed]",
      "text/plain": [
       "<Figure size 1080x360 with 1 Axes>"
      ]
     },
     "metadata": {
      "needs_background": "light"
     },
     "output_type": "display_data"
    }
   ],
   "source": [
    "plt.figure(figsize=(15,5))\n",
    "# считаем кумулятивную конверсию\n",
    "cumulativeData['conversion'] = cumulativeData['orders']/cumulativeData['visitors']\n",
    "\n",
    "# отделяем данные по группе A\n",
    "cumulativeDataA = cumulativeData[cumulativeData['group']=='A']\n",
    "\n",
    "# отделяем данные по группе B\n",
    "cumulativeDataB = cumulativeData[cumulativeData['group']=='B']\n",
    "\n",
    "# строим графики\n",
    "plt.plot(cumulativeDataA['date'], cumulativeDataA['conversion'], label='A')\n",
    "plt.plot(cumulativeDataB['date'], cumulativeDataB['conversion'], label='B')\n",
    "plt.legend()\n",
    "plt.title('Кумулятивная конверсия')\n",
    "plt.show()\n",
    "\n"
   ]
  },
  {
   "cell_type": "markdown",
   "metadata": {},
   "source": [
    "В начале периода конверсия группы А была выше, однако после 6 числа конверсия группы В вырвалась вперед и зафиксировалась"
   ]
  },
  {
   "cell_type": "markdown",
   "metadata": {},
   "source": [
    "#### Построим график относительного изменения кумулятивного среднего количества заказов на посетителя группы B к группе A"
   ]
  },
  {
   "cell_type": "code",
   "execution_count": null,
   "metadata": {},
   "outputs": [],
   "source": [
    "plt.figure(figsize=(15,5))\n",
    "mergedCumulativeConversions = cumulativeDataA[['date','conversion']].merge(cumulativeDataB[['date','conversion']], left_on='date', right_on='date', how='left', suffixes=['A', 'B'])\n",
    "\n",
    "plt.plot(mergedCumulativeConversions['date'], mergedCumulativeConversions['conversionB']/mergedCumulativeConversions['conversionA']-1, label=\"Относительный прирост конверсии группы B относительно группы A\")\n",
    "plt.legend()\n",
    "\n",
    "plt.axhline(y=0, color='black', linestyle='--')\n",
    "plt.axhline(y=-0.1, color='grey', linestyle='--')\n",
    "plt.title('Относительное изменение кумулятивной конверсии группы B к группе A')\n",
    "plt.show()"
   ]
  },
  {
   "cell_type": "markdown",
   "metadata": {},
   "source": [
    "В начале теста группа B значительно проигрывала группе A, затем вырвалась вперёд"
   ]
  },
  {
   "cell_type": "markdown",
   "metadata": {},
   "source": [
    "#### Построим точечный график количества заказов по пользователям. Сделайте выводы и предположения"
   ]
  },
  {
   "cell_type": "code",
   "execution_count": null,
   "metadata": {},
   "outputs": [],
   "source": [
    "ordersByUsers = (\n",
    "    orders.groupby('visitorId', as_index=False)\n",
    "    .agg({'transactionId': 'nunique'})\n",
    ")\n",
    "\n",
    "ordersByUsers.columns = ['userId', 'orders']"
   ]
  },
  {
   "cell_type": "code",
   "execution_count": null,
   "metadata": {},
   "outputs": [],
   "source": [
    "x_values = pd.Series(range(0,len(ordersByUsers)))\n",
    "\n",
    "plt.scatter(x_values, ordersByUsers['orders']) \n",
    "plt.title('График количества заказов по пользователям')\n",
    "plt.show()"
   ]
  },
  {
   "cell_type": "markdown",
   "metadata": {},
   "source": [
    "Больше всего пользователей совершивших 1 заказ, далее этот показатель идет по нисходящей, для определения вбросов расчитаем процентили "
   ]
  },
  {
   "cell_type": "markdown",
   "metadata": {},
   "source": [
    "#### Посчитаем 95-й и 99-й перцентили количества заказов на пользователя. Выберим границу для определения аномальных пользователей"
   ]
  },
  {
   "cell_type": "code",
   "execution_count": null,
   "metadata": {},
   "outputs": [],
   "source": [
    "print(np.percentile(ordersByUsers['orders'], [95, 99])) "
   ]
  },
  {
   "cell_type": "markdown",
   "metadata": {},
   "source": [
    "95% пользователей совершают до 2 заказов, а 99% пользователей совершают до 4 заказов"
   ]
  },
  {
   "cell_type": "markdown",
   "metadata": {},
   "source": [
    "#### Построим точечный график стоимостей заказов"
   ]
  },
  {
   "cell_type": "code",
   "execution_count": null,
   "metadata": {},
   "outputs": [],
   "source": [
    "x_values = pd.Series(range(0,len(orders['revenue'])))\n",
    "plt.scatter(x_values, orders['revenue']) \n",
    "plt.title('График стоимостей заказов')\n",
    "plt.show()"
   ]
  },
  {
   "cell_type": "markdown",
   "metadata": {},
   "source": [
    "из-за вброса в цене заказа плохо видно основную грумму, поэтому построим более наглядный график"
   ]
  },
  {
   "cell_type": "code",
   "execution_count": null,
   "metadata": {},
   "outputs": [],
   "source": [
    "orders_clear = orders[orders['revenue']<=195000]['revenue']\n",
    "xy_values = pd.Series(range(0,len(orders_clear)))\n",
    "plt.scatter(xy_values, orders_clear) \n",
    "plt.title('Очищенный график стоимостей заказов')\n",
    "plt.show()"
   ]
  },
  {
   "cell_type": "markdown",
   "metadata": {},
   "source": [
    "На первый взгляд большенство заказов не превышает 20000, но для более точных расчетов рассчитаем процентили"
   ]
  },
  {
   "cell_type": "markdown",
   "metadata": {},
   "source": [
    "#### Посчитаем 95-й и 99-й перцентили стоимости заказов. Выберим границу для определения аномальных заказов."
   ]
  },
  {
   "cell_type": "code",
   "execution_count": null,
   "metadata": {},
   "outputs": [],
   "source": [
    "print(np.percentile(orders['revenue'], [95, 99])) "
   ]
  },
  {
   "cell_type": "markdown",
   "metadata": {},
   "source": [
    "Лишь 5% покупателей платили больше 28000, и лишь 1% больше 58223"
   ]
  },
  {
   "cell_type": "markdown",
   "metadata": {},
   "source": [
    "<div class=\"alert alert-info\"> <b>\n",
    "Таким образом, определим следующие границы для дальнейшего анализа исключив аномальные данные:\n",
    "    \n",
    "- верхняя граница количества заказов на одного пользователя - до 2-х заказов включительно;\n",
    "    \n",
    "- верхняя граница стоимости одного заказа - до 28000."
   ]
  },
  {
   "cell_type": "markdown",
   "metadata": {},
   "source": [
    "#### Посчитаем статистическую значимость различий в среднем количестве заказов на посетителя между группами по «сырым» данным"
   ]
  },
  {
   "cell_type": "markdown",
   "metadata": {},
   "source": [
    "<div class=\"alert alert-info\"> <b>\n",
    "Посчитаем статистическую значимость различий в среднем числе заказов на пользователя и среднем чеке между группами по «сырым» данным — без удаления аномальных пользователей.\n",
    "Сформулируем гипотезы. Нулевая: различий в среднем количестве заказов между группами нет. Альтернативная: различия в среднем между группами есть."
   ]
  },
  {
   "cell_type": "code",
   "execution_count": null,
   "metadata": {},
   "outputs": [],
   "source": [
    "visitorsADaily = visitors[visitors['group'] == 'A'][['date', 'visitors']]\n",
    "visitorsADaily.columns = ['date', 'visitorsPerDateA']\n",
    "\n",
    "visitorsACummulative = visitorsADaily.apply(\n",
    "    lambda x: visitorsADaily[visitorsADaily['date'] <= x['date']].agg(\n",
    "        {'date': 'max', 'visitorsPerDateA': 'sum'}\n",
    "    ),\n",
    "    axis=1,\n",
    ")\n",
    "visitorsACummulative.columns = ['date', 'visitorsCummulativeA']\n",
    "\n",
    "visitorsBDaily = visitors[visitors['group'] == 'B'][['date', 'visitors']]\n",
    "visitorsBDaily.columns = ['date', 'visitorsPerDateB']\n",
    "\n",
    "visitorsBCummulative = visitorsBDaily.apply(\n",
    "    lambda x: visitorsBDaily[visitorsBDaily['date'] <= x['date']].agg(\n",
    "        {'date': 'max', 'visitorsPerDateB': 'sum'}\n",
    "    ),\n",
    "    axis=1,\n",
    ")\n",
    "visitorsBCummulative.columns = ['date', 'visitorsCummulativeB']\n",
    "\n",
    "ordersADaily = (\n",
    "    orders[orders['group'] == 'A'][['date', 'transactionId', 'visitorId', 'revenue']]\n",
    "    .groupby('date', as_index=False)\n",
    "    .agg({'transactionId': pd.Series.nunique, 'revenue': 'sum'})\n",
    ")\n",
    "ordersADaily.columns = ['date', 'ordersPerDateA', 'revenuePerDateA']\n",
    "\n",
    "ordersACummulative = ordersADaily.apply(\n",
    "    lambda x: ordersADaily[ordersADaily['date'] <= x['date']].agg(\n",
    "        {'date': 'max', 'ordersPerDateA': 'sum', 'revenuePerDateA': 'sum'}\n",
    "    ),\n",
    "    axis=1,\n",
    ").sort_values(by=['date'])\n",
    "ordersACummulative.columns = [\n",
    "    'date',\n",
    "    'ordersCummulativeA',\n",
    "    'revenueCummulativeA',\n",
    "]\n",
    "\n",
    "ordersBDaily = (\n",
    "    orders[orders['group'] == 'B'][['date', 'transactionId', 'visitorId', 'revenue']]\n",
    "    .groupby('date', as_index=False)\n",
    "    .agg({'transactionId': pd.Series.nunique, 'revenue': 'sum'})\n",
    ")\n",
    "ordersBDaily.columns = ['date', 'ordersPerDateB', 'revenuePerDateB']\n",
    "\n",
    "ordersBCummulative = ordersBDaily.apply(\n",
    "    lambda x: ordersBDaily[ordersBDaily['date'] <= x['date']].agg(\n",
    "        {'date': 'max', 'ordersPerDateB': 'sum', 'revenuePerDateB': 'sum'}\n",
    "    ),\n",
    "    axis=1,\n",
    ").sort_values(by=['date'])\n",
    "ordersBCummulative.columns = [\n",
    "    'date',\n",
    "    'ordersCummulativeB',\n",
    "    'revenueCummulativeB',\n",
    "]\n",
    "\n",
    "data = (\n",
    "    ordersADaily.merge(\n",
    "        ordersBDaily, left_on='date', right_on='date', how='left'\n",
    "    )\n",
    "    .merge(ordersACummulative, left_on='date', right_on='date', how='left')\n",
    "    .merge(ordersBCummulative, left_on='date', right_on='date', how='left')\n",
    "    .merge(visitorsADaily, left_on='date', right_on='date', how='left')\n",
    "    .merge(visitorsBDaily, left_on='date', right_on='date', how='left')\n",
    "    .merge(visitorsACummulative, left_on='date', right_on='date', how='left')\n",
    "    .merge(visitorsBCummulative, left_on='date', right_on='date', how='left')\n",
    ")\n",
    "\n",
    "print(data.head(5)) "
   ]
  },
  {
   "cell_type": "code",
   "execution_count": null,
   "metadata": {},
   "outputs": [],
   "source": [
    "ordersByUsersA = (\n",
    "    orders[orders['group'] == 'A']\n",
    "    .groupby('visitorId', as_index=False)\n",
    "    .agg({'transactionId': pd.Series.nunique})\n",
    ")\n",
    "ordersByUsersA.columns = ['visitorId', 'orders']\n",
    "\n",
    "ordersByUsersB = (\n",
    "    orders[orders['group'] == 'B']\n",
    "    .groupby('visitorId', as_index=False)\n",
    "    .agg({'transactionId': pd.Series.nunique})\n",
    ")\n",
    "ordersByUsersB.columns = ['visitorId', 'orders']"
   ]
  },
  {
   "cell_type": "code",
   "execution_count": null,
   "metadata": {},
   "outputs": [],
   "source": [
    "ordersByUsersA = (\n",
    "    orders[orders['group'] == 'A']\n",
    "    .groupby('visitorId', as_index=False)\n",
    "    .agg({'transactionId': pd.Series.nunique})\n",
    ")\n",
    "ordersByUsersA.columns = ['visitorId', 'orders']\n",
    "\n",
    "ordersByUsersB = (\n",
    "    orders[orders['group'] == 'B']\n",
    "    .groupby('visitorId', as_index=False)\n",
    "    .agg({'transactionId': pd.Series.nunique})\n",
    ")\n",
    "ordersByUsersB.columns = ['visitorId', 'orders']\n",
    "\n",
    "sampleA = pd.concat(\n",
    "    [\n",
    "        ordersByUsersA['orders'],\n",
    "        pd.Series(\n",
    "            0,\n",
    "            index=np.arange(\n",
    "                data['visitorsPerDateA'].sum() - len(ordersByUsersA['orders'])\n",
    "            ),\n",
    "            name='orders',\n",
    "        ),\n",
    "    ],\n",
    "    axis=0,\n",
    ")\n",
    "\n",
    "sampleB = pd.concat(\n",
    "    [\n",
    "        ordersByUsersB['orders'],\n",
    "        pd.Series(\n",
    "            0,\n",
    "            index=np.arange(\n",
    "                data['visitorsPerDateB'].sum() - len(ordersByUsersB['orders'])\n",
    "            ),\n",
    "            name='orders',\n",
    "        ),\n",
    "    ],\n",
    "    axis=0,\n",
    ")\n",
    "\n",
    "print(\"{0:.3f}\".format(stats.mannwhitneyu(sampleA, sampleB)[1]))\n",
    "\n",
    "print(\"{0:.3f}\".format(sampleB.mean() / sampleA.mean() - 1))"
   ]
  },
  {
   "cell_type": "markdown",
   "metadata": {},
   "source": [
    "P-value меньше 0.05. Значит, нулевую гипотезу, о том, что статистически значимых различий в конверсии двух групп нет, отвергаем. То есть есть разница в конверсии двух групп, а относительный выйгрыш группы В над группой А состовляет 13,8%"
   ]
  },
  {
   "cell_type": "markdown",
   "metadata": {},
   "source": [
    "#### Посчитаем статистическую значимость различий в среднем чеке заказа между группами по «сырым» данным"
   ]
  },
  {
   "cell_type": "markdown",
   "metadata": {},
   "source": [
    "<div class=\"alert alert-info\"> <b>\n",
    "Далее проверим статистическую значимость различий в среднем чеке между группами. Нулевая гипотеза: различий в среднем чеке между группами нет. Альтернативная гипотеза: различия в среднем чеке между группами есть. "
   ]
  },
  {
   "cell_type": "code",
   "execution_count": null,
   "metadata": {},
   "outputs": [],
   "source": [
    "print('{0:.3f}'.format(stats.mannwhitneyu(orders[orders['group']=='A']['revenue'], orders[orders['group']=='B']['revenue'])[1]))\n",
    "print('{0:.3f}'.format(orders[orders['group']=='B']['revenue'].mean()/orders[orders['group']=='A']['revenue'].mean()-1))"
   ]
  },
  {
   "cell_type": "markdown",
   "metadata": {},
   "source": [
    "P-value больше 0.05. Значит, нулевую гипотезу о том, что статистически значимых различий в среднем чеке двух групп нет отвергать нет оснований. Но при этом разница в среднем чеке  группы В над группой А состовляет 25,9%"
   ]
  },
  {
   "cell_type": "markdown",
   "metadata": {},
   "source": [
    "#### Посчитаем статистическую значимость различий в среднем количестве заказов на посетителя между группами по «очищенным» данным"
   ]
  },
  {
   "cell_type": "markdown",
   "metadata": {},
   "source": [
    "Очистим данные от вбросов, и будем придерживаться большенства в 95% пользователей, где количество заказов будет не больше 2, а сумма заказов не больше 28000"
   ]
  },
  {
   "cell_type": "code",
   "execution_count": null,
   "metadata": {},
   "outputs": [],
   "source": [
    "usersWithManyOrders = pd.concat(\n",
    "    [\n",
    "        ordersByUsersA[ordersByUsersA['orders'] > 2]['visitorId'],\n",
    "        ordersByUsersB[ordersByUsersB['orders'] > 2]['visitorId'],\n",
    "    ],\n",
    "    axis=0,\n",
    ")\n",
    "usersWithExpensiveOrders = orders[orders['revenue'] > 28000]['visitorId']\n",
    "abnormalUsers = (\n",
    "    pd.concat([usersWithManyOrders, usersWithExpensiveOrders], axis=0)\n",
    "    .drop_duplicates()\n",
    "    .sort_values()\n",
    ")\n",
    "print(abnormalUsers.head(5))\n",
    "print(abnormalUsers.shape[0])"
   ]
  },
  {
   "cell_type": "markdown",
   "metadata": {},
   "source": [
    "Всего 74 аномальных пользователей. Узнаем, как их действия повлияли на результаты теста. Посчитаем статистическую значимость различий в среднем количестве заказов между группами теста по очищенным данным"
   ]
  },
  {
   "cell_type": "code",
   "execution_count": null,
   "metadata": {},
   "outputs": [],
   "source": [
    "sampleAFiltered = pd.concat(\n",
    "    [\n",
    "        ordersByUsersA[\n",
    "            np.logical_not(ordersByUsersA['visitorId'].isin(abnormalUsers))\n",
    "        ]['orders'],\n",
    "        pd.Series(\n",
    "            0,\n",
    "            index=np.arange(\n",
    "                data['visitorsPerDateA'].sum() - len(ordersByUsersA['orders'])\n",
    "            ),\n",
    "            name='orders',\n",
    "        ),\n",
    "    ],\n",
    "    axis=0,\n",
    ")\n",
    "\n",
    "sampleBFiltered = pd.concat(\n",
    "    [\n",
    "        ordersByUsersB[\n",
    "            np.logical_not(ordersByUsersB['visitorId'].isin(abnormalUsers))\n",
    "        ]['orders'],\n",
    "        pd.Series(\n",
    "            0,\n",
    "            index=np.arange(\n",
    "                data['visitorsPerDateB'].sum() - len(ordersByUsersB['orders'])\n",
    "            ),\n",
    "            name='orders',\n",
    "        ),\n",
    "    ],\n",
    "    axis=0,\n",
    ")"
   ]
  },
  {
   "cell_type": "code",
   "execution_count": null,
   "metadata": {},
   "outputs": [],
   "source": [
    "print('{0:.3f}'.format(stats.mannwhitneyu(sampleAFiltered, sampleBFiltered)[1]))\n",
    "print('{0:.3f}'.format(sampleBFiltered.mean()/sampleAFiltered.mean()-1))"
   ]
  },
  {
   "cell_type": "markdown",
   "metadata": {},
   "source": [
    "После того как были исключены аномальные значения получили следующие результаты:\n",
    "\n",
    "- отвергаем гипотезу о равенстве конверсии двух групп;\n",
    "\n",
    "- относительный выйгрыш группы В над группой А вырос с 13,8% до 17,3%\n",
    "\n",
    "Далее проверим изменилось ли что-нибудь с результатами по среднему чеку."
   ]
  },
  {
   "cell_type": "markdown",
   "metadata": {},
   "source": [
    "#### Посчитаем статистическую значимость различий в среднем чеке заказа между группами по «очищенным» данным"
   ]
  },
  {
   "cell_type": "code",
   "execution_count": null,
   "metadata": {},
   "outputs": [],
   "source": [
    "print(\n",
    "    '{0:.3f}'.format(\n",
    "        stats.mannwhitneyu(\n",
    "            orders[\n",
    "                np.logical_and(\n",
    "                    orders['group'] == 'A',\n",
    "                    np.logical_not(orders['visitorId'].isin(abnormalUsers)),\n",
    "                )\n",
    "            ]['revenue'],\n",
    "            orders[\n",
    "                np.logical_and(\n",
    "                    orders['group'] == 'B',\n",
    "                    np.logical_not(orders['visitorId'].isin(abnormalUsers)),\n",
    "                )\n",
    "            ]['revenue'],\n",
    "        )[1]\n",
    "    )\n",
    ")\n",
    "\n",
    "print(\n",
    "    \"{0:.3f}\".format(\n",
    "        orders[\n",
    "            np.logical_and(\n",
    "                orders['group'] == 'B',\n",
    "                np.logical_not(orders['visitorId'].isin(abnormalUsers)),\n",
    "            )\n",
    "        ]['revenue'].mean()\n",
    "        / orders[\n",
    "            np.logical_and(\n",
    "                orders['group'] == 'A',\n",
    "                np.logical_not(orders['visitorId'].isin(abnormalUsers)),\n",
    "            )\n",
    "        ]['revenue'].mean()\n",
    "        - 1\n",
    "    )\n",
    ")"
   ]
  },
  {
   "cell_type": "markdown",
   "metadata": {},
   "source": [
    "После того как были исключены аномальные значения получили следующие результаты:\n",
    "\n",
    "- гипотеза о том, что различий в среднем чеке между группами нет подтвердилась;\n",
    "\n",
    "- в очищенных данных средний чек группы В оказался на 2% ниже группы А (ранее средний чек группы В был выше группы А на 26%).\n"
   ]
  },
  {
   "cell_type": "markdown",
   "metadata": {},
   "source": [
    "#### Решение по результатам теста\n",
    "В результате эксперемента было выявленно, что существует значительная разница в конверсии между группами, в группе В она выше на 17,3%. Также было выявленно что по очищенным данным средний чек группы В ниже на 2%. \n",
    "Таким образом, мы делаем вывод, что тест необходимо остановить и зафиксировать победу группы В из-за значительной разницы в конверсии группы В.\n"
   ]
  },
  {
   "cell_type": "markdown",
   "metadata": {},
   "source": [
    "### Вывод"
   ]
  },
  {
   "cell_type": "markdown",
   "metadata": {},
   "source": [
    " В результате выполненного анализа данных мы приходим к следующим выводам:\n",
    " \n",
    " - Данные были собраны корректно, дубликатов не было обнаружено\n",
    " \n",
    " - Анализ гипотез показал, что лидеры таблицы ICE 8, 0, 7 а таблицы RICE 7, 2, 0. Изменение мест гипотез произошел потому, что в таблице RICE мы учитывали то, насколько изменение затронет текущих пользователей, а в 7 гипотезе Reach максимальный, поэтому она и является самой приоритетной\n",
    " \n",
    " - Были проанализированны результаты А/В теста, и обнаруженно следующее:\n",
    " Выручка почти равномерно увеличивается в течение всего теста, однако видно, что в группе В она значительно выше;\n",
    " С самого начала средний чек в группе В растет быстрее чем в группе А, также есть резкий всплеск на графике значения группы В 19 числа, что может быть связано с анамально крупными заказами;\n",
    " В начале периода конверсия группы А была выше, однако после 6 числа конверсия группы В вырвалась вперед и зафиксировалась;\n",
    " 95% пользователей совершают до 2 заказов, а 99% пользователей совершают до 4 заказов;\n",
    " Лишь 5% покупателей платили больше 28000, и лишь 1% больше 58223;\n",
    " И в результате эксперемента было выявленно, что существует значительная разница в конверсии между группами, в группе В она выше на 17,3%. Также было выявленно что по очищенным данным средний чек группы В ниже на 2%. Таким образом, мы делаем вывод, что тест необходимо остановить и зафиксировать победу группы В из-за значительной разницы в конверсии группы В."
   ]
  }
 ],
 "metadata": {
  "ExecuteTimeLog": [
   {
    "duration": 1359,
    "start_time": "2023-01-24T12:40:07.874Z"
   },
   {
    "duration": 302,
    "start_time": "2023-01-24T14:02:55.880Z"
   },
   {
    "duration": 12,
    "start_time": "2023-01-24T14:03:14.709Z"
   },
   {
    "duration": 13,
    "start_time": "2023-01-24T14:03:36.297Z"
   },
   {
    "duration": 12,
    "start_time": "2023-01-24T14:03:46.245Z"
   },
   {
    "duration": 11,
    "start_time": "2023-01-24T14:37:32.100Z"
   },
   {
    "duration": 13,
    "start_time": "2023-01-24T14:38:25.442Z"
   },
   {
    "duration": 12,
    "start_time": "2023-01-24T14:54:35.256Z"
   },
   {
    "duration": 1211,
    "start_time": "2023-01-24T15:43:24.267Z"
   },
   {
    "duration": 291,
    "start_time": "2023-01-24T15:43:26.192Z"
   },
   {
    "duration": 11,
    "start_time": "2023-01-24T15:43:26.953Z"
   },
   {
    "duration": 11,
    "start_time": "2023-01-24T15:43:27.550Z"
   },
   {
    "duration": 17,
    "start_time": "2023-01-24T15:43:28.269Z"
   },
   {
    "duration": 17,
    "start_time": "2023-01-24T15:43:29.405Z"
   },
   {
    "duration": 17,
    "start_time": "2023-01-24T15:43:30.570Z"
   },
   {
    "duration": 13,
    "start_time": "2023-01-24T15:43:31.527Z"
   },
   {
    "duration": 7,
    "start_time": "2023-01-24T15:44:04.610Z"
   },
   {
    "duration": 8,
    "start_time": "2023-01-24T16:14:11.610Z"
   },
   {
    "duration": 6,
    "start_time": "2023-01-24T16:14:18.274Z"
   },
   {
    "duration": 9,
    "start_time": "2023-01-24T16:14:26.710Z"
   },
   {
    "duration": 6,
    "start_time": "2023-01-24T16:14:33.941Z"
   },
   {
    "duration": 7,
    "start_time": "2023-01-24T16:14:49.422Z"
   },
   {
    "duration": 1259,
    "start_time": "2023-01-24T17:19:25.174Z"
   },
   {
    "duration": 236,
    "start_time": "2023-01-24T17:19:27.511Z"
   },
   {
    "duration": 10,
    "start_time": "2023-01-24T17:19:28.938Z"
   },
   {
    "duration": 11,
    "start_time": "2023-01-24T17:19:30.131Z"
   },
   {
    "duration": 11,
    "start_time": "2023-01-24T17:19:31.482Z"
   },
   {
    "duration": 9,
    "start_time": "2023-01-24T17:19:32.317Z"
   },
   {
    "duration": 11,
    "start_time": "2023-01-24T17:19:34.227Z"
   },
   {
    "duration": 6,
    "start_time": "2023-01-24T17:19:35.810Z"
   },
   {
    "duration": 5,
    "start_time": "2023-01-24T17:19:37.182Z"
   },
   {
    "duration": 6,
    "start_time": "2023-01-24T17:19:41.180Z"
   },
   {
    "duration": 5,
    "start_time": "2023-01-24T17:19:42.118Z"
   },
   {
    "duration": 5,
    "start_time": "2023-01-24T17:19:46.316Z"
   },
   {
    "duration": 5,
    "start_time": "2023-01-24T17:20:02.626Z"
   },
   {
    "duration": 3,
    "start_time": "2023-01-24T17:22:01.822Z"
   },
   {
    "duration": 3,
    "start_time": "2023-01-24T17:22:21.316Z"
   },
   {
    "duration": 9,
    "start_time": "2023-01-24T17:23:59.918Z"
   },
   {
    "duration": 5,
    "start_time": "2023-01-24T17:25:01.265Z"
   },
   {
    "duration": 5,
    "start_time": "2023-01-24T17:25:33.256Z"
   },
   {
    "duration": 5,
    "start_time": "2023-01-24T17:25:39.502Z"
   },
   {
    "duration": 9,
    "start_time": "2023-01-24T17:26:44.745Z"
   },
   {
    "duration": 259,
    "start_time": "2023-01-24T17:27:16.100Z"
   },
   {
    "duration": 181,
    "start_time": "2023-01-24T17:27:32.701Z"
   },
   {
    "duration": 4,
    "start_time": "2023-01-24T17:28:14.327Z"
   },
   {
    "duration": 11,
    "start_time": "2023-01-24T17:28:21.978Z"
   },
   {
    "duration": 8,
    "start_time": "2023-01-24T17:59:39.469Z"
   },
   {
    "duration": 8,
    "start_time": "2023-01-24T18:12:12.588Z"
   },
   {
    "duration": 10,
    "start_time": "2023-01-24T18:13:21.378Z"
   },
   {
    "duration": 4,
    "start_time": "2023-01-24T18:14:59.163Z"
   },
   {
    "duration": 11,
    "start_time": "2023-01-24T18:15:09.463Z"
   },
   {
    "duration": 2,
    "start_time": "2023-01-24T19:16:26.738Z"
   },
   {
    "duration": 12,
    "start_time": "2023-01-24T19:22:33.322Z"
   },
   {
    "duration": 12,
    "start_time": "2023-01-24T19:35:37.122Z"
   },
   {
    "duration": 254,
    "start_time": "2023-01-24T21:30:03.748Z"
   },
   {
    "duration": 230,
    "start_time": "2023-01-24T21:30:43.342Z"
   },
   {
    "duration": 161,
    "start_time": "2023-01-24T21:37:17.859Z"
   },
   {
    "duration": 160,
    "start_time": "2023-01-24T21:37:35.811Z"
   },
   {
    "duration": 146,
    "start_time": "2023-01-24T21:39:50.171Z"
   },
   {
    "duration": 277,
    "start_time": "2023-01-24T21:42:34.267Z"
   },
   {
    "duration": 246,
    "start_time": "2023-01-24T21:43:00.354Z"
   },
   {
    "duration": 257,
    "start_time": "2023-01-24T21:43:51.711Z"
   },
   {
    "duration": 161,
    "start_time": "2023-01-24T22:00:47.671Z"
   },
   {
    "duration": 182,
    "start_time": "2023-01-24T22:01:18.651Z"
   },
   {
    "duration": 677,
    "start_time": "2023-01-24T22:04:15.684Z"
   },
   {
    "duration": 230,
    "start_time": "2023-01-24T22:04:28.122Z"
   },
   {
    "duration": 158,
    "start_time": "2023-01-24T22:04:34.364Z"
   },
   {
    "duration": 148,
    "start_time": "2023-01-24T22:06:05.197Z"
   },
   {
    "duration": 178,
    "start_time": "2023-01-24T22:07:29.016Z"
   },
   {
    "duration": 167,
    "start_time": "2023-01-24T22:07:42.480Z"
   },
   {
    "duration": 308,
    "start_time": "2023-01-24T22:34:21.613Z"
   },
   {
    "duration": 297,
    "start_time": "2023-01-24T22:34:38.831Z"
   },
   {
    "duration": 3,
    "start_time": "2023-01-24T22:53:24.846Z"
   },
   {
    "duration": 4,
    "start_time": "2023-01-24T22:53:27.608Z"
   },
   {
    "duration": 7,
    "start_time": "2023-01-24T23:09:30.022Z"
   },
   {
    "duration": 93,
    "start_time": "2023-01-24T23:09:44.320Z"
   },
   {
    "duration": 4,
    "start_time": "2023-01-24T23:10:22.270Z"
   },
   {
    "duration": 9,
    "start_time": "2023-01-24T23:17:27.540Z"
   },
   {
    "duration": 114,
    "start_time": "2023-01-24T23:17:55.877Z"
   },
   {
    "duration": 4,
    "start_time": "2023-01-24T23:21:04.796Z"
   },
   {
    "duration": 1258,
    "start_time": "2023-01-25T17:13:53.942Z"
   },
   {
    "duration": 305,
    "start_time": "2023-01-25T17:13:56.004Z"
   },
   {
    "duration": 15,
    "start_time": "2023-01-25T17:13:58.545Z"
   },
   {
    "duration": 12,
    "start_time": "2023-01-25T17:13:58.994Z"
   },
   {
    "duration": 12,
    "start_time": "2023-01-25T17:13:59.958Z"
   },
   {
    "duration": 10,
    "start_time": "2023-01-25T17:14:00.421Z"
   },
   {
    "duration": 13,
    "start_time": "2023-01-25T17:14:01.025Z"
   },
   {
    "duration": 8,
    "start_time": "2023-01-25T17:14:01.351Z"
   },
   {
    "duration": 6,
    "start_time": "2023-01-25T17:14:01.746Z"
   },
   {
    "duration": 7,
    "start_time": "2023-01-25T17:14:01.974Z"
   },
   {
    "duration": 7,
    "start_time": "2023-01-25T17:14:02.142Z"
   },
   {
    "duration": 5,
    "start_time": "2023-01-25T17:14:02.338Z"
   },
   {
    "duration": 4,
    "start_time": "2023-01-25T17:14:02.626Z"
   },
   {
    "duration": 10,
    "start_time": "2023-01-25T17:14:02.877Z"
   },
   {
    "duration": 8,
    "start_time": "2023-01-25T17:14:03.099Z"
   },
   {
    "duration": 10,
    "start_time": "2023-01-25T17:14:03.281Z"
   },
   {
    "duration": 15,
    "start_time": "2023-01-25T17:14:03.469Z"
   },
   {
    "duration": 7,
    "start_time": "2023-01-25T17:14:03.674Z"
   },
   {
    "duration": 4,
    "start_time": "2023-01-25T17:14:03.886Z"
   },
   {
    "duration": 3,
    "start_time": "2023-01-25T17:14:04.075Z"
   },
   {
    "duration": 4,
    "start_time": "2023-01-25T17:14:04.264Z"
   },
   {
    "duration": 6,
    "start_time": "2023-01-25T17:14:04.482Z"
   },
   {
    "duration": 6,
    "start_time": "2023-01-25T17:14:04.676Z"
   },
   {
    "duration": 9,
    "start_time": "2023-01-25T17:14:05.635Z"
   },
   {
    "duration": 6,
    "start_time": "2023-01-25T17:14:05.921Z"
   },
   {
    "duration": 11,
    "start_time": "2023-01-25T17:14:06.151Z"
   },
   {
    "duration": 4,
    "start_time": "2023-01-25T17:14:06.397Z"
   },
   {
    "duration": 12,
    "start_time": "2023-01-25T17:14:06.604Z"
   },
   {
    "duration": 81,
    "start_time": "2023-01-25T17:14:06.795Z"
   },
   {
    "duration": 11,
    "start_time": "2023-01-25T17:14:07.617Z"
   },
   {
    "duration": 273,
    "start_time": "2023-01-25T17:14:07.844Z"
   },
   {
    "duration": 266,
    "start_time": "2023-01-25T17:14:08.119Z"
   },
   {
    "duration": 180,
    "start_time": "2023-01-25T17:14:08.726Z"
   },
   {
    "duration": 294,
    "start_time": "2023-01-25T17:14:09.377Z"
   },
   {
    "duration": 187,
    "start_time": "2023-01-25T17:14:10.098Z"
   },
   {
    "duration": 310,
    "start_time": "2023-01-25T17:14:10.822Z"
   },
   {
    "duration": 7,
    "start_time": "2023-01-25T17:14:12.556Z"
   },
   {
    "duration": 127,
    "start_time": "2023-01-25T17:14:13.347Z"
   },
   {
    "duration": 5,
    "start_time": "2023-01-25T17:14:14.402Z"
   },
   {
    "duration": 135,
    "start_time": "2023-01-25T17:14:14.965Z"
   },
   {
    "duration": 135,
    "start_time": "2023-01-25T17:14:15.349Z"
   },
   {
    "duration": 69,
    "start_time": "2023-01-25T17:14:16.520Z"
   },
   {
    "duration": 6,
    "start_time": "2023-01-25T17:14:16.770Z"
   },
   {
    "duration": 213,
    "start_time": "2023-01-25T19:18:29.247Z"
   },
   {
    "duration": 222,
    "start_time": "2023-01-25T19:39:39.022Z"
   },
   {
    "duration": 127,
    "start_time": "2023-01-25T19:44:12.278Z"
   },
   {
    "duration": 150,
    "start_time": "2023-01-25T19:55:07.618Z"
   },
   {
    "duration": 11,
    "start_time": "2023-01-25T19:55:34.237Z"
   },
   {
    "duration": 1168,
    "start_time": "2023-01-27T17:06:56.602Z"
   },
   {
    "duration": 251,
    "start_time": "2023-01-27T17:06:57.772Z"
   },
   {
    "duration": 13,
    "start_time": "2023-01-27T17:06:58.024Z"
   },
   {
    "duration": 42,
    "start_time": "2023-01-27T17:06:58.038Z"
   },
   {
    "duration": 49,
    "start_time": "2023-01-27T17:06:58.082Z"
   },
   {
    "duration": 53,
    "start_time": "2023-01-27T17:06:58.133Z"
   },
   {
    "duration": 21,
    "start_time": "2023-01-27T17:06:58.188Z"
   },
   {
    "duration": 41,
    "start_time": "2023-01-27T17:06:58.211Z"
   },
   {
    "duration": 30,
    "start_time": "2023-01-27T17:06:58.254Z"
   },
   {
    "duration": 35,
    "start_time": "2023-01-27T17:06:58.286Z"
   },
   {
    "duration": 34,
    "start_time": "2023-01-27T17:06:58.322Z"
   },
   {
    "duration": 19,
    "start_time": "2023-01-27T17:06:58.358Z"
   },
   {
    "duration": 41,
    "start_time": "2023-01-27T17:06:58.379Z"
   },
   {
    "duration": 25,
    "start_time": "2023-01-27T17:06:58.424Z"
   },
   {
    "duration": 38,
    "start_time": "2023-01-27T17:06:58.451Z"
   },
   {
    "duration": 32,
    "start_time": "2023-01-27T17:06:58.490Z"
   },
   {
    "duration": 37,
    "start_time": "2023-01-27T17:06:58.524Z"
   },
   {
    "duration": 13,
    "start_time": "2023-01-27T17:06:58.563Z"
   },
   {
    "duration": 25,
    "start_time": "2023-01-27T17:06:58.578Z"
   },
   {
    "duration": 34,
    "start_time": "2023-01-27T17:06:58.605Z"
   },
   {
    "duration": 14,
    "start_time": "2023-01-27T17:06:58.641Z"
   },
   {
    "duration": 25,
    "start_time": "2023-01-27T17:06:58.657Z"
   },
   {
    "duration": 33,
    "start_time": "2023-01-27T17:06:58.685Z"
   },
   {
    "duration": 11,
    "start_time": "2023-01-27T17:06:58.719Z"
   },
   {
    "duration": 16,
    "start_time": "2023-01-27T17:06:58.732Z"
   },
   {
    "duration": 18,
    "start_time": "2023-01-27T17:06:58.750Z"
   },
   {
    "duration": 25,
    "start_time": "2023-01-27T17:06:58.770Z"
   },
   {
    "duration": 35,
    "start_time": "2023-01-27T17:06:58.797Z"
   },
   {
    "duration": 50,
    "start_time": "2023-01-27T17:06:58.834Z"
   },
   {
    "duration": 0,
    "start_time": "2023-01-27T17:06:58.886Z"
   },
   {
    "duration": 0,
    "start_time": "2023-01-27T17:06:58.887Z"
   },
   {
    "duration": 0,
    "start_time": "2023-01-27T17:06:58.889Z"
   },
   {
    "duration": 0,
    "start_time": "2023-01-27T17:06:58.890Z"
   },
   {
    "duration": 0,
    "start_time": "2023-01-27T17:06:58.891Z"
   },
   {
    "duration": 0,
    "start_time": "2023-01-27T17:06:58.892Z"
   },
   {
    "duration": 0,
    "start_time": "2023-01-27T17:06:58.893Z"
   },
   {
    "duration": 0,
    "start_time": "2023-01-27T17:06:58.895Z"
   },
   {
    "duration": 0,
    "start_time": "2023-01-27T17:06:58.896Z"
   },
   {
    "duration": 0,
    "start_time": "2023-01-27T17:06:58.897Z"
   },
   {
    "duration": 0,
    "start_time": "2023-01-27T17:06:58.899Z"
   },
   {
    "duration": 0,
    "start_time": "2023-01-27T17:06:58.900Z"
   },
   {
    "duration": 0,
    "start_time": "2023-01-27T17:06:58.901Z"
   },
   {
    "duration": 0,
    "start_time": "2023-01-27T17:06:58.902Z"
   },
   {
    "duration": 0,
    "start_time": "2023-01-27T17:06:58.904Z"
   },
   {
    "duration": 0,
    "start_time": "2023-01-27T17:06:58.904Z"
   },
   {
    "duration": 0,
    "start_time": "2023-01-27T17:06:58.906Z"
   },
   {
    "duration": 0,
    "start_time": "2023-01-27T17:06:58.908Z"
   },
   {
    "duration": 0,
    "start_time": "2023-01-27T17:06:58.909Z"
   },
   {
    "duration": 0,
    "start_time": "2023-01-27T17:06:58.910Z"
   },
   {
    "duration": 0,
    "start_time": "2023-01-27T17:06:58.911Z"
   },
   {
    "duration": 11,
    "start_time": "2023-01-27T17:07:38.522Z"
   },
   {
    "duration": 282,
    "start_time": "2023-01-27T17:07:39.568Z"
   },
   {
    "duration": 249,
    "start_time": "2023-01-27T17:07:41.138Z"
   },
   {
    "duration": 162,
    "start_time": "2023-01-27T17:07:47.934Z"
   },
   {
    "duration": 275,
    "start_time": "2023-01-27T17:07:53.203Z"
   },
   {
    "duration": 187,
    "start_time": "2023-01-27T17:07:54.727Z"
   },
   {
    "duration": 340,
    "start_time": "2023-01-27T17:07:56.402Z"
   },
   {
    "duration": 7,
    "start_time": "2023-01-27T17:07:58.146Z"
   },
   {
    "duration": 116,
    "start_time": "2023-01-27T17:07:59.136Z"
   },
   {
    "duration": 4,
    "start_time": "2023-01-27T17:08:01.491Z"
   },
   {
    "duration": 124,
    "start_time": "2023-01-27T17:08:03.249Z"
   },
   {
    "duration": 5,
    "start_time": "2023-01-27T17:08:05.101Z"
   },
   {
    "duration": 48,
    "start_time": "2023-01-27T17:08:05.682Z"
   },
   {
    "duration": 204,
    "start_time": "2023-01-27T17:08:12.719Z"
   },
   {
    "duration": 117,
    "start_time": "2023-01-27T17:08:16.655Z"
   },
   {
    "duration": 165,
    "start_time": "2023-01-27T17:08:17.718Z"
   },
   {
    "duration": 13,
    "start_time": "2023-01-27T17:08:24.063Z"
   },
   {
    "duration": 1155,
    "start_time": "2023-01-28T19:27:30.692Z"
   },
   {
    "duration": 323,
    "start_time": "2023-01-28T19:27:31.849Z"
   },
   {
    "duration": 15,
    "start_time": "2023-01-28T19:27:32.174Z"
   },
   {
    "duration": 11,
    "start_time": "2023-01-28T19:27:32.191Z"
   },
   {
    "duration": 15,
    "start_time": "2023-01-28T19:27:32.203Z"
   },
   {
    "duration": 12,
    "start_time": "2023-01-28T19:27:32.219Z"
   },
   {
    "duration": 13,
    "start_time": "2023-01-28T19:27:32.232Z"
   },
   {
    "duration": 9,
    "start_time": "2023-01-28T19:27:32.246Z"
   },
   {
    "duration": 7,
    "start_time": "2023-01-28T19:27:32.257Z"
   },
   {
    "duration": 7,
    "start_time": "2023-01-28T19:27:32.267Z"
   },
   {
    "duration": 6,
    "start_time": "2023-01-28T19:27:32.275Z"
   },
   {
    "duration": 11,
    "start_time": "2023-01-28T19:27:32.283Z"
   },
   {
    "duration": 5,
    "start_time": "2023-01-28T19:27:32.295Z"
   },
   {
    "duration": 7,
    "start_time": "2023-01-28T19:27:32.301Z"
   },
   {
    "duration": 5,
    "start_time": "2023-01-28T19:27:32.309Z"
   },
   {
    "duration": 35,
    "start_time": "2023-01-28T19:27:32.315Z"
   },
   {
    "duration": 12,
    "start_time": "2023-01-28T19:27:32.352Z"
   },
   {
    "duration": 7,
    "start_time": "2023-01-28T19:27:32.366Z"
   },
   {
    "duration": 4,
    "start_time": "2023-01-28T19:27:32.375Z"
   },
   {
    "duration": 7,
    "start_time": "2023-01-28T19:27:32.381Z"
   },
   {
    "duration": 6,
    "start_time": "2023-01-28T19:27:32.389Z"
   },
   {
    "duration": 6,
    "start_time": "2023-01-28T19:27:32.397Z"
   },
   {
    "duration": 44,
    "start_time": "2023-01-28T19:27:32.405Z"
   },
   {
    "duration": 8,
    "start_time": "2023-01-28T19:27:32.450Z"
   },
   {
    "duration": 7,
    "start_time": "2023-01-28T19:27:32.460Z"
   },
   {
    "duration": 12,
    "start_time": "2023-01-28T19:27:32.468Z"
   },
   {
    "duration": 5,
    "start_time": "2023-01-28T19:27:32.482Z"
   },
   {
    "duration": 13,
    "start_time": "2023-01-28T19:27:32.491Z"
   },
   {
    "duration": 43,
    "start_time": "2023-01-28T19:27:32.506Z"
   },
   {
    "duration": 291,
    "start_time": "2023-01-28T19:27:32.551Z"
   },
   {
    "duration": 250,
    "start_time": "2023-01-28T19:27:32.844Z"
   },
   {
    "duration": 164,
    "start_time": "2023-01-28T19:27:33.095Z"
   },
   {
    "duration": 289,
    "start_time": "2023-01-28T19:27:33.261Z"
   },
   {
    "duration": 194,
    "start_time": "2023-01-28T19:27:33.552Z"
   },
   {
    "duration": 304,
    "start_time": "2023-01-28T19:27:33.749Z"
   },
   {
    "duration": 7,
    "start_time": "2023-01-28T19:27:34.054Z"
   },
   {
    "duration": 127,
    "start_time": "2023-01-28T19:27:34.063Z"
   },
   {
    "duration": 4,
    "start_time": "2023-01-28T19:27:34.192Z"
   },
   {
    "duration": 129,
    "start_time": "2023-01-28T19:27:34.197Z"
   },
   {
    "duration": 4,
    "start_time": "2023-01-28T19:27:34.327Z"
   },
   {
    "duration": 217,
    "start_time": "2023-01-28T19:27:34.333Z"
   },
   {
    "duration": 131,
    "start_time": "2023-01-28T19:27:34.552Z"
   },
   {
    "duration": 148,
    "start_time": "2023-01-28T19:27:34.684Z"
   },
   {
    "duration": 18,
    "start_time": "2023-01-28T19:27:34.833Z"
   },
   {
    "duration": 217,
    "start_time": "2023-01-28T21:00:12.295Z"
   },
   {
    "duration": 183,
    "start_time": "2023-01-28T21:02:14.439Z"
   },
   {
    "duration": 362,
    "start_time": "2023-01-28T21:02:32.360Z"
   },
   {
    "duration": 196,
    "start_time": "2023-01-28T21:02:38.854Z"
   },
   {
    "duration": 332,
    "start_time": "2023-01-28T21:02:47.343Z"
   },
   {
    "duration": 4,
    "start_time": "2023-01-28T21:11:37.630Z"
   },
   {
    "duration": 133,
    "start_time": "2023-01-28T21:17:16.268Z"
   },
   {
    "duration": 4,
    "start_time": "2023-01-28T21:18:40.351Z"
   },
   {
    "duration": 12,
    "start_time": "2023-01-28T21:29:22.636Z"
   },
   {
    "duration": 9,
    "start_time": "2023-01-28T21:31:46.561Z"
   },
   {
    "duration": 24,
    "start_time": "2023-01-28T21:32:00.854Z"
   },
   {
    "duration": 14,
    "start_time": "2023-01-28T21:33:32.535Z"
   },
   {
    "duration": 1025,
    "start_time": "2023-01-28T22:10:24.370Z"
   },
   {
    "duration": 144,
    "start_time": "2023-01-28T22:10:25.397Z"
   },
   {
    "duration": 13,
    "start_time": "2023-01-28T22:10:25.543Z"
   },
   {
    "duration": 14,
    "start_time": "2023-01-28T22:10:25.558Z"
   },
   {
    "duration": 14,
    "start_time": "2023-01-28T22:10:25.574Z"
   },
   {
    "duration": 15,
    "start_time": "2023-01-28T22:10:25.590Z"
   },
   {
    "duration": 19,
    "start_time": "2023-01-28T22:10:25.606Z"
   },
   {
    "duration": 28,
    "start_time": "2023-01-28T22:10:25.627Z"
   },
   {
    "duration": 9,
    "start_time": "2023-01-28T22:10:25.657Z"
   },
   {
    "duration": 6,
    "start_time": "2023-01-28T22:10:25.669Z"
   },
   {
    "duration": 7,
    "start_time": "2023-01-28T22:10:25.677Z"
   },
   {
    "duration": 8,
    "start_time": "2023-01-28T22:10:25.686Z"
   },
   {
    "duration": 6,
    "start_time": "2023-01-28T22:10:25.696Z"
   },
   {
    "duration": 8,
    "start_time": "2023-01-28T22:10:25.704Z"
   },
   {
    "duration": 39,
    "start_time": "2023-01-28T22:10:25.714Z"
   },
   {
    "duration": 14,
    "start_time": "2023-01-28T22:10:25.755Z"
   },
   {
    "duration": 14,
    "start_time": "2023-01-28T22:10:25.770Z"
   },
   {
    "duration": 11,
    "start_time": "2023-01-28T22:10:25.786Z"
   },
   {
    "duration": 5,
    "start_time": "2023-01-28T22:10:25.799Z"
   },
   {
    "duration": 8,
    "start_time": "2023-01-28T22:10:25.806Z"
   },
   {
    "duration": 10,
    "start_time": "2023-01-28T22:10:25.816Z"
   },
   {
    "duration": 24,
    "start_time": "2023-01-28T22:10:25.828Z"
   },
   {
    "duration": 6,
    "start_time": "2023-01-28T22:10:25.854Z"
   },
   {
    "duration": 9,
    "start_time": "2023-01-28T22:10:25.862Z"
   },
   {
    "duration": 8,
    "start_time": "2023-01-28T22:10:25.872Z"
   },
   {
    "duration": 9,
    "start_time": "2023-01-28T22:10:25.882Z"
   },
   {
    "duration": 5,
    "start_time": "2023-01-28T22:10:25.893Z"
   },
   {
    "duration": 21,
    "start_time": "2023-01-28T22:10:25.902Z"
   },
   {
    "duration": 21,
    "start_time": "2023-01-28T22:10:25.950Z"
   },
   {
    "duration": 314,
    "start_time": "2023-01-28T22:10:25.973Z"
   },
   {
    "duration": 366,
    "start_time": "2023-01-28T22:10:26.289Z"
   },
   {
    "duration": 217,
    "start_time": "2023-01-28T22:10:26.656Z"
   },
   {
    "duration": 301,
    "start_time": "2023-01-28T22:10:26.875Z"
   },
   {
    "duration": 211,
    "start_time": "2023-01-28T22:10:27.178Z"
   },
   {
    "duration": 374,
    "start_time": "2023-01-28T22:10:27.392Z"
   },
   {
    "duration": 8,
    "start_time": "2023-01-28T22:10:27.768Z"
   },
   {
    "duration": 183,
    "start_time": "2023-01-28T22:10:27.778Z"
   },
   {
    "duration": 5,
    "start_time": "2023-01-28T22:10:27.963Z"
   },
   {
    "duration": 198,
    "start_time": "2023-01-28T22:10:27.970Z"
   },
   {
    "duration": 183,
    "start_time": "2023-01-28T22:10:28.170Z"
   },
   {
    "duration": 5,
    "start_time": "2023-01-28T22:10:28.355Z"
   },
   {
    "duration": 312,
    "start_time": "2023-01-28T22:10:28.362Z"
   },
   {
    "duration": 157,
    "start_time": "2023-01-28T22:10:28.677Z"
   },
   {
    "duration": 194,
    "start_time": "2023-01-28T22:10:28.848Z"
   },
   {
    "duration": 13,
    "start_time": "2023-01-28T22:10:29.048Z"
   },
   {
    "duration": 56,
    "start_time": "2023-01-28T22:10:29.062Z"
   },
   {
    "duration": 16,
    "start_time": "2023-01-28T22:10:29.120Z"
   },
   {
    "duration": 26,
    "start_time": "2023-01-28T22:10:29.138Z"
   },
   {
    "duration": 13,
    "start_time": "2023-01-28T22:10:29.166Z"
   },
   {
    "duration": 1093,
    "start_time": "2023-01-29T06:10:42.375Z"
   },
   {
    "duration": 136,
    "start_time": "2023-01-29T06:10:43.470Z"
   },
   {
    "duration": 16,
    "start_time": "2023-01-29T06:10:43.608Z"
   },
   {
    "duration": 21,
    "start_time": "2023-01-29T06:10:43.627Z"
   },
   {
    "duration": 64,
    "start_time": "2023-01-29T06:10:43.650Z"
   },
   {
    "duration": 17,
    "start_time": "2023-01-29T06:10:43.716Z"
   },
   {
    "duration": 22,
    "start_time": "2023-01-29T06:10:43.735Z"
   },
   {
    "duration": 22,
    "start_time": "2023-01-29T06:10:43.759Z"
   },
   {
    "duration": 21,
    "start_time": "2023-01-29T06:10:43.783Z"
   },
   {
    "duration": 10,
    "start_time": "2023-01-29T06:10:43.808Z"
   },
   {
    "duration": 7,
    "start_time": "2023-01-29T06:10:43.820Z"
   },
   {
    "duration": 6,
    "start_time": "2023-01-29T06:10:43.828Z"
   },
   {
    "duration": 7,
    "start_time": "2023-01-29T06:10:43.835Z"
   },
   {
    "duration": 18,
    "start_time": "2023-01-29T06:10:43.844Z"
   },
   {
    "duration": 8,
    "start_time": "2023-01-29T06:10:43.864Z"
   },
   {
    "duration": 35,
    "start_time": "2023-01-29T06:10:43.874Z"
   },
   {
    "duration": 20,
    "start_time": "2023-01-29T06:10:43.910Z"
   },
   {
    "duration": 11,
    "start_time": "2023-01-29T06:10:43.931Z"
   },
   {
    "duration": 9,
    "start_time": "2023-01-29T06:10:43.944Z"
   },
   {
    "duration": 7,
    "start_time": "2023-01-29T06:10:43.955Z"
   },
   {
    "duration": 11,
    "start_time": "2023-01-29T06:10:43.964Z"
   },
   {
    "duration": 25,
    "start_time": "2023-01-29T06:10:43.977Z"
   },
   {
    "duration": 9,
    "start_time": "2023-01-29T06:10:44.004Z"
   },
   {
    "duration": 11,
    "start_time": "2023-01-29T06:10:44.014Z"
   },
   {
    "duration": 9,
    "start_time": "2023-01-29T06:10:44.026Z"
   },
   {
    "duration": 14,
    "start_time": "2023-01-29T06:10:44.037Z"
   },
   {
    "duration": 24,
    "start_time": "2023-01-29T06:10:44.052Z"
   },
   {
    "duration": 29,
    "start_time": "2023-01-29T06:10:44.080Z"
   },
   {
    "duration": 24,
    "start_time": "2023-01-29T06:10:44.111Z"
   },
   {
    "duration": 295,
    "start_time": "2023-01-29T06:10:44.137Z"
   },
   {
    "duration": 311,
    "start_time": "2023-01-29T06:10:44.434Z"
   },
   {
    "duration": 220,
    "start_time": "2023-01-29T06:10:44.746Z"
   },
   {
    "duration": 344,
    "start_time": "2023-01-29T06:10:44.968Z"
   },
   {
    "duration": 248,
    "start_time": "2023-01-29T06:10:45.314Z"
   },
   {
    "duration": 379,
    "start_time": "2023-01-29T06:10:45.564Z"
   },
   {
    "duration": 7,
    "start_time": "2023-01-29T06:10:45.945Z"
   },
   {
    "duration": 160,
    "start_time": "2023-01-29T06:10:45.954Z"
   },
   {
    "duration": 4,
    "start_time": "2023-01-29T06:10:46.116Z"
   },
   {
    "duration": 170,
    "start_time": "2023-01-29T06:10:46.122Z"
   },
   {
    "duration": 148,
    "start_time": "2023-01-29T06:10:46.294Z"
   },
   {
    "duration": 4,
    "start_time": "2023-01-29T06:10:46.444Z"
   },
   {
    "duration": 261,
    "start_time": "2023-01-29T06:10:46.450Z"
   },
   {
    "duration": 186,
    "start_time": "2023-01-29T06:10:46.713Z"
   },
   {
    "duration": 212,
    "start_time": "2023-01-29T06:10:46.901Z"
   },
   {
    "duration": 12,
    "start_time": "2023-01-29T06:10:47.116Z"
   },
   {
    "duration": 16,
    "start_time": "2023-01-29T06:10:47.130Z"
   },
   {
    "duration": 12,
    "start_time": "2023-01-29T06:10:47.148Z"
   },
   {
    "duration": 55,
    "start_time": "2023-01-29T06:10:47.162Z"
   },
   {
    "duration": 16,
    "start_time": "2023-01-29T06:10:47.219Z"
   },
   {
    "duration": 72,
    "start_time": "2023-01-29T15:07:09.908Z"
   },
   {
    "duration": 1432,
    "start_time": "2023-01-29T15:07:18.310Z"
   },
   {
    "duration": 315,
    "start_time": "2023-01-29T15:07:19.745Z"
   },
   {
    "duration": 16,
    "start_time": "2023-01-29T15:07:20.062Z"
   },
   {
    "duration": 67,
    "start_time": "2023-01-29T15:07:20.080Z"
   },
   {
    "duration": 18,
    "start_time": "2023-01-29T15:07:20.150Z"
   },
   {
    "duration": 68,
    "start_time": "2023-01-29T15:07:20.170Z"
   },
   {
    "duration": 15,
    "start_time": "2023-01-29T15:07:20.240Z"
   },
   {
    "duration": 10,
    "start_time": "2023-01-29T15:07:20.257Z"
   },
   {
    "duration": 7,
    "start_time": "2023-01-29T15:07:20.269Z"
   },
   {
    "duration": 15,
    "start_time": "2023-01-29T15:07:20.278Z"
   },
   {
    "duration": 42,
    "start_time": "2023-01-29T15:07:20.295Z"
   },
   {
    "duration": 11,
    "start_time": "2023-01-29T15:07:20.339Z"
   },
   {
    "duration": 16,
    "start_time": "2023-01-29T15:07:20.352Z"
   },
   {
    "duration": 8,
    "start_time": "2023-01-29T15:07:20.371Z"
   },
   {
    "duration": 58,
    "start_time": "2023-01-29T15:07:20.381Z"
   },
   {
    "duration": 14,
    "start_time": "2023-01-29T15:07:20.441Z"
   },
   {
    "duration": 17,
    "start_time": "2023-01-29T15:07:20.457Z"
   },
   {
    "duration": 50,
    "start_time": "2023-01-29T15:07:20.476Z"
   },
   {
    "duration": 8,
    "start_time": "2023-01-29T15:07:20.528Z"
   },
   {
    "duration": 9,
    "start_time": "2023-01-29T15:07:20.537Z"
   },
   {
    "duration": 10,
    "start_time": "2023-01-29T15:07:20.548Z"
   },
   {
    "duration": 13,
    "start_time": "2023-01-29T15:07:20.559Z"
   },
   {
    "duration": 15,
    "start_time": "2023-01-29T15:07:20.574Z"
   },
   {
    "duration": 52,
    "start_time": "2023-01-29T15:07:20.591Z"
   },
   {
    "duration": 11,
    "start_time": "2023-01-29T15:07:20.645Z"
   },
   {
    "duration": 10,
    "start_time": "2023-01-29T15:07:20.658Z"
   },
   {
    "duration": 18,
    "start_time": "2023-01-29T15:07:20.670Z"
   },
   {
    "duration": 44,
    "start_time": "2023-01-29T15:07:20.691Z"
   },
   {
    "duration": 19,
    "start_time": "2023-01-29T15:07:20.737Z"
   },
   {
    "duration": 16,
    "start_time": "2023-01-29T15:07:20.757Z"
   },
   {
    "duration": 326,
    "start_time": "2023-01-29T15:07:20.775Z"
   },
   {
    "duration": 352,
    "start_time": "2023-01-29T15:07:21.103Z"
   },
   {
    "duration": 251,
    "start_time": "2023-01-29T15:07:21.457Z"
   },
   {
    "duration": 378,
    "start_time": "2023-01-29T15:07:21.710Z"
   },
   {
    "duration": 259,
    "start_time": "2023-01-29T15:07:22.094Z"
   },
   {
    "duration": 381,
    "start_time": "2023-01-29T15:07:22.355Z"
   },
   {
    "duration": 8,
    "start_time": "2023-01-29T15:07:22.738Z"
   },
   {
    "duration": 151,
    "start_time": "2023-01-29T15:07:22.748Z"
   },
   {
    "duration": 6,
    "start_time": "2023-01-29T15:07:22.905Z"
   },
   {
    "duration": 195,
    "start_time": "2023-01-29T15:07:22.913Z"
   },
   {
    "duration": 154,
    "start_time": "2023-01-29T15:07:23.113Z"
   },
   {
    "duration": 5,
    "start_time": "2023-01-29T15:07:23.269Z"
   },
   {
    "duration": 274,
    "start_time": "2023-01-29T15:07:23.286Z"
   },
   {
    "duration": 192,
    "start_time": "2023-01-29T15:07:23.561Z"
   },
   {
    "duration": 193,
    "start_time": "2023-01-29T15:07:23.755Z"
   },
   {
    "duration": 11,
    "start_time": "2023-01-29T15:07:23.949Z"
   },
   {
    "duration": 73,
    "start_time": "2023-01-29T15:07:23.961Z"
   },
   {
    "duration": 23,
    "start_time": "2023-01-29T15:07:24.035Z"
   },
   {
    "duration": 34,
    "start_time": "2023-01-29T15:07:24.060Z"
   },
   {
    "duration": 32,
    "start_time": "2023-01-29T15:07:24.096Z"
   },
   {
    "duration": 5,
    "start_time": "2023-01-29T15:08:24.141Z"
   },
   {
    "duration": 7,
    "start_time": "2023-01-29T15:10:19.938Z"
   },
   {
    "duration": 126,
    "start_time": "2023-01-29T15:10:36.278Z"
   },
   {
    "duration": 7,
    "start_time": "2023-01-29T15:10:55.616Z"
   },
   {
    "duration": 447,
    "start_time": "2023-01-29T15:32:47.105Z"
   },
   {
    "duration": 363,
    "start_time": "2023-01-29T15:34:49.613Z"
   },
   {
    "duration": 390,
    "start_time": "2023-01-29T15:37:00.661Z"
   },
   {
    "duration": 245,
    "start_time": "2023-01-29T15:38:19.136Z"
   },
   {
    "duration": 325,
    "start_time": "2023-01-29T15:39:11.701Z"
   },
   {
    "duration": 242,
    "start_time": "2023-01-29T15:39:45.967Z"
   },
   {
    "duration": 260,
    "start_time": "2023-01-29T15:40:46.369Z"
   },
   {
    "duration": 131,
    "start_time": "2023-01-29T15:42:20.813Z"
   },
   {
    "duration": 163,
    "start_time": "2023-01-29T15:43:42.065Z"
   },
   {
    "duration": 154,
    "start_time": "2023-01-29T15:44:07.779Z"
   },
   {
    "duration": 1137,
    "start_time": "2023-01-29T18:23:12.981Z"
   },
   {
    "duration": 125,
    "start_time": "2023-01-29T18:23:14.120Z"
   },
   {
    "duration": 14,
    "start_time": "2023-01-29T18:23:14.247Z"
   },
   {
    "duration": 24,
    "start_time": "2023-01-29T18:23:14.264Z"
   },
   {
    "duration": 23,
    "start_time": "2023-01-29T18:23:14.290Z"
   },
   {
    "duration": 29,
    "start_time": "2023-01-29T18:23:14.314Z"
   },
   {
    "duration": 44,
    "start_time": "2023-01-29T18:23:14.345Z"
   },
   {
    "duration": 19,
    "start_time": "2023-01-29T18:23:14.391Z"
   },
   {
    "duration": 11,
    "start_time": "2023-01-29T18:23:14.412Z"
   },
   {
    "duration": 7,
    "start_time": "2023-01-29T18:23:14.426Z"
   },
   {
    "duration": 10,
    "start_time": "2023-01-29T18:23:14.434Z"
   },
   {
    "duration": 13,
    "start_time": "2023-01-29T18:23:14.445Z"
   },
   {
    "duration": 18,
    "start_time": "2023-01-29T18:23:14.460Z"
   },
   {
    "duration": 9,
    "start_time": "2023-01-29T18:23:14.481Z"
   },
   {
    "duration": 6,
    "start_time": "2023-01-29T18:23:14.492Z"
   },
   {
    "duration": 15,
    "start_time": "2023-01-29T18:23:14.499Z"
   },
   {
    "duration": 16,
    "start_time": "2023-01-29T18:23:14.515Z"
   },
   {
    "duration": 12,
    "start_time": "2023-01-29T18:23:14.533Z"
   },
   {
    "duration": 14,
    "start_time": "2023-01-29T18:23:14.547Z"
   },
   {
    "duration": 11,
    "start_time": "2023-01-29T18:23:14.562Z"
   },
   {
    "duration": 5,
    "start_time": "2023-01-29T18:23:14.584Z"
   },
   {
    "duration": 8,
    "start_time": "2023-01-29T18:23:14.591Z"
   },
   {
    "duration": 15,
    "start_time": "2023-01-29T18:23:14.601Z"
   },
   {
    "duration": 14,
    "start_time": "2023-01-29T18:23:14.618Z"
   },
   {
    "duration": 6,
    "start_time": "2023-01-29T18:23:14.634Z"
   },
   {
    "duration": 13,
    "start_time": "2023-01-29T18:23:14.642Z"
   },
   {
    "duration": 31,
    "start_time": "2023-01-29T18:23:14.656Z"
   },
   {
    "duration": 13,
    "start_time": "2023-01-29T18:23:14.690Z"
   },
   {
    "duration": 7,
    "start_time": "2023-01-29T18:23:14.704Z"
   },
   {
    "duration": 16,
    "start_time": "2023-01-29T18:23:14.712Z"
   },
   {
    "duration": 13,
    "start_time": "2023-01-29T18:23:14.730Z"
   },
   {
    "duration": 330,
    "start_time": "2023-01-29T18:23:14.745Z"
   },
   {
    "duration": 346,
    "start_time": "2023-01-29T18:23:15.077Z"
   },
   {
    "duration": 276,
    "start_time": "2023-01-29T18:23:15.425Z"
   },
   {
    "duration": 324,
    "start_time": "2023-01-29T18:23:15.703Z"
   },
   {
    "duration": 248,
    "start_time": "2023-01-29T18:23:16.030Z"
   },
   {
    "duration": 362,
    "start_time": "2023-01-29T18:23:16.280Z"
   },
   {
    "duration": 8,
    "start_time": "2023-01-29T18:23:16.644Z"
   },
   {
    "duration": 148,
    "start_time": "2023-01-29T18:23:16.653Z"
   },
   {
    "duration": 5,
    "start_time": "2023-01-29T18:23:16.802Z"
   },
   {
    "duration": 146,
    "start_time": "2023-01-29T18:23:16.809Z"
   },
   {
    "duration": 148,
    "start_time": "2023-01-29T18:23:16.957Z"
   },
   {
    "duration": 5,
    "start_time": "2023-01-29T18:23:17.107Z"
   },
   {
    "duration": 244,
    "start_time": "2023-01-29T18:23:17.113Z"
   },
   {
    "duration": 145,
    "start_time": "2023-01-29T18:23:17.358Z"
   },
   {
    "duration": 243,
    "start_time": "2023-01-29T18:23:17.505Z"
   },
   {
    "duration": 12,
    "start_time": "2023-01-29T18:23:17.751Z"
   },
   {
    "duration": 23,
    "start_time": "2023-01-29T18:23:17.765Z"
   },
   {
    "duration": 15,
    "start_time": "2023-01-29T18:23:17.790Z"
   },
   {
    "duration": 33,
    "start_time": "2023-01-29T18:23:17.807Z"
   },
   {
    "duration": 17,
    "start_time": "2023-01-29T18:23:17.842Z"
   },
   {
    "duration": 1129,
    "start_time": "2023-01-30T05:18:45.496Z"
   },
   {
    "duration": 221,
    "start_time": "2023-01-30T05:18:46.628Z"
   },
   {
    "duration": 11,
    "start_time": "2023-01-30T05:18:46.851Z"
   },
   {
    "duration": 10,
    "start_time": "2023-01-30T05:18:46.864Z"
   },
   {
    "duration": 17,
    "start_time": "2023-01-30T05:18:46.877Z"
   },
   {
    "duration": 15,
    "start_time": "2023-01-30T05:18:46.896Z"
   },
   {
    "duration": 40,
    "start_time": "2023-01-30T05:18:46.913Z"
   },
   {
    "duration": 9,
    "start_time": "2023-01-30T05:18:46.955Z"
   },
   {
    "duration": 6,
    "start_time": "2023-01-30T05:18:46.965Z"
   },
   {
    "duration": 5,
    "start_time": "2023-01-30T05:18:46.972Z"
   },
   {
    "duration": 6,
    "start_time": "2023-01-30T05:18:46.979Z"
   },
   {
    "duration": 9,
    "start_time": "2023-01-30T05:18:46.986Z"
   },
   {
    "duration": 21,
    "start_time": "2023-01-30T05:18:46.996Z"
   },
   {
    "duration": 18,
    "start_time": "2023-01-30T05:18:47.020Z"
   },
   {
    "duration": 48,
    "start_time": "2023-01-30T05:18:47.040Z"
   },
   {
    "duration": 18,
    "start_time": "2023-01-30T05:18:47.089Z"
   },
   {
    "duration": 22,
    "start_time": "2023-01-30T05:18:47.108Z"
   },
   {
    "duration": 22,
    "start_time": "2023-01-30T05:18:47.131Z"
   },
   {
    "duration": 18,
    "start_time": "2023-01-30T05:18:47.155Z"
   },
   {
    "duration": 27,
    "start_time": "2023-01-30T05:18:47.175Z"
   },
   {
    "duration": 11,
    "start_time": "2023-01-30T05:18:47.203Z"
   },
   {
    "duration": 34,
    "start_time": "2023-01-30T05:18:47.216Z"
   },
   {
    "duration": 23,
    "start_time": "2023-01-30T05:18:47.252Z"
   },
   {
    "duration": 45,
    "start_time": "2023-01-30T05:18:47.277Z"
   },
   {
    "duration": 10,
    "start_time": "2023-01-30T05:18:47.324Z"
   },
   {
    "duration": 36,
    "start_time": "2023-01-30T05:18:47.337Z"
   },
   {
    "duration": 39,
    "start_time": "2023-01-30T05:18:47.376Z"
   },
   {
    "duration": 34,
    "start_time": "2023-01-30T05:18:47.418Z"
   },
   {
    "duration": 26,
    "start_time": "2023-01-30T05:18:47.454Z"
   },
   {
    "duration": 22,
    "start_time": "2023-01-30T05:18:47.482Z"
   },
   {
    "duration": 17,
    "start_time": "2023-01-30T05:18:47.506Z"
   },
   {
    "duration": 289,
    "start_time": "2023-01-30T05:18:47.526Z"
   },
   {
    "duration": 276,
    "start_time": "2023-01-30T05:18:47.817Z"
   },
   {
    "duration": 195,
    "start_time": "2023-01-30T05:18:48.095Z"
   },
   {
    "duration": 307,
    "start_time": "2023-01-30T05:18:48.292Z"
   },
   {
    "duration": 230,
    "start_time": "2023-01-30T05:18:48.600Z"
   },
   {
    "duration": 349,
    "start_time": "2023-01-30T05:18:48.832Z"
   },
   {
    "duration": 8,
    "start_time": "2023-01-30T05:18:49.182Z"
   },
   {
    "duration": 123,
    "start_time": "2023-01-30T05:18:49.192Z"
   },
   {
    "duration": 4,
    "start_time": "2023-01-30T05:18:49.317Z"
   },
   {
    "duration": 144,
    "start_time": "2023-01-30T05:18:49.324Z"
   },
   {
    "duration": 179,
    "start_time": "2023-01-30T05:18:49.470Z"
   },
   {
    "duration": 5,
    "start_time": "2023-01-30T05:18:49.653Z"
   },
   {
    "duration": 235,
    "start_time": "2023-01-30T05:18:49.659Z"
   },
   {
    "duration": 191,
    "start_time": "2023-01-30T05:18:49.896Z"
   },
   {
    "duration": 178,
    "start_time": "2023-01-30T05:18:50.089Z"
   },
   {
    "duration": 10,
    "start_time": "2023-01-30T05:18:50.268Z"
   },
   {
    "duration": 9,
    "start_time": "2023-01-30T05:18:50.279Z"
   },
   {
    "duration": 13,
    "start_time": "2023-01-30T05:18:50.289Z"
   },
   {
    "duration": 53,
    "start_time": "2023-01-30T05:18:50.304Z"
   },
   {
    "duration": 18,
    "start_time": "2023-01-30T05:18:50.359Z"
   },
   {
    "duration": 50,
    "start_time": "2023-03-09T17:50:34.165Z"
   },
   {
    "duration": 1250,
    "start_time": "2023-03-09T17:50:40.235Z"
   },
   {
    "duration": 220,
    "start_time": "2023-03-09T17:50:41.487Z"
   },
   {
    "duration": 12,
    "start_time": "2023-03-09T17:50:41.709Z"
   },
   {
    "duration": 12,
    "start_time": "2023-03-09T17:50:41.722Z"
   },
   {
    "duration": 15,
    "start_time": "2023-03-09T17:50:41.736Z"
   },
   {
    "duration": 27,
    "start_time": "2023-03-09T17:50:41.753Z"
   },
   {
    "duration": 33,
    "start_time": "2023-03-09T17:50:41.782Z"
   },
   {
    "duration": 9,
    "start_time": "2023-03-09T17:50:41.817Z"
   },
   {
    "duration": 11,
    "start_time": "2023-03-09T17:50:41.827Z"
   },
   {
    "duration": 14,
    "start_time": "2023-03-09T17:50:41.839Z"
   },
   {
    "duration": 7,
    "start_time": "2023-03-09T17:50:41.855Z"
   },
   {
    "duration": 6,
    "start_time": "2023-03-09T17:50:41.863Z"
   },
   {
    "duration": 3,
    "start_time": "2023-03-09T17:50:41.871Z"
   },
   {
    "duration": 6,
    "start_time": "2023-03-09T17:50:41.877Z"
   },
   {
    "duration": 9,
    "start_time": "2023-03-09T17:50:41.885Z"
   },
   {
    "duration": 15,
    "start_time": "2023-03-09T17:50:41.895Z"
   },
   {
    "duration": 42,
    "start_time": "2023-03-09T17:50:41.911Z"
   },
   {
    "duration": 10,
    "start_time": "2023-03-09T17:50:41.956Z"
   },
   {
    "duration": 7,
    "start_time": "2023-03-09T17:50:41.968Z"
   },
   {
    "duration": 7,
    "start_time": "2023-03-09T17:50:41.977Z"
   },
   {
    "duration": 17,
    "start_time": "2023-03-09T17:50:41.985Z"
   },
   {
    "duration": 14,
    "start_time": "2023-03-09T17:50:42.003Z"
   },
   {
    "duration": 17,
    "start_time": "2023-03-09T17:50:42.019Z"
   },
   {
    "duration": 21,
    "start_time": "2023-03-09T17:50:42.037Z"
   },
   {
    "duration": 4,
    "start_time": "2023-03-09T17:50:42.060Z"
   },
   {
    "duration": 14,
    "start_time": "2023-03-09T17:50:42.066Z"
   },
   {
    "duration": 10,
    "start_time": "2023-03-09T17:50:42.082Z"
   },
   {
    "duration": 28,
    "start_time": "2023-03-09T17:50:42.094Z"
   },
   {
    "duration": 6,
    "start_time": "2023-03-09T17:50:42.123Z"
   },
   {
    "duration": 17,
    "start_time": "2023-03-09T17:50:42.131Z"
   },
   {
    "duration": 16,
    "start_time": "2023-03-09T17:50:42.152Z"
   },
   {
    "duration": 284,
    "start_time": "2023-03-09T17:50:42.170Z"
   },
   {
    "duration": 298,
    "start_time": "2023-03-09T17:50:42.455Z"
   },
   {
    "duration": 202,
    "start_time": "2023-03-09T17:50:42.755Z"
   },
   {
    "duration": 345,
    "start_time": "2023-03-09T17:50:42.959Z"
   },
   {
    "duration": 103,
    "start_time": "2023-03-09T17:50:43.305Z"
   },
   {
    "duration": 0,
    "start_time": "2023-03-09T17:50:43.411Z"
   },
   {
    "duration": 0,
    "start_time": "2023-03-09T17:50:43.412Z"
   },
   {
    "duration": 0,
    "start_time": "2023-03-09T17:50:43.413Z"
   },
   {
    "duration": 0,
    "start_time": "2023-03-09T17:50:43.414Z"
   },
   {
    "duration": 0,
    "start_time": "2023-03-09T17:50:43.416Z"
   },
   {
    "duration": 0,
    "start_time": "2023-03-09T17:50:43.417Z"
   },
   {
    "duration": 0,
    "start_time": "2023-03-09T17:50:43.418Z"
   },
   {
    "duration": 0,
    "start_time": "2023-03-09T17:50:43.419Z"
   },
   {
    "duration": 0,
    "start_time": "2023-03-09T17:50:43.421Z"
   },
   {
    "duration": 1,
    "start_time": "2023-03-09T17:50:43.422Z"
   },
   {
    "duration": 0,
    "start_time": "2023-03-09T17:50:43.424Z"
   },
   {
    "duration": 0,
    "start_time": "2023-03-09T17:50:43.425Z"
   },
   {
    "duration": 0,
    "start_time": "2023-03-09T17:50:43.455Z"
   },
   {
    "duration": 0,
    "start_time": "2023-03-09T17:50:43.457Z"
   },
   {
    "duration": 0,
    "start_time": "2023-03-09T17:50:43.458Z"
   },
   {
    "duration": 223,
    "start_time": "2023-03-09T17:52:15.797Z"
   }
  ],
  "kernelspec": {
   "display_name": "Python 3 (ipykernel)",
   "language": "python",
   "name": "python3"
  },
  "language_info": {
   "codemirror_mode": {
    "name": "ipython",
    "version": 3
   },
   "file_extension": ".py",
   "mimetype": "text/x-python",
   "name": "python",
   "nbconvert_exporter": "python",
   "pygments_lexer": "ipython3",
   "version": "3.9.5"
  },
  "toc": {
   "base_numbering": 1,
   "nav_menu": {},
   "number_sections": true,
   "sideBar": true,
   "skip_h1_title": true,
   "title_cell": "Table of Contents",
   "title_sidebar": "Contents",
   "toc_cell": false,
   "toc_position": {},
   "toc_section_display": true,
   "toc_window_display": false
  }
 },
 "nbformat": 4,
 "nbformat_minor": 4
}
